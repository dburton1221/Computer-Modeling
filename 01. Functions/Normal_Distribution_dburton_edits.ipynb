{
 "cells": [
  {
   "cell_type": "markdown",
   "metadata": {
    "collapsed": true
   },
   "source": [
    "# Learning to Write Functions with the Normal Distribution \n",
    "\n",
    "### Part I: The normal distribution\n",
    "\n",
    "Write a function that evaluates the Gaussian, or normal distribution at a specificed point. The formula is:\n",
    "\n",
    "$$n(x,\\sigma,\\mu) = \\frac{1}{ \\sqrt{2 \\pi \\sigma^2}} e^{-\\frac{(x-\\mu)^2}{2\\sigma^2}}$$\n",
    "\n",
    "This formula returns the probability that some some observation will have a value \\\\(x\\\\), if the underlying distribution of values is Gaussian with mean \\\\(\\mu\\\\) and standard deviation \\\\(\\sigma\\\\). For example, this function could tell you the probability of having a 6 foot 4 inch American woman, given  the average woman's height in America is 5 feet 3.7 inches, and the standard deviation is 2.7 inches. \n",
    "\n",
    "Note that to get the function to work you will need to $\\texttt{import pi}$, the $\\texttt{exp}$ (the base of the natural logorithm, $\\texttt{e}$, raised to a power) function, and the $\\texttt{sqrt}$ (square root) function. Bring them in from the $\\texttt{math}$ library. Take this opportunity to look at the functions avaiable in [$\\texttt{math}$](https://docs.python.org/2/library/math.html).  Import the functions and write a Python function that will return the value of the normal distribution given an $x$, $\\sigma$, and $\\mu$. When writing functions always be thinking ***what are the inputs*** and ***what are the outputs***."
   ]
  },
  {
   "cell_type": "code",
   "execution_count": 11,
   "metadata": {
    "collapsed": true
   },
   "outputs": [],
   "source": [
    "# After input, name the functions or constants that you need to bring in. Use commas to seperate them.\n",
    "from math import pi,exp,sqrt\n",
    "\n",
    "# Write your function below. Remember it's\n",
    "def Gauss(x_0,sig_0,mu_0):\n",
    "    probG=(1/sqrt(2*pi*(sig_0**2)))*exp(-((x_0-mu_0)**2)/(2*(sig_0**2)))\n",
    "    return probG"
   ]
  },
  {
   "cell_type": "markdown",
   "metadata": {},
   "source": [
    "Now use the function you wrote to print a table showing the value of the normal distribution for a value that is at the mean, and then .5, .75, 1.0, 2.0, and 3.0 standard deviations away from the mean. Note that the choices of $\\sigma$ and $\\mu$ are arbitrary, so for convenience use $\\sigma$=1 and $\\mu$=0. Also, compute the probability of a 6 foot 4 inch woman. Use what you've learned about printing to report all results to 4 significant digits."
   ]
  },
  {
   "cell_type": "code",
   "execution_count": 12,
   "metadata": {},
   "outputs": [
    {
     "name": "stdout",
     "output_type": "stream",
     "text": [
      "Values       Probability\n",
      "0.00         0.398942 \n",
      "0.50         0.352065 \n",
      "0.75         0.301137 \n",
      "1.00         0.241971 \n",
      "2.00         0.053991 \n",
      "3.00         0.004432 \n",
      "Chances of an American woman being 6 foot 4 inches:  4.603e-06\n"
     ]
    }
   ],
   "source": [
    "# Review formated printing here, https://www.python-course.eu/python3_formatted_output.php \n",
    "# if needed.\n",
    "arb_val00=[0,0.5,0.75,1.0,2.0,3.0]\n",
    "print(\"Values       Probability\")\n",
    "for val in arb_val00:\n",
    "    prob=Gauss(val,1,0)\n",
    "    print(\"%1.2f         %1.6f \" %(val,prob))\n",
    "w64=Gauss(76,2.7,63.7) #use inches!!!!!!!!\n",
    "print(\"Chances of an American woman being 6 foot 4 inches:  %.4g\" %w64)"
   ]
  },
  {
   "cell_type": "markdown",
   "metadata": {},
   "source": [
    "## Part II: Cumulative Probability Function (CDF)\n",
    "You probably found that the probability of an American woman being 6'4\" is vanishingly small. Why is that?\n",
    "\n",
    "Mostly because the value is precise. What should have been asked is the probability of an American woman being between in some range of values around 6'4\". The following puts us on the path to do that.\n",
    "\n",
    "A cummulative distribution function (CDF) is the integral, or sum, of a probability function from zero to a specified value $x$. It tells the probability of a measurement falling below some value, $x$. The CDF for the normal distribution is\n",
    "\n",
    "$$N(x,\\sigma,\\mu) = \\frac{1}{2} \\left( 1 + \\textrm{erf}\\left(\\frac{x-\\mu}{\\sqrt{2\\sigma^2}}\\right)\\right)$$\n",
    "\n",
    "where $\\texttt{erf}$ is the error function, which must be imported from the $\\texttt{math}$ library. Import $\\texttt{erf}$ and write a Python function to evaluate the CDF of the normal function.\n"
   ]
  },
  {
   "cell_type": "code",
   "execution_count": 13,
   "metadata": {
    "collapsed": true
   },
   "outputs": [],
   "source": [
    "# Write the function for N here.\n",
    "from math import erf\n",
    "def Ndist(x_1,sig_1,mu_1):\n",
    "    probN=0.5*(1+erf((x_1-mu_1)/sqrt(2*(sig_1**2))))\n",
    "    return probN"
   ]
  },
  {
   "cell_type": "markdown",
   "metadata": {},
   "source": [
    "## Part III: Probability of a measurement falling within an interval\n",
    "The fundamental theorem of calculus tells us the probability that a value falls within a range \\\\(x_0\\\\) to \\\\(x_1\\\\), \\\\(x_0<x_1\\\\) of the Gaussian, is given by the formula:\n",
    "\n",
    "$$r(x_0,x_1,\\sigma,\\mu) = N(x_1,\\sigma,\\mu) - N(x_0,\\sigma,\\mu)$$\n",
    "\n",
    "Write a Python function that will return \\\\(r(x_0,x_1,\\sigma,\\mu)\\\\). Observe that you can call a function from within a function. This will make your task much easier."
   ]
  },
  {
   "cell_type": "code",
   "execution_count": 14,
   "metadata": {
    "collapsed": true
   },
   "outputs": [],
   "source": [
    "# Write the function for r here.\n",
    "def Rxixo(x0,x1,sig_2,mu_2):\n",
    "    probR=Ndist(x1,sig_2,mu_2)-Ndist(x0,sig_2,mu_2)\n",
    "    return probR"
   ]
  },
  {
   "cell_type": "markdown",
   "metadata": {},
   "source": [
    "Now use the function $\\texttt{r}$ to print a table displaying the number of standard deviations from the mean in the first column, and the probability of being within that many standard deviations from the mean in the second column. Go up to 5 standard deviations from the mean and print to 4 significant digits. "
   ]
  },
  {
   "cell_type": "code",
   "execution_count": 18,
   "metadata": {},
   "outputs": [
    {
     "name": "stdout",
     "output_type": "stream",
     "text": [
      "Standard Deviation       Probability of Being Within\n",
      "      1                           0.6827 \n",
      "      2                           0.9545 \n",
      "      3                           0.9973 \n",
      "      4                           0.9999 \n",
      "      5                           1.0000 \n"
     ]
    }
   ],
   "source": [
    "# More formated printing and function calls.\n",
    "print(\"Standard Deviation       Probability of Being Within\") #printing the title\n",
    "arb_val01=[1,2,3,4,5] #our list of values\n",
    "for val in arb_val01: #iteratign through the items, calculating, and printing\n",
    "    prob=Rxixo(5.3083-val*0.225,5.3083+val*0.225,0.225,5.3083)\n",
    "    #the above uses the avg height in feet and adds and substracts the stdev*val to get\n",
    "    #upper and lower limits which are plugged into the Rxixo function\n",
    "    print(\"      %1.0f                           %1.4f \" %(val,prob))"
   ]
  },
  {
   "cell_type": "markdown",
   "metadata": {},
   "source": [
    "## Part IV: Applications\n",
    "\n",
    "* Now, return to the 6'4\" American woman. Assuming 6'4\" is within a quarter inch (between 6'3.75\" an 6'4.25\"), what is the probability? \n",
    "* What is the probability of an American woman being 6'4\" ***or taller***?\n",
    "* If the mean income in the United States is \\$50K per annum and the standard deviation is \\$35K per annum, what is the probability of someone making over \\$200K per annum? Does this seem right? What's the issue?\n",
    "* Find some other normally distribtuted phenomena and report the probability of an outlier."
   ]
  },
  {
   "cell_type": "code",
   "execution_count": 16,
   "metadata": {},
   "outputs": [
    {
     "name": "stdout",
     "output_type": "stream",
     "text": [
      "Probability of an American woman being 6 foot 4 inches: 2.37e-06\n",
      "Probability of an American woman being 6 foot 4 inches: 4.04e-06\n",
      "Probability of making over $200k per annum: 9.11e-06\n",
      "Probability of catchign a salmon over 50 pounds: 0.0521\n"
     ]
    }
   ],
   "source": [
    "# Call the functions to get the desired values.\n",
    "w64ex=Rxixo(75.75,76.25,2.7,63.7) #use inches\n",
    "w64up=Rxixo(75.75,120,2.7,63.7)\n",
    "twokup=Rxixo(200,10**100,35,50) #assuming thousand\n",
    "salmon=Rxixo(50,1000,8,37) #finding a salmon 50 pounds and up, using units of pounds\n",
    "print(\"Probability of an American woman being 6 foot 4 inches: %0.3g\" %w64ex)\n",
    "print(\"Probability of an American woman being 6 foot 4 inches: %0.3g\" %w64up)\n",
    "print(\"Probability of making over $200k per annum: %.3g\" %twokup)\n",
    "print(\"Probability of catchign a salmon over 50 pounds: %.3g\" %salmon)"
   ]
  },
  {
   "cell_type": "markdown",
   "metadata": {},
   "source": [
    "### A comment on the probability of earning more than  \\$200K per annum."
   ]
  },
  {
   "cell_type": "markdown",
   "metadata": {},
   "source": [
    "In reality, about [5.63%](https://en.wikipedia.org/wiki/Household_income_in_the_United_States) of American households earn \\$200,000 or more per year. The low probablility we compute, about 9.1$\\times$10$^{-4}$%, indicates that the distribution of income in the United States is not normally distributed. In truth, we have what is called a heavy tailed or Pareto distribution. This is interesting. What else might have a Pareto type distribution?"
   ]
  }
 ],
 "metadata": {
  "kernelspec": {
   "display_name": "Python 3",
   "language": "python",
   "name": "python3"
  },
  "language_info": {
   "codemirror_mode": {
    "name": "ipython",
    "version": 3
   },
   "file_extension": ".py",
   "mimetype": "text/x-python",
   "name": "python",
   "nbconvert_exporter": "python",
   "pygments_lexer": "ipython3",
   "version": "3.6.1"
  }
 },
 "nbformat": 4,
 "nbformat_minor": 1
}

{
 "cells": [
  {
   "cell_type": "markdown",
   "metadata": {},
   "source": [
    "## Overview\n",
    "\n",
    "This week, we discuss dictionaries (or hash tables), data structures which are highly efficient for storage and retrieval of information associated with a 'key'.  This is done through hashing, which will be discussed in class. In this assignment, we will learn to use dictionaries, and to read files. File reading is an essential skill for scientific programmers, as virtually all data, even data on the web, resides in files of some sort. Your operating system will treat many external devices that measure something as a file too. \n",
    "\n",
    "## Assignment\n",
    "\n",
    "Write a program to read the file `human_evolution.txt`, which holds information about human ancestors including weight, height, when they lived, and brain volume. Write a program that reads the file and stores the data in a dictionary called `humans`. The keys in the dictionary correspond to the species names, eg `\"H. habilis\"`, `\"H. erectus\"`, etc. The values associated with each key are themselves dictionaries. These dictionaries have keys corresponding to each column title, eg \"Lived\", \"Height\", \"Weight\", etc. The values of these nested dictionaries (one for each species) correspond to the data in the file. If done correctly, the dictionary called `humans` can be used as follows:\n",
    "\n",
    "`print(humans['H. floresiensis']['Mass'])`\n",
    "\n",
    "`>>>25`\n",
    "\n",
    "For instructional purposes, the data set here is small, but you should see the utility of such a data type when the data set is large. When reading the file, you are not permitted to change anything in the data file to make it easier to read. Print the entire dictionary (and sub-dictionaries) at the end of the program, so that the output can be inspected.\n",
    "\n",
    "Please note that due to the structure of the data itself, all data remain strings! You need not try and coerce data to make it numerical.\n",
    "\n",
    "### Technical Notes\n",
    "\n",
    "This assingment contains two new ideas; 1) dictionaries, and 2) file Input Output (I/O). First, the dictionary. \n",
    "\n",
    "#### Dictionary\n",
    "\n",
    "There are many  [good overviews](http://www.sthurlow.com/python/lesson06/) as well as a cheat sheet on how to use a dictionary. Important points for the assignment:\n",
    "\n",
    "* Dictionaries store information according to keys. \n",
    "* The information stored are values.\n",
    "* Creating a dictionary is like a list, but done with `d = {<key0>:<value0>,<key1>:<value1>,...}` noting that key/value pairs are serperated with \"`:`\" and entries are seperated with \"`,`\" and the whole thing is surrounded by \"`{}`\".\n",
    "* Values can be any valid Python data type, including dictionaries.\n",
    "* Getting a value back from a dictionary is done with `d[<key>]`.\n",
    "* Values can be added or changed with `d[<key>] = new_value`.\n",
    "\n",
    "#### File Input/Output\n",
    "\n",
    "While important, file I/O is often overlooked in introductory classes. Not here! We use it here, and later when reading spreadsheets. \n",
    "\n",
    "As with dictionaries, there are many good tutorials online. I liked [this one](http://www.afterhoursprogramming.com/tutorial/Python/Reading-Files/). Key points are as follows. Note that I use `<>` to indicate a variable that the programmer must provide - you can call these whatever you like, or specify a particular file.\n",
    "\n",
    "* Make the file something that can be accessed in a program with `<file_object> = open(\"<file_name>\")`, where `<file_object>` is any valid variable name and `<file_name>` is a full (including extensions) name of a file in the same directory as the program. \n",
    "* If the file is not in the same directory, then `<file_name>` has to include path information.\n",
    "* `<file_object>.readline()` will read one line, often useful for special cases in a text file, like the column titles, or a line of commments. \n",
    "* `for line in <file_object>:` is the key to getting the job done. Looping over each line of the file, things like `data = line.split()` will give you a list of the contents of each column.\n",
    "* Don't forget to do a `<file_object>.close()` at the end of file use to avoid 'unflushed buffers'.\n",
    "* \"Cleaning\" irregularities in data files is often a big part of the hassle. `<string>.strip()` might help  you, it removes white space before and after a string (but not in the middle. Logic tests on a leading character, such as `if l[0] == 'H':` are also useful. Many lines that are not interesting start with a special character, like `#`.\n",
    "\n",
    "##### File Example\n",
    "Below is an example that reads the file:\n",
    "\n",
    "`# test data file`\n",
    "\n",
    "1 2 3\n",
    "\n",
    "4 5 6\n",
    "\n",
    "7 8 9\n",
    "\n",
    "8 1 4\n",
    "\n",
    "6 9 2\n",
    "\n",
    "`# This is comment. It breaks the pattern in the data!`\n",
    "\n",
    "1 1 1\n",
    "\n",
    "Which I called test_data.txt. The program reads the file, adds the first two columns, and muliplies by the third."
   ]
  },
  {
   "cell_type": "code",
   "execution_count": 3,
   "metadata": {},
   "outputs": [
    {
     "name": "stdout",
     "output_type": "stream",
     "text": [
      "What is the name? (nothing to exit)\n",
      "Dan\n",
      "\n",
      "What is the phone number?\n",
      "5328061230986\n",
      "\n",
      "What is the name? (nothing to exit)\n",
      "Dave\n",
      "\n",
      "What is the phone number?\n",
      "158906589\n",
      "\n",
      "What is the name? (nothing to exit)\n",
      "Pink\n",
      "\n",
      "What is the phone number?\n",
      "13589609851\n",
      "\n",
      "What is the name? (nothing to exit)\n",
      "\n",
      "dict_keys(['Dan', 'Dave', 'Pink'])\n",
      "dict_values(['5328061230986', '158906589', '13589609851'])\n",
      "\n",
      "Dan 5328061230986\n",
      "Dave 158906589\n",
      "Pink 13589609851\n"
     ]
    }
   ],
   "source": [
    "#Example Dictionary\n",
    "phone_book={}\n",
    "while True:\n",
    "    print(\"What is the name? (nothing to exit)\")\n",
    "    name=input() #what will be our key\n",
    "    if name==\"\":\n",
    "        break\n",
    "    print()\n",
    "    print(\"What is the phone number?\")\n",
    "    number=input() #what will be our value\n",
    "    phone_book[name]=number #how we add key-value pairs into a dictionary\n",
    "    print()\n",
    "\n",
    "print(phone_book.keys()) #gives all the keys ina dictionary\n",
    "print(phone_book.values()) #gives all the values\n",
    "print()\n",
    "\n",
    "for names, numbers in phone_book.items(): #gives the key-value pairs\n",
    "    print(names,numbers)"
   ]
  },
  {
   "cell_type": "code",
   "execution_count": 7,
   "metadata": {},
   "outputs": [
    {
     "name": "stdout",
     "output_type": "stream",
     "text": [
      "{'Name': 'Helium', 'Mass': 2.006, 'Number': 2}\n",
      "2.006\n"
     ]
    }
   ],
   "source": [
    "#You can make a nested dictioanry\n",
    "periodic_table={\"H\":{\"Name\":\"Hydrogen\",\"Mass\":1.004,\"Number\":1},\"He\":{\"Name\":\"Helium\",\"Mass\":2.006,\"Number\":2}}\n",
    "print(periodic_table[\"He\"]) #grabbign the outer thing\n",
    "print(periodic_table[\"He\"][\"Mass\"]) #grabbing outer and inner thing"
   ]
  },
  {
   "cell_type": "code",
   "execution_count": 16,
   "metadata": {},
   "outputs": [
    {
     "name": "stdout",
     "output_type": "stream",
     "text": [
      "4.0\n",
      "10.0\n",
      "16.0\n",
      "12.0\n",
      "8.0\n",
      "2.0\n"
     ]
    }
   ],
   "source": [
    "example_file = open(\"test_data.txt\")\n",
    "for line in example_file:          # Each line in the file is iterated over.\n",
    "    if line[0]!=\"#\":#we are removing any comments\n",
    "        columns=line.split() #finds any space and gets rid of it\n",
    "        print(float(columns[0])+float(columns[2])) #float is required to make it add floatign point numbers\n",
    "        #if we did nto use float, it would have concatenated the numbers\n",
    "        #exmaple_file.seek(#) would bring teh points back to start\n",
    "example_file.close()"
   ]
  },
  {
   "cell_type": "markdown",
   "metadata": {},
   "source": [
    "### Working with `human_evolution.txt`\n",
    "Now dow this yourself, using the file `human_evolution.txt`. **Hint -** while I used `split()` in the previous example, achieving your goals here is best done by thinking carefully about which columns each data field is in. Don't forget to print the contents of the dictionary at the end, that's an important part of understanding how to iterate over keys."
   ]
  },
  {
   "cell_type": "code",
   "execution_count": 43,
   "metadata": {
    "collapsed": true
   },
   "outputs": [],
   "source": [
    "#not sure whwre I'm goign with this thing, we'll see what I do..."
   ]
  },
  {
   "cell_type": "code",
   "execution_count": 44,
   "metadata": {},
   "outputs": [
    {
     "name": "stdout",
     "output_type": "stream",
     "text": [
      "Species              Lived when      Adult        Adult       Brain volume \n",
      "\n",
      "                     (mill. yrs)     height (m)   mass (kg)   (cm**3) \n",
      "\n",
      "-------------------------------------------------------------------------------\n",
      "\n",
      "H. habilis           2.2 - 1.6       1.0 - 1.5    33 - 55     660\n",
      "\n",
      "H. erectus           1.4 - 0.2       1.8          60          850 (early) - 1100 (late)\n",
      "\n",
      "H. ergaster          1.9 - 1.4       1.9                      700 - 850\n",
      "\n",
      "H. heidelbergensis   0.6 - 0.35      1.8          60          1100 - 1400\n",
      "\n",
      "H. neanderthalensis  0.35 - 0.03     1.6          55 - 70     1200 - 1900\n",
      "\n",
      "H. sapiens sapiens   0.2 - present   1.4 - 1.9    50 - 100    1000 - 1850\n",
      "\n",
      "H. floresiensis      0.10 - 0.012    1.0          25          400\n",
      "\n",
      "-------------------------------------------------------------------------------\n",
      "\n",
      "\n",
      "\n",
      "Source: http://en.wikipedia.org/wiki/Human_evolution\n",
      "\n",
      "\n"
     ]
    }
   ],
   "source": [
    "humans=open(\"human_evolution.txt\") #open sthe fiel as a variable we can access\n",
    "\n",
    "for line in humans: #starting by printing every line\n",
    "    print(line) \n",
    "print()\n",
    "\n",
    "humans.close()"
   ]
  },
  {
   "cell_type": "code",
   "execution_count": 45,
   "metadata": {},
   "outputs": [
    {
     "name": "stdout",
     "output_type": "stream",
     "text": [
      "['Species', 'Lived', 'when', 'Adult', 'Adult', 'Brain', 'volume'] 7\n",
      "['(mill.', 'yrs)', 'height', '(m)', 'mass', '(kg)', '(cm**3)'] 7\n",
      "['-------------------------------------------------------------------------------'] 1\n",
      "['H.', 'habilis', '2.2', '-', '1.6', '1.0', '-', '1.5', '33', '-', '55', '660'] 12\n",
      "['H.', 'erectus', '1.4', '-', '0.2', '1.8', '60', '850', '(early)', '-', '1100', '(late)'] 12\n",
      "['H.', 'ergaster', '1.9', '-', '1.4', '1.9', '700', '-', '850'] 9\n",
      "['H.', 'heidelbergensis', '0.6', '-', '0.35', '1.8', '60', '1100', '-', '1400'] 10\n",
      "['H.', 'neanderthalensis', '0.35', '-', '0.03', '1.6', '55', '-', '70', '1200', '-', '1900'] 12\n",
      "['H.', 'sapiens', 'sapiens', '0.2', '-', 'present', '1.4', '-', '1.9', '50', '-', '100', '1000', '-', '1850'] 15\n",
      "['H.', 'floresiensis', '0.10', '-', '0.012', '1.0', '25', '400'] 8\n",
      "['-------------------------------------------------------------------------------'] 1\n",
      "[] 0\n",
      "['Source:', 'http://en.wikipedia.org/wiki/Human_evolution'] 2\n"
     ]
    }
   ],
   "source": [
    "humans=open(\"human_evolution.txt\")\n",
    "\n",
    "for line in humans: #starting by printing every line\n",
    "    s_line=line.split() #creatign a list that excludes all whitespace characters\n",
    "    print(s_line,len(s_line))\n",
    "\n",
    "humans.close()"
   ]
  },
  {
   "cell_type": "code",
   "execution_count": 24,
   "metadata": {},
   "outputs": [
    {
     "name": "stdout",
     "output_type": "stream",
     "text": [
      "H.habilis\n",
      "H.erectus\n",
      "H.ergaster\n",
      "H.heidelbergensis\n",
      "H.neanderthalensis\n",
      "H.sapienssapiens\n",
      "H.floresiensis\n",
      "\n",
      "\n",
      "\n"
     ]
    }
   ],
   "source": [
    "#let's try processing the information some\n",
    "humans=open(\"human_evolution.txt\") #open sthe fiel as a variable we can access\n",
    "\n",
    "for line in humans: #visualizing how we're goign to take the lines and make them into columns\n",
    "    if line[0] not in [\"S\",\"-\",\" \"]: #avoiding all the excess stuff\n",
    "        names=line[0:20] #the relatiev section where names would be\n",
    "        names=names.replace(\" \",\"\") #getting rid of teh whitespaces\n",
    "        print(names)\n",
    "print()\n",
    "\n",
    "humans.close()"
   ]
  },
  {
   "cell_type": "code",
   "execution_count": 32,
   "metadata": {},
   "outputs": [
    {
     "name": "stdout",
     "output_type": "stream",
     "text": [
      "2.2-1.6\n",
      "1.4-0.2\n",
      "1.9-1.4\n",
      "0.6-0.35\n",
      "0.35-0.03\n",
      "0.2-present\n",
      "0.10-0.012\n",
      "\n",
      "\n"
     ]
    }
   ],
   "source": [
    "humans=open(\"human_evolution.txt\") #open sthe fiel as a variable we can access\n",
    "\n",
    "for line in humans: #visualizing how we're goign to take the lines and make them into columns\n",
    "    if line[0] not in [\"S\",\"-\",\" \"]: #avoiding all the excess stuff\n",
    "        living=line[20:35]\n",
    "        living=living.replace(\" \",\"\") #getting rid of teh whitespaces\n",
    "        print(living)\n",
    "print()\n",
    "\n",
    "humans.close()"
   ]
  },
  {
   "cell_type": "code",
   "execution_count": 33,
   "metadata": {},
   "outputs": [
    {
     "name": "stdout",
     "output_type": "stream",
     "text": [
      "1.0-1.5\n",
      "1.8\n",
      "1.9\n",
      "1.8\n",
      "1.6\n",
      "1.4-1.9\n",
      "1.0\n",
      "\n",
      "\n"
     ]
    }
   ],
   "source": [
    "humans=open(\"human_evolution.txt\") #open sthe fiel as a variable we can access\n",
    "\n",
    "for line in humans: #visualizing how we're goign to take the lines and make them into columns\n",
    "    if line[0] not in [\"S\",\"-\",\" \"]: #avoiding all the excess stuff\n",
    "        height=line[35:50]\n",
    "        height=height.replace(\" \",\"\") #getting rid of teh whitespaces\n",
    "        print(height)\n",
    "print()\n",
    "\n",
    "humans.close()"
   ]
  },
  {
   "cell_type": "code",
   "execution_count": 34,
   "metadata": {},
   "outputs": [
    {
     "name": "stdout",
     "output_type": "stream",
     "text": [
      "33-55\n",
      "60\n",
      "\n",
      "60\n",
      "55-70\n",
      "50-100\n",
      "25\n",
      "\n",
      "\n"
     ]
    }
   ],
   "source": [
    "humans=open(\"human_evolution.txt\") #open sthe fiel as a variable we can access\n",
    "\n",
    "for line in humans: #visualizing how we're goign to take the lines and make them into columns\n",
    "    if line[0] not in [\"S\",\"-\",\" \"]: #avoiding all the excess stuff\n",
    "        mass=line[50:60]\n",
    "        mass=mass.replace(\" \",\"\") #getting rid of teh whitespaces\n",
    "        print(mass)\n",
    "print()\n",
    "\n",
    "humans.close()"
   ]
  },
  {
   "cell_type": "code",
   "execution_count": 35,
   "metadata": {},
   "outputs": [
    {
     "name": "stdout",
     "output_type": "stream",
     "text": [
      "660\n",
      "\n",
      "850(early)-1100(late)\n",
      "\n",
      "700-850\n",
      "\n",
      "1100-1400\n",
      "\n",
      "1200-1900\n",
      "\n",
      "1000-1850\n",
      "\n",
      "400\n",
      "\n",
      "\n",
      "\n"
     ]
    }
   ],
   "source": [
    "humans=open(\"human_evolution.txt\") #open sthe fiel as a variable we can access\n",
    "\n",
    "for line in humans: #visualizing how we're goign to take the lines and make them into columns\n",
    "    if line[0] not in [\"S\",\"-\",\" \"]: #avoiding all the excess stuff\n",
    "        brain=line[60:]\n",
    "        brain=brain.replace(\" \",\"\") #getting rid of teh whitespaces\n",
    "        print(brain)\n",
    "print()\n",
    "\n",
    "humans.close()"
   ]
  },
  {
   "cell_type": "code",
   "execution_count": 9,
   "metadata": {},
   "outputs": [
    {
     "name": "stdout",
     "output_type": "stream",
     "text": [
      "Species              Lived when      Adult        Adult       Brain volume \n",
      "                     (mill. yrs)     height (m)   mass (kg)   (cm**3) \n",
      "-------------------------------------------------------------------------------\n",
      "H. habilis           2.2 - 1.6       1.0 - 1.5    33 - 55     660\n",
      "H. erectus           1.4 - 0.2       1.8          60          850 (early) - 1100 (late)\n",
      "H. ergaster          1.9 - 1.4       1.9                      700 - 850\n",
      "H. heidelbergensis   0.6 - 0.35      1.8          60          1100 - 1400\n",
      "H. neanderthalensis  0.35 - 0.03     1.6          55 - 70     1200 - 1900\n",
      "H. sapiens sapiens   0.2 - present   1.4 - 1.9    50 - 100    1000 - 1850\n",
      "H. floresiensis      0.10 - 0.012    1.0          25          400\n",
      "-------------------------------------------------------------------------------\n",
      "\n",
      "Source: http://en.wikipedia.org/wiki/Human_evolution\n"
     ]
    }
   ],
   "source": [
    "humans=open(\"human_evolution.txt\")\n",
    "import re #i'm going to use regular expressions, because make life easier\n",
    "l_f=re.compile('.*$') #we find eveyrthing up until the newline\n",
    "\n",
    "for line in humans: #starting by printing every line\n",
    "    l_s=l_f.match(line) #we search the string for matches to the regular expression\n",
    "    l_h=l_s.group() #we make a variable of the whole matches which would be thta entire line\n",
    "    print(l_h) #we print \n",
    "humans.close()"
   ]
  },
  {
   "cell_type": "code",
   "execution_count": 52,
   "metadata": {},
   "outputs": [
    {
     "name": "stdout",
     "output_type": "stream",
     "text": [
      "Monkey on a pedestal\n",
      "Monkey on a pedestal\n",
      "Monkey on a pedestal\n",
      "H. habilis\n",
      "H. erectus\n",
      "H. ergaster\n",
      "H. heidelbergensis\n",
      "H. neanderthalensis\n",
      "H. sapiens\n",
      "H. floresiensis\n",
      "Monkey on a pedestal\n",
      "Monkey on a pedestal\n",
      "Monkey on a pedestal\n"
     ]
    }
   ],
   "source": [
    "humans=open(\"human_evolution.txt\")\n",
    "l_f=re.compile('\\w. \\w*') #finding matches for the human names\n",
    "\n",
    "for line in humans: #starting by printing every line\n",
    "    try:\n",
    "        l_s=l_f.match(line) #we search the string for matches to the regular expression\n",
    "        l_h=l_s.group() #we make a variable of the whole matches which would be thta entire line\n",
    "        print(l_h) #we print \n",
    "    except:\n",
    "        print(\"Monkey on a pedestal\")\n",
    "humans.close()"
   ]
  },
  {
   "cell_type": "code",
   "execution_count": 12,
   "metadata": {},
   "outputs": [
    {
     "name": "stdout",
     "output_type": "stream",
     "text": [
      "['H.habilis', 'H.erectus', 'H.ergaster', 'H.heidelbergensis', 'H.neanderthalensis', 'H.sapienssapiens', 'H.floresiensis', '\\n'] \n",
      " ['2.2-1.6', '1.4-0.2', '1.9-1.4', '0.6-0.35', '0.35-0.03', '0.2-present', '0.10-0.012', ''] \n",
      " ['1.0-1.5', '1.8', '1.9', '1.8', '1.6', '1.4-1.9', '1.0', ''] \n",
      " ['33-55', '60', '', '60', '55-70', '50-100', '25', ''] \n",
      " ['660', '850(early)-1100(late)', '700-850', '1100-1400', '1200-1900', '1000-1850', '400', '']\n",
      "\n",
      "['H.habilis', 'H.erectus', 'H.ergaster', 'H.heidelbergensis', 'H.neanderthalensis', 'H.sapienssapiens', 'H.floresiensis'] 7 \n",
      " ['2.2-1.6', '1.4-0.2', '1.9-1.4', '0.6-0.35', '0.35-0.03', '0.2-present', '0.10-0.012'] 7 \n",
      " ['1.0-1.5', '1.8', '1.9', '1.8', '1.6', '1.4-1.9', '1.0'] 7 \n",
      " ['33-55', '60', '', '60', '55-70', '50-100', '25'] 7 \n",
      " ['660', '850(early)-1100(late)', '700-850', '1100-1400', '1200-1900', '1000-1850', '400'] 7\n"
     ]
    }
   ],
   "source": [
    "#putting it all together\n",
    "\n",
    "import re #regular expressions just b/c I want to get rid of the newline characters\n",
    "l_f=re.compile('.*$') #we find eveyrthing up until the newline character\n",
    "\n",
    "names=[]\n",
    "living=[]\n",
    "height=[]\n",
    "mass=[]\n",
    "brain=[]\n",
    "\n",
    "humans=open(\"human_evolution.txt\") #open sthe fiel as a variable we can access\n",
    "for line in humans: #visualizing how we're goign to take the lines and make them into columns\n",
    "    if line[0] not in [\"S\",\"-\",\" \"]: #avoiding all the excess stuff\n",
    "        #the names\n",
    "        names_i=line[0:20] #the relatiev section where names would be\n",
    "        names.append(names_i.replace(\" \",\"\")) #getting rid of teh whitespaces\n",
    "        #living\n",
    "        living_i=line[20:35]\n",
    "        living.append(living_i.replace(\" \",\"\"))\n",
    "        #height\n",
    "        height_i=line[35:50]\n",
    "        height.append(height_i.replace(\" \",\"\"))\n",
    "        #mass\n",
    "        mass_i=line[50:60]\n",
    "        mass.append(mass_i.replace(\" \",\"\"))\n",
    "        #Braaaaiinzz!!!\n",
    "        l_s=l_f.match(line) #we search the string for matches to the regular expression\n",
    "        l_h=l_s.group() #we make a variable of the whole matches which would be thta entire line\n",
    "        brain_i=l_h[60:]\n",
    "        brain.append(brain_i.replace(\" \",\"\"))\n",
    "humans.close()\n",
    "\n",
    "print(names,\"\\n\",living,\"\\n\",height,\"\\n\",mass,\"\\n\",brain)\n",
    "print()\n",
    "\n",
    "#lets' clean up the contents of our lists\n",
    "def cleaner(lst):\n",
    "    if \"\\n\" in lst:\n",
    "        lst.remove(\"\\n\")\n",
    "    if lst[-1]=='':\n",
    "        del lst[-1]\n",
    "        \n",
    "\n",
    "#cleanign all of the lists up\n",
    "cleaner(names)\n",
    "cleaner(living)\n",
    "cleaner(height)\n",
    "cleaner(mass)\n",
    "cleaner(brain)\n",
    "\n",
    "print(names,len(names),\"\\n\",living,len(living),\"\\n\",height,len(height),\"\\n\",mass,len(mass),\"\\n\",brain,len(brain))"
   ]
  },
  {
   "cell_type": "code",
   "execution_count": 20,
   "metadata": {},
   "outputs": [
    {
     "name": "stdout",
     "output_type": "stream",
     "text": [
      "{'H.habilis': {'Lived When (mil. yrs)': '2.2-1.6', 'Adult Height (m)': '1.0-1.5', 'Body Mass (kg)': '33-55', 'Brain Volume (cm**3)': '660'}, 'H.erectus': {'Lived When (mil. yrs)': '1.4-0.2', 'Adult Height (m)': '1.8', 'Body Mass (kg)': '60', 'Brain Volume (cm**3)': '850(early)-1100(late)'}, 'H.ergaster': {'Lived When (mil. yrs)': '1.9-1.4', 'Adult Height (m)': '1.9', 'Body Mass (kg)': '', 'Brain Volume (cm**3)': '700-850'}, 'H.heidelbergensis': {'Lived When (mil. yrs)': '0.6-0.35', 'Adult Height (m)': '1.8', 'Body Mass (kg)': '60', 'Brain Volume (cm**3)': '1100-1400'}, 'H.neanderthalensis': {'Lived When (mil. yrs)': '0.35-0.03', 'Adult Height (m)': '1.6', 'Body Mass (kg)': '55-70', 'Brain Volume (cm**3)': '1200-1900'}, 'H.sapienssapiens': {'Lived When (mil. yrs)': '0.2-present', 'Adult Height (m)': '1.4-1.9', 'Body Mass (kg)': '50-100', 'Brain Volume (cm**3)': '1000-1850'}, 'H.floresiensis': {'Lived When (mil. yrs)': '0.10-0.012', 'Adult Height (m)': '1.0', 'Body Mass (kg)': '25', 'Brain Volume (cm**3)': '400'}}\n"
     ]
    }
   ],
   "source": [
    "#putting it all into a dictionary\n",
    "\n",
    "import re #regular expressions just b/c I want to get rid of the newline characters\n",
    "l_f=re.compile('.*$') #we find eveyrthing up until the newline character\n",
    "\n",
    "#our lists of data from the columns, yet to be filled\n",
    "names=[]\n",
    "living=[]\n",
    "height=[]\n",
    "mass=[]\n",
    "brain=[]\n",
    "\n",
    "humans=open(\"human_evolution.txt\") #open sthe fiel as a variable we can access\n",
    "for line in humans: #visualizing how we're goign to take the lines and make them into columns\n",
    "    if line[0] not in [\"S\",\"-\",\" \"]: #avoiding all the excess stuff\n",
    "        #the names\n",
    "        names_i=line[0:20] #the relatiev section where names would be\n",
    "        names.append(names_i.replace(\" \",\"\")) #getting rid of teh whitespaces and appending it to our lists\n",
    "        #living\n",
    "        living_i=line[20:35]\n",
    "        living.append(living_i.replace(\" \",\"\"))\n",
    "        #height\n",
    "        height_i=line[35:50]\n",
    "        height.append(height_i.replace(\" \",\"\"))\n",
    "        #mass\n",
    "        mass_i=line[50:60]\n",
    "        mass.append(mass_i.replace(\" \",\"\"))\n",
    "        #Braaaaiinzz!!!\n",
    "        l_s=l_f.match(line) #we search the string for matches to the regular expression\n",
    "        l_h=l_s.group() #we make a variable of the whole matches which would be thta entire line\n",
    "        brain_i=l_h[60:]\n",
    "        brain.append(brain_i.replace(\" \",\"\"))\n",
    "humans.close()\n",
    "\n",
    "#lets' clean up the contents of our lists\n",
    "def cleaner(lst):\n",
    "    if \"\\n\" in lst:\n",
    "        lst.remove(\"\\n\")\n",
    "    if lst[-1]=='':\n",
    "        del lst[-1]\n",
    "        \n",
    "\n",
    "#cleanign all of the lists up\n",
    "cleaner(names)\n",
    "cleaner(living)\n",
    "cleaner(height)\n",
    "cleaner(mass)\n",
    "cleaner(brain)\n",
    "\n",
    "#Our dictioanries being made\n",
    "human_evo={}\n",
    "for person in range(len(names)):\n",
    "    personal_data={}\n",
    "    n_person=names[person]\n",
    "    personal_data[\"Lived When (mil. yrs)\"]=living[person]\n",
    "    personal_data[\"Adult Height (m)\"]=height[person]\n",
    "    personal_data[\"Body Mass (kg)\"]=mass[person]\n",
    "    personal_data[\"Brain Volume (cm**3)\"]=brain[person]\n",
    "    human_evo[n_person]=personal_data\n",
    "\n",
    "print(human_evo)"
   ]
  },
  {
   "cell_type": "code",
   "execution_count": 31,
   "metadata": {},
   "outputs": [
    {
     "name": "stdout",
     "output_type": "stream",
     "text": [
      "H.habilis\n",
      "Lived When (mil. yrs) 2.2-1.6\n",
      "Adult Height (m) 1.0-1.5\n",
      "Body Mass (kg) 33-55\n",
      "Brain Volume (cm**3) 660\n",
      "\n",
      "H.erectus\n",
      "Lived When (mil. yrs) 1.4-0.2\n",
      "Adult Height (m) 1.8\n",
      "Body Mass (kg) 60\n",
      "Brain Volume (cm**3) 850(early)-1100(late)\n",
      "\n",
      "H.ergaster\n",
      "Lived When (mil. yrs) 1.9-1.4\n",
      "Adult Height (m) 1.9\n",
      "Body Mass (kg) \n",
      "Brain Volume (cm**3) 700-850\n",
      "\n",
      "H.heidelbergensis\n",
      "Lived When (mil. yrs) 0.6-0.35\n",
      "Adult Height (m) 1.8\n",
      "Body Mass (kg) 60\n",
      "Brain Volume (cm**3) 1100-1400\n",
      "\n",
      "H.neanderthalensis\n",
      "Lived When (mil. yrs) 0.35-0.03\n",
      "Adult Height (m) 1.6\n",
      "Body Mass (kg) 55-70\n",
      "Brain Volume (cm**3) 1200-1900\n",
      "\n",
      "H.sapienssapiens\n",
      "Lived When (mil. yrs) 0.2-present\n",
      "Adult Height (m) 1.4-1.9\n",
      "Body Mass (kg) 50-100\n",
      "Brain Volume (cm**3) 1000-1850\n",
      "\n",
      "H.floresiensis\n",
      "Lived When (mil. yrs) 0.10-0.012\n",
      "Adult Height (m) 1.0\n",
      "Body Mass (kg) 25\n",
      "Brain Volume (cm**3) 400\n",
      "\n"
     ]
    }
   ],
   "source": [
    "#putting it all into a dictionary\n",
    "\n",
    "import re #regular expressions just b/c I want to get rid of the newline characters\n",
    "l_f=re.compile('.*$') #we find eveyrthing up until the newline character\n",
    "\n",
    "#our lists of data from the columns, yet to be filled\n",
    "names=[]\n",
    "living=[]\n",
    "height=[]\n",
    "mass=[]\n",
    "brain=[]\n",
    "\n",
    "humans=open(\"human_evolution.txt\") #open sthe fiel as a variable we can access\n",
    "for line in humans: #visualizing how we're goign to take the lines and make them into columns\n",
    "    if line[0] not in [\"S\",\"-\",\" \"]: #avoiding all the excess stuff\n",
    "        #the names\n",
    "        names_i=line[0:20] #the relatiev section where names would be\n",
    "        names.append(names_i.replace(\" \",\"\")) #getting rid of teh whitespaces and appending it to our lists\n",
    "        #living\n",
    "        living_i=line[20:35]\n",
    "        living.append(living_i.replace(\" \",\"\"))\n",
    "        #height\n",
    "        height_i=line[35:50]\n",
    "        height.append(height_i.replace(\" \",\"\"))\n",
    "        #mass\n",
    "        mass_i=line[50:60]\n",
    "        mass.append(mass_i.replace(\" \",\"\"))\n",
    "        #Braaaaiinzz!!!\n",
    "        l_s=l_f.match(line) #we search the string for matches to the regular expression\n",
    "        l_h=l_s.group() #we make a variable of the whole matches which would be thta entire line\n",
    "        brain_i=l_h[60:]\n",
    "        brain.append(brain_i.replace(\" \",\"\"))\n",
    "humans.close()\n",
    "\n",
    "#lets' clean up the contents of our lists\n",
    "def cleaner(lst):\n",
    "    if \"\\n\" in lst: #gettign rid of nay newline characters that got through\n",
    "        lst.remove(\"\\n\")\n",
    "    if lst[-1]=='': #deletign the empty strings at teh end of the lsist\n",
    "        del lst[-1]\n",
    "        \n",
    "\n",
    "#cleanign all of the lists up\n",
    "cleaner(names)\n",
    "cleaner(living)\n",
    "cleaner(height)\n",
    "cleaner(mass)\n",
    "cleaner(brain)\n",
    "\n",
    "#Our dictioanries being made\n",
    "human_evo={}+\n",
    "for person in range(len(names)): #person is a number\n",
    "    personal_data={} #personal data is an empty dictionary to fill\n",
    "    n_person=names[person] #the name of a person is \n",
    "    personal_data[\"Lived When (mil. yrs)\"]=living[person] #we add key-val pairs into the dictioanry\n",
    "    personal_data[\"Adult Height (m)\"]=height[person] #from our lists\n",
    "    personal_data[\"Body Mass (kg)\"]=mass[person]\n",
    "    personal_data[\"Brain Volume (cm**3)\"]=brain[person]\n",
    "    human_evo[n_person]=personal_data\n",
    "\n",
    "for key,val in human_evo.items(): #we get items from the dictionary\n",
    "    print(key) #we print the key\n",
    "    for kee,vaa in val.items(): #teh value accessed is a dictionary\n",
    "        print(kee,vaa) #so we print a key and val from that dictionary\n",
    "    print() #we make a new line b/c why nto make it look nice\n",
    "        "
   ]
  }
 ],
 "metadata": {
  "kernelspec": {
   "display_name": "Python 3",
   "language": "python",
   "name": "python3"
  },
  "language_info": {
   "codemirror_mode": {
    "name": "ipython",
    "version": 3
   },
   "file_extension": ".py",
   "mimetype": "text/x-python",
   "name": "python",
   "nbconvert_exporter": "python",
   "pygments_lexer": "ipython3",
   "version": "3.6.1"
  }
 },
 "nbformat": 4,
 "nbformat_minor": 1
}

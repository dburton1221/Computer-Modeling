{
 "cells": [
  {
   "cell_type": "markdown",
   "metadata": {},
   "source": [
    "## Longest Plateau\n",
    "### Problem statement\n",
    "Given a `numpy array` of integers, find the length and location of the longest contiguous sequence of equal values where the values of the elements just before and just after this sequence are smaller.\n",
    "\n",
    "### Implementation details\n",
    "#### Function signature\n",
    "Write a function that accepts an array as input. The function should return three integers:\n",
    "* starting index of longest plateau.\n",
    "* ending index (plus one) of the longest plateau.\n",
    "* length of the longest plateau.\n",
    "\n",
    "#### Example\n",
    "For example, if the array is (with indices below for convenience):\n",
    "\n",
    "[1 1 1 1 1 1 2 3 2 3 2 3 3 3 3 3 3 1 1 2]\n",
    "\n",
    "   0  1 2 3 4 5 6 7 8 9 0 1 2 3 4 5 6 7 8 9\n",
    "\n",
    "the function should return (start, stop, length):\n",
    "\n",
    "(11, 17, 6)\n",
    "\n",
    "Note that because we do not know what comes before the 1 at position 0, it is not a plateau.\n",
    "\n",
    "Let's agree that we'll return the first instance in the case of a tie.\n",
    "\n",
    "#### Testing\n",
    "\n",
    "For testing include a optional arguement to your function called display. By default it should be false. If it is true, then the longest plateau will be displayed as follows:\n",
    "\n",
    "[1 1 1 1 1 1 2 3 2 3 2 3 3 3 3 3 3 1 1 2]\n",
    "\n",
    "                  s------e\n",
    " \n",
    "(Note printing is strange with Jupyter notebooks s under the first member, e under the last, and dashes under the rest.)\n",
    "\n",
    "\n",
    "#### Hints\n",
    "\n",
    "* Find differences between neighboring positions in `numpy` arrays\n",
    "* no difference is a plateau\n",
    "* positive difference is up to a plateau\n",
    "* negative difference is down off the plateau\n",
    "* look for the pattern up, plateau, down.\n",
    "* use test data from `randint`, see below"
   ]
  },
  {
   "cell_type": "code",
   "execution_count": 1,
   "metadata": {},
   "outputs": [
    {
     "name": "stdout",
     "output_type": "stream",
     "text": [
      "[3 2 2 1 1 3 3 3 3 3 1 1 1 3 1 3 3 1 3 3]\n"
     ]
    }
   ],
   "source": [
    "from pylab import randint\n",
    "a = randint(1,4,20) # Start, stop+1, number of samples...\n",
    "print(a)"
   ]
  },
  {
   "cell_type": "code",
   "execution_count": 2,
   "metadata": {},
   "outputs": [
    {
     "data": {
      "text/plain": [
       "(5, 9, 5)"
      ]
     },
     "execution_count": 2,
     "metadata": {},
     "output_type": "execute_result"
    }
   ],
   "source": [
    "def l_plat(ary):\n",
    "    end,start=0,0\n",
    "    gend,gstart=0,0\n",
    "    glength=0\n",
    "    for i in range(0,len(ary)-1):\n",
    "        if ary[i]==ary[i+1]:\n",
    "            start=i\n",
    "            end=i+1\n",
    "            while ary[start]==ary[end]:\n",
    "                end+=1\n",
    "                if end+1>len(ary): #we break if before have gone too far\n",
    "                    break\n",
    "            if (end-start)>(gend-gstart): #if current length is longer then we reassign what the longest is\n",
    "                gend,gstart=end,start\n",
    "                glength=gend-gstart\n",
    "    return(gstart,gend-1,glength)\n",
    "\n",
    "l_plat(a)"
   ]
  },
  {
   "cell_type": "markdown",
   "metadata": {},
   "source": [
    "### Final test\n",
    "To demonstrate your function works, print the longest plaeau of the following arrays. "
   ]
  },
  {
   "cell_type": "code",
   "execution_count": 3,
   "metadata": {
    "collapsed": true
   },
   "outputs": [],
   "source": [
    "from numpy import array\n",
    "a1 = array([1, 4, 3, 2, 1, 2, 0, 3, 2, 3, 1, 3, 0, 1, 4, 0, 0, 1, 3, 3, 0, 2, 5, 5,\\\n",
    "    0, 4, 3, 3, 0, 1, 4, 4, 3, 0, 5, 2, 2, 3, 2, 4, 5, 5, 5, 5, 0, 4, 3, 1, 2, 1,\\\n",
    "    5, 4, 0, 4, 3, 2, 5, 1, 5, 0, 3, 3, 2, 4, 1, 4, 0, 5, 4, 5, 3, 3, 5, 2, 0,\\\n",
    "    3, 3, 0, 1, 1, 0, 0, 5, 0, 0, 5, 0, 0, 4, 5, 2, 2, 1, 0, 5, 1, 3, 5, 5, 1])\n",
    "\n",
    "a2 = array([0, 2, 1, 0, 2, 1, 1, 2, 5, 2, 0, 0, 0, 0, 2, 1, 0, 4, 2, 3, 1, 1, 4, 0,\\\n",
    "    2, 1, 3, 2, 0, 0, 3, 0, 5, 2, 0, 1, 5, 0, 3, 4, 4, 1, 0, 4, 4, 4, 1, 4, 3, 5,\\\n",
    "    3, 1, 4, 4, 3, 0, 1, 0, 1, 3, 1, 2, 2, 1, 2, 3, 4, 5, 3, 0, 1, 2, 2, 1, 0,\\\n",
    "    5, 5, 3, 2, 4, 0, 4, 3, 2, 0, 0, 0, 5, 5, 4, 3, 4, 0, 4, 1, 0, 4, 3, 5, 1])\n",
    "\n",
    "a3 = array([3, 3, 4, 5, 0, 4, 0, 4, 5, 0, 2, 1, 0, 5, 3, 0, 3, 5, 0, 1, 1, 3, 3, 3, \\\n",
    "     4, 3, 5, 3, 0, 5, 4, 0, 2, 1, 3, 0, 2, 2, 4, 3, 4, 0, 1, 4, 2, 5, 0, 1, 1, 2,\\\n",
    "    1, 4, 1, 1, 4, 2, 0, 3, 2, 1, 3, 0, 5, 5, 1, 2, 1, 1, 3, 3, 2, 1, 5, 3, 1,\\\n",
    "    3, 5, 3, 4, 1, 3, 4, 2, 4, 4, 2, 5, 0, 0, 0, 1, 1, 4, 0, 2, 4, 4, 3, 1, 3])\n",
    "\n",
    "a4 = array([1, 1, 1, 2, 1, 1, 3, 2, 2, 3, 1, 3, 3, 3, 3, 3, 1, 3, 1, 2, 1, 3, 3, 3, 2])\n"
   ]
  },
  {
   "cell_type": "code",
   "execution_count": 4,
   "metadata": {},
   "outputs": [
    {
     "name": "stdout",
     "output_type": "stream",
     "text": [
      "(40, 43, 4)\n",
      "(10, 13, 4)\n",
      "(21, 23, 3)\n"
     ]
    }
   ],
   "source": [
    "print(l_plat(a1))\n",
    "print(l_plat(a2))\n",
    "print(l_plat(a3))"
   ]
  }
 ],
 "metadata": {
  "kernelspec": {
   "display_name": "Python 3",
   "language": "python",
   "name": "python3"
  },
  "language_info": {
   "codemirror_mode": {
    "name": "ipython",
    "version": 3
   },
   "file_extension": ".py",
   "mimetype": "text/x-python",
   "name": "python",
   "nbconvert_exporter": "python",
   "pygments_lexer": "ipython3",
   "version": "3.6.1"
  }
 },
 "nbformat": 4,
 "nbformat_minor": 1
}

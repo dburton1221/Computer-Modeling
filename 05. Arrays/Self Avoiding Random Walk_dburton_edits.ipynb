{
 "cells": [
  {
   "cell_type": "markdown",
   "metadata": {},
   "source": [
    "## Self Avoiding Random Walk\n",
    "\n",
    "A *random walk* is simulated on a computer by assuming that a walker begins at some location and takes steps in random directions, typically north, south, east, or west. This continues until some condition is met, for example when the random walker steps off the map. In this assignment, we will simulate a *self-avoiding random walker*. This is a random walker that walks randomly until it is either:\n",
    "\n",
    "* trapped by its previous path, or\n",
    "* walking off the map.\n",
    "\n",
    "In order to test for the first stopping case, one must store the places visited by the walker.\n",
    "\n",
    "The assignment is of interest to anyone trying to master 2D `numpy arrays`, and it has application to polymer chemistry in determining the length of chains that are possible. Below, find an introduction to creating, managing, and manipulating 2D `numpy arrays`.\n",
    "\n",
    "\n",
    "### 2D numpy arrays\n",
    "We will simulate a random walk using a 2D `numpy array`. Thus far, all of the `numpy` arrays that you have used have been 1D. Let me introduce you to how 2D arrays work:"
   ]
  },
  {
   "cell_type": "code",
   "execution_count": 3,
   "metadata": {},
   "outputs": [
    {
     "name": "stdout",
     "output_type": "stream",
     "text": [
      "[[ 7  1  7  2  5]\n",
      " [ 2  8  5  7  8]\n",
      " [ 3  7  4 10  4]\n",
      " [ 1  1  9  8  5]]\n"
     ]
    }
   ],
   "source": [
    "from pylab import randint  # Get a function to create a random array\n",
    "from __future__ import print_function\n",
    "\n",
    "a = randint(1,11,(4,5)) # An array of random integers, 1-10. 4 rows, 5 columns\n",
    "\n",
    "# Note the (4,5) gives (rows,columns). \n",
    "\n",
    "# (4,5) is like a list, but cannot be changed. It is called a 'tuple'.\n",
    "# It is common for Python functions to accept tuples. They have to be \n",
    "# tuples (not lists) so that they are not accidentaly changed.\n",
    "\n",
    "# view the array\n",
    "print(a)"
   ]
  },
  {
   "cell_type": "code",
   "execution_count": 4,
   "metadata": {},
   "outputs": [
    {
     "data": {
      "text/plain": [
       "10"
      ]
     },
     "execution_count": 4,
     "metadata": {},
     "output_type": "execute_result"
    }
   ],
   "source": [
    "# Array indexing is how you recover elements:\n",
    "# In numpy, we use a[row][col] to retrieve an element at \n",
    "# position row,column\n",
    "\n",
    "a[2][3]   # Show the element at position row = 2 col = 3 (remember to start at 0)"
   ]
  },
  {
   "cell_type": "code",
   "execution_count": 5,
   "metadata": {},
   "outputs": [
    {
     "name": "stdout",
     "output_type": "stream",
     "text": [
      "[[ 7  1  7  2  5]\n",
      " [ 2  8 -3  7  8]\n",
      " [ 3  7  4 10  4]\n",
      " [ 1  1  9  8  5]]\n"
     ]
    }
   ],
   "source": [
    "# We can also change a value, for example, make the number at row 1 column 2 -3\n",
    "\n",
    "a[1][2]=-3 # Determine where the change takes place before studying the output.\n",
    "\n",
    "print(a)"
   ]
  },
  {
   "cell_type": "code",
   "execution_count": 6,
   "metadata": {},
   "outputs": [
    {
     "data": {
      "text/plain": [
       "array([[   7,    1,  100,    2,    5],\n",
       "       [   2,   50,   -3,  -50,    8],\n",
       "       [   3,    7, -100,   10,    4],\n",
       "       [   1,    1,    9,    8,    5]])"
      ]
     },
     "execution_count": 6,
     "metadata": {},
     "output_type": "execute_result"
    }
   ],
   "source": [
    "# The final array skill needed for this assignment is \n",
    "# to realize that variables can be used to generalize indexing\n",
    "# For example, let us say the random walker is at row 1, column 2\n",
    "\n",
    "row = 1 \n",
    "col = 2\n",
    "\n",
    "# Set everything next to row = 1, col = 2 to be -1:\n",
    "\n",
    "a[row + 1][col] = -100 # SOUTH of the location (row,col)\n",
    "a[row - 1][col] =  100 # NORTH\n",
    "a[row][col + 1] =  -50 # EAST\n",
    "a[row][col - 1] =   50 # WEST\n",
    "\n",
    "a  #Study the output carefuly and make sure you understand"
   ]
  },
  {
   "cell_type": "code",
   "execution_count": 7,
   "metadata": {},
   "outputs": [
    {
     "name": "stdout",
     "output_type": "stream",
     "text": [
      "Ones array:\n",
      "[[ 1.  1.  1.  1.]\n",
      " [ 1.  1.  1.  1.]\n",
      " [ 1.  1.  1.  1.]]\n",
      "\n",
      "Zeros array:\n",
      "[[ 0.  0.  0.  0.  0.]\n",
      " [ 0.  0.  0.  0.  0.]\n",
      " [ 0.  0.  0.  0.  0.]\n",
      " [ 0.  0.  0.  0.  0.]\n",
      " [ 0.  0.  0.  0.  0.]\n",
      " [ 0.  0.  0.  0.  0.]]\n",
      "\n",
      "Test array with sequence:\n",
      "[[ 0  1  2  3  4]\n",
      " [ 5  6  7  8  9]\n",
      " [10 11 12 13 14]\n",
      " [15 16 17 18 19]\n",
      " [20 21 22 23 24]\n",
      " [25 26 27 28 29]\n",
      " [30 31 32 33 34]\n",
      " [35 36 37 38 39]\n",
      " [40 41 42 43 44]]\n",
      "\n",
      "User defined array:\n",
      "[[ 1  2  3]\n",
      " [-4 -5 -6]\n",
      " [ 7  8  9]]\n"
     ]
    }
   ],
   "source": [
    "# So far, we've only created random arrays. It's often better to produce arrays of other \n",
    "# values. \n",
    "\n",
    "from numpy import ones, zeros, array\n",
    "\n",
    "# For examples, an arrray of ones:\n",
    "ones_array = ones((3,4))\n",
    "print(\"Ones array:\")\n",
    "print(ones_array)\n",
    "print()\n",
    "\n",
    "# Or, an array of zeros:\n",
    "zeros_array = zeros((6,5))\n",
    "print(\"Zeros array:\")\n",
    "print(zeros_array)\n",
    "print()\n",
    "\n",
    "# For test data it is sometimes good to have a sequence in an array.\n",
    "t = array(range(45)).reshape(9,5) # Think on how that reshape works!\n",
    "print(\"Test array with sequence:\")\n",
    "print(t)\n",
    "print()\n",
    "\n",
    "# If you need to, you can always declare your own array:\n",
    "# Observe that the array function takes lists of lists.\n",
    "my_array = array([[1,2,3],[-4,-5,-6],[7,8,9]])\n",
    "print(\"User defined array:\")\n",
    "print(my_array)\n"
   ]
  },
  {
   "cell_type": "code",
   "execution_count": 8,
   "metadata": {},
   "outputs": [
    {
     "name": "stdout",
     "output_type": "stream",
     "text": [
      "Final postion: (2,3) \n",
      "[[ 0.  0.  0.  0.  0.  0.  0.  0.  0.  0.]\n",
      " [ 0.  0.  0.  0.  0.  0.  0.  0.  0.  0.]\n",
      " [ 0.  0.  1.  1.  0.  0.  0.  0.  0.  0.]\n",
      " [ 0.  0.  1.  0.  0.  0.  0.  0.  0.  0.]\n",
      " [ 0.  0.  1.  0.  0.  0.  0.  0.  0.  0.]\n",
      " [ 0.  0.  1.  0.  0.  1.  0.  0.  0.  0.]\n",
      " [ 0.  0.  1.  1.  1.  1.  0.  0.  0.  0.]\n",
      " [ 0.  0.  0.  0.  0.  0.  0.  0.  0.  0.]\n",
      " [ 0.  0.  0.  0.  0.  0.  0.  0.  0.  0.]\n",
      " [ 0.  0.  0.  0.  0.  0.  0.  0.  0.  0.]]\n"
     ]
    }
   ],
   "source": [
    "# Finally, you will need a way to track where the random walker is, \n",
    "# and has been.\n",
    "# Try something like this:\n",
    "\n",
    "path = zeros((10,10)) # Use 1 for visited, 0 for unvisited\n",
    "row_c = 5 # current row\n",
    "col_c = 5 # current col\n",
    "\n",
    "# The following is to make it clear, but should be in a loop\n",
    "# with random step directions:\n",
    "path[row_c][col_c] = 1 # mark visited\n",
    "row_c +=1 # Step south\n",
    "path[row_c][col_c] = 1\n",
    "col_c -=1 # Step west\n",
    "path[row_c][col_c] = 1 \n",
    "col_c -=1 # Step west\n",
    "path[row_c][col_c] = 1\n",
    "col_c -=1 # Step west\n",
    "path[row_c][col_c] = 1\n",
    "row_c -=1 # Step north\n",
    "path[row_c][col_c] = 1\n",
    "row_c -=1 # Step north\n",
    "path[row_c][col_c] = 1\n",
    "row_c -=1 # Step north\n",
    "path[row_c][col_c] = 1\n",
    "row_c -=1 # Step north\n",
    "path[row_c][col_c] = 1\n",
    "col_c +=1 # Step east\n",
    "path[row_c][col_c] = 1\n",
    "\n",
    "print(\"Final postion: (%i,%i) \"%(row_c,col_c))\n",
    "print(path)\n"
   ]
  },
  {
   "cell_type": "code",
   "execution_count": 9,
   "metadata": {},
   "outputs": [
    {
     "data": {
      "image/png": "[encoded data removed]",
      "text/plain": [
       "<matplotlib.figure.Figure at 0x14fb17e6860>"
      ]
     },
     "metadata": {},
     "output_type": "display_data"
    }
   ],
   "source": [
    "# Inspecting that array for the path is hard. Let's plot it instead.\n",
    "from pylab import imshow,show,subplot,array\n",
    "%matplotlib inline\n",
    "imshow(path,interpolation='nearest',cmap='gray')\n",
    "show()"
   ]
  },
  {
   "cell_type": "markdown",
   "metadata": {},
   "source": [
    "### Assignment\n",
    "Write code to simulate a self-avoiding random walker. The walker should continue taking random steps until it either gets stuck (all four neighboring points have been visited), or it moves off the map (the 2D array). The walk should be written in a single method that accepts an arguement `N`, specifying that the grid the walker moves on is `NxN`, and the number of trials to be done. The walker should always begin in the middle of the array (accepting that even size arrays will be off center). The method should return average (for the number of trials) length of the path, and the probability of the walker being trapped (number of times trapped divided by number of trials). \n",
    "\n",
    "Prepare plots of the average length of the path vs. 2D array size and probability of being trapped vs. 2D array size. Vary array dimensions between 20x20 and 100x100, increasing by 5 for each run. Do 500 trials for each array size. See plots below for expected output."
   ]
  },
  {
   "cell_type": "code",
   "execution_count": 22,
   "metadata": {
    "collapsed": true
   },
   "outputs": [],
   "source": [
    "#fixed the issue; i misinterpreted the problem. I had not allowed the walekr to walk off the grid if it wanted\n",
    "#the stats come out closer to what they should be now\n",
    "\n",
    "#pylab contains numpy under the same namespace, so everythign can be grouped togetehr\n",
    "from pylab import ones,zeros,array,plot,show,title,xlabel,ylabel,randint,imshow,subplot\n",
    "#from random import shuffle, no longer necessary\n",
    "\n",
    "def int_ary(s_tp): #takes in a tuple and gives back starting positions and a 2D array of zeros\n",
    "    s_tup=(s_tp,s_tp)\n",
    "    garden=zeros(s_tup) #preparing the 2D array that will be walked around in, accepts N as a tuple\n",
    "    rows,cols=s_tup #unpacking the rows and columns values from the tuple\n",
    "    #assigning the starting x and y positions by how the rows and columns numbers divide\n",
    "    if rows%2!=0:\n",
    "        st_x=(rows//2)+(rows%2)-1 #this roudns up so we always are at the middle\n",
    "    else:\n",
    "        st_x=(rows//2)+randint(0,2)-1 #we introduce randomness to decrease bias of side of even div we are on\n",
    "    if cols%2!=0:\n",
    "        st_y=(cols//2)+(cols%2)-1 #same thing as above but for columns\n",
    "    else:\n",
    "        st_y=(cols//2)+randint(0,2)-1\n",
    "    st_pos=(st_x,st_y) #starting position as a tuple\n",
    "    return(st_pos,garden)\n",
    "\n",
    "#accepts a tuple of cirrent positions and the array and returns a tuple of where to move next\n",
    "def move_it(posy,pty): #we like to MOVE IT! MOVE IT!\n",
    "    cu_x,cu_y=posy\n",
    "    m_possible=[]\n",
    "    trp=0\n",
    "    try: #testing for up\n",
    "        if pty[cu_x][cu_y+1]==0: #we make sure that teh space has nto been visited before\n",
    "            m_possible.append((cu_x,cu_y+1)) #we make this an option to go to\n",
    "        else: #we are keeping track of being trapped by own path\n",
    "            if pty[cu_x][cu_y+1]==1:\n",
    "                trp+=1\n",
    "    except:\n",
    "        m_possible.append(\"None\") #you have the option to walk off the grid now\n",
    "    try: #testign for down\n",
    "        if pty[cu_x][cu_y-1]==0 and (cu_y-1)!=(-1): #make sure we don't do reverse indexing and it hasn't been visited\n",
    "            m_possible.append((cu_x,cu_y-1))\n",
    "        else:\n",
    "            if pty[cu_x][cu_y-1]==1:\n",
    "                trp+=1\n",
    "            elif (cu_y-1)==(-1): #you may walk off the grid now\n",
    "                m_possible.append(\"None\")\n",
    "    except:\n",
    "        pass\n",
    "    try: #testign for right\n",
    "        if pty[cu_x+1][cu_y]==0:\n",
    "            m_possible.append((cu_x+1,cu_y))\n",
    "        else:\n",
    "            if pty[cu_x+1][cu_y]==1:\n",
    "                trp+=1\n",
    "    except:\n",
    "        m_possible.append(\"None\")\n",
    "    try: #testign for left\n",
    "        if pty[cu_x-1][cu_y]==0 and (cu_x-1)!=(-1):\n",
    "            m_possible.append((cu_x-1,cu_y))\n",
    "        else:\n",
    "            if pty[cu_x-1][cu_y]==1:\n",
    "                trp+=1\n",
    "            elif (cu_x-1)==(-1): #you can now walk off the grid as an option\n",
    "                m_possible.append(\"None\")\n",
    "    except:\n",
    "        pass\n",
    "    if len(m_possible)>0: #we make a a valif move if possible\n",
    "        move=m_possible[randint(0,len(m_possible))]\n",
    "    elif trp==4: #we return trapped if we have made our own path trapping us\n",
    "        move=\"Trapped\"\n",
    "    return move\n",
    "\n",
    "\n",
    "def self_avoid_random_walk(N,trials,PLOT=False):\n",
    "    steps,trapped=0,0 #total steps made, when trapped\n",
    "    for i in range(trials): #this for loop is for our number of simulations\n",
    "        stpos,grid=int_ary(N) #we reintialize the starting positions and grid everytime\n",
    "        tnot=0 #we reset the number of times trapped or off grid so taht the whiel loop restarts\n",
    "        c_x,c_y=stpos #we reset to starting position everytime\n",
    "        while tnot<1: #we continue to move around as logn as we don;t go off grid or get trapped\n",
    "            grid[c_x][c_y]=1 #we say that we have been where we are standing\n",
    "            do_it=move_it((c_x,c_y),grid) #we then produce the next move\n",
    "            if do_it==\"Trapped\": #we record the trapped scenario and break the loop\n",
    "                tnot+=1\n",
    "                trapped+=1\n",
    "            elif do_it==\"None\": #we just aren't allowed to walk off the grid, so we only break the loop\n",
    "                tnot+=1\n",
    "            else: #huzzah, we can make a move, so we do it!\n",
    "                c_x,c_y=do_it #we unpack the tuple and reassign new positions\n",
    "                steps+=1 #we record the move after we make it as a step\n",
    "            #print(do_it)\n",
    "            #imshow(grid,interpolation='nearest',cmap='gray')\n",
    "            #show()\n",
    "    return(steps/trials,trapped/trials)"
   ]
  },
  {
   "cell_type": "code",
   "execution_count": 24,
   "metadata": {},
   "outputs": [
    {
     "data": {
      "image/png": "[encoded data removed]",
      "text/plain": [
       "<matplotlib.figure.Figure at 0x14fb22105c0>"
      ]
     },
     "metadata": {},
     "output_type": "display_data"
    },
    {
     "data": {
      "image/png": "[encoded data removed]",
      "text/plain": [
       "<matplotlib.figure.Figure at 0x14fb2259400>"
      ]
     },
     "metadata": {},
     "output_type": "display_data"
    }
   ],
   "source": [
    "l = []   # Hold the average length of random walks in a list.\n",
    "p = []   # Hold the probability of getting trappend in a list.\n",
    "rs = range(22,102,5)   # These are the sizes of grids that are explored.\n",
    "for s in rs:   # for each size of grid.\n",
    "    t = self_avoid_random_walk(s,500,False)   # Get the data through simulation. store in t.\n",
    "    p.append(t[1])  # record the probability of being trapped\n",
    "    l.append(t[0])  # record the average length of walk\n",
    "\n",
    "# some plotting code that should be somewhat clear...\n",
    "plot(array(rs)-2,p,'ko-')\n",
    "title(\"Random Walker Results (500 Trials)\")\n",
    "xlabel(\"Matrix size (N)\")\n",
    "ylabel(\"Probability trapped\")\n",
    "show()\n",
    "\n",
    "plot(array(rs)-2,l,'ro-')\n",
    "title(\"Random Walker Results (500 Trials)\")\n",
    "xlabel(\"Matrix size (N)\")\n",
    "ylabel(\"Average step in walk\")\n",
    "show()"
   ]
  },
  {
   "cell_type": "code",
   "execution_count": 25,
   "metadata": {
    "collapsed": true
   },
   "outputs": [],
   "source": [
    "#incoreect interpretation, thee below contrains the alker to \n",
    "#only valid moves within the grid, unless forced off the grid\n",
    "#the walker in resality should be able to walk off the grid if it wants to\n",
    "\n",
    "#accepts a tuple of cirrent positions and the array and returns a tuple of where to move next\n",
    "def move_it(posy,pty): #we like to MOVE IT! MOVE IT!\n",
    "    cu_x,cu_y=posy\n",
    "    m_possible=[]\n",
    "    trp=0\n",
    "    try: #testing for up\n",
    "        if pty[cu_x][cu_y+1]==0: #we make sure that teh space has nto been visited before\n",
    "            m_possible.append((cu_x,cu_y+1)) #we make this an option to go to\n",
    "        else: #we are keeping track of being trapped by own path\n",
    "            if pty[cu_x][cu_y+1]==1:\n",
    "                trp+=1\n",
    "    except:\n",
    "        pass\n",
    "    try: #testign for down\n",
    "        if pty[cu_x][cu_y-1]==0 and (cu_y-1)!=(-1): #make sure we don't do reverse indexing and it hasn't been visited\n",
    "            m_possible.append((cu_x,cu_y-1))\n",
    "        else:\n",
    "            if pty[cu_x][cu_y-1]==1:\n",
    "                trp+=1\n",
    "    except:\n",
    "        pass\n",
    "    try: #testign for right\n",
    "        if pty[cu_x+1][cu_y]==0:\n",
    "            m_possible.append((cu_x+1,cu_y))\n",
    "        else:\n",
    "            if pty[cu_x+1][cu_y]==1:\n",
    "                trp+=1\n",
    "    except:\n",
    "        pass\n",
    "    try: #testign for left\n",
    "        if pty[cu_x-1][cu_y]==0 and (cu_x-1)!=(-1):\n",
    "            m_possible.append((cu_x-1,cu_y))\n",
    "        else:\n",
    "            if pty[cu_x-1][cu_y]==1:\n",
    "                trp+=1\n",
    "    except:\n",
    "        pass\n",
    "    if len(m_possible)>0: #we make a a valif move if possible\n",
    "        move=m_possible[randint(0,len(m_possible))]\n",
    "    elif trp==4: #we return trapped if we have made our own path trapping us\n",
    "        move=\"Trapped\"\n",
    "    else: #we return none if we will walk out of the garden\n",
    "        move=\"None\"\n",
    "    return move"
   ]
  }
 ],
 "metadata": {
  "kernelspec": {
   "display_name": "Python 3",
   "language": "python",
   "name": "python3"
  },
  "language_info": {
   "codemirror_mode": {
    "name": "ipython",
    "version": 3
   },
   "file_extension": ".py",
   "mimetype": "text/x-python",
   "name": "python",
   "nbconvert_exporter": "python",
   "pygments_lexer": "ipython3",
   "version": "3.6.1"
  }
 },
 "nbformat": 4,
 "nbformat_minor": 1
}

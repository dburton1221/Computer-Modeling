{
 "cells": [
  {
   "cell_type": "markdown",
   "metadata": {},
   "source": [
    "## Introduction\n",
    "In this assignment, you will gain experience:\n",
    "\n",
    "* Writing a Python script that accepts command line arguements,\n",
    "* Reading a spreadsheet, or Comma Seperated Value (CSV) file,\n",
    "* Plotting data.\n",
    "\n",
    "The first two skills are completely new. The third is review.\n",
    "\n",
    "### Command line arguements\n",
    "By now, you should be familiar with writing Python programs using Spyder or another text editor or itegrated development environment. Until now, you've probably run your program from within the editor. For many applications, you will find it is more convenient to run Python scripts from the **command line**. This is a way of interacting with your operating system by entering commands in a **terminal**. There are differences in how terminals are opened between Windows, Linux, and OSX. I think they are:\n",
    "\n",
    "* Windows - look for a program called `Power Shell`. \n",
    "* OSX - the program is called `terminal`,\n",
    "* there are many choies in Linux, but a simple one to get is usually `gnome-terminal`.\n",
    "\n",
    "To consolidate these choices, I recommend using the `Anaconda shell`, from the Anaconda installation directory. Many things can be done from a terminal, or a shell. \n",
    "#### File system navigation\n",
    "The most important commands to start with are listing files and directories, and changing directories. \n",
    "\n",
    "* `dir` (Windows) this will list the files and directories in your present location.\n",
    "* `ls`  (Linux OSX) list the files and directories in your present location.\n",
    "* `cd` change directory. Up one directory is `cd ..`\n",
    "* in Windows a heirachry of directories is indicated with a `\\`, in Linux and OSX it is a `/`. For example, let's say you want to go to the CSCI250 directory on your desktop.\n",
    "    * Windows - `>>cd Desktop\\CSCI250`\n",
    "    * Linux/OSX - `>>cd Desktop/CSCI250`\n",
    "\n",
    "#### Running a Python script\n",
    "Once you are located in the same directory as the Python script you'd like to run, you can execute it from the command line. Let's say it is called `plotWorld.py`. It would be run with the command:\n",
    "\n",
    "`>>python plotWorld.py`\n",
    "\n",
    "#### A command line arguement\n",
    "What is meant by **command line arguemnets**. Let's suppose that your `plotWorld.py` script draws the outlines of all the countries. We'd like to tell the script to fill in the countries with some data in another file. Say, we've got a file with each country and the mean income of its inhabitants. That file is called `income.txt`. If `plotWorld.py` is written correctly, then we specify the data file as follows with a command line arguement:\n",
    "\n",
    "`>>python plotWorld.py income.txt`\n",
    "\n",
    "Now - `income.txt` is a command line arguement. This can be taken further. Let's say we like to use green colors to show income and that we can specify the highest number for the colors, beyond this all colors are the same. Then we could have three command line arguements:\n",
    "\n",
    "`python plotWorld.py income.txt green 60000`\n",
    "\n",
    "#### Implementing command line arguments in Python.\n",
    "To get the command line arguements in Python, you have to import `sys`. Once this is done `sys.argv` is a list containing the command line arguements. For example:\n"
   ]
  },
  {
   "cell_type": "code",
   "execution_count": 1,
   "metadata": {},
   "outputs": [
    {
     "name": "stdout",
     "output_type": "stream",
     "text": [
      "C:\\Users\\Davey\\Anaconda3\\lib\\site-packages\\ipykernel_launcher.py\n"
     ]
    }
   ],
   "source": [
    "from __future__ import print_function\n",
    "import sys\n",
    "print(sys.argv[0])"
   ]
  },
  {
   "cell_type": "markdown",
   "metadata": {},
   "source": [
    "This is a little incomprehensible, but it is a list of *strings* recording the way this Jupyter notebook was started. Remember - to convert a string to an integer or float you have to use the `int` or `float` functions.\n",
    "\n",
    "For a simpler example, consider the assignment, where you do some plotting based on command line arguements. I run it as follows:\n",
    "\n",
    "`>>python plotSTD.py CDC\\ STD\\ -\\ Sheet1.csv 4 6`\n",
    "\n",
    "* where `plotSTD.py` is the name of the program, \n",
    "* CDC\\ STD\\ -\\ Sheet1.csv is the file containing the data\n",
    "* and 4 and 6 are the columns in the data file I want to plot.\n",
    "\n",
    "The results of `print(sys.argv)` are:\n",
    "\n",
    "`['plotSTD.py', 'CDC STD - Sheet1.csv', '4', '6']`\n",
    "\n",
    "Note that the first entry, or `sys.argv[0]` is the name of the python script. The other entries in the list should be logical."
   ]
  },
  {
   "cell_type": "markdown",
   "metadata": {},
   "source": [
    "### CSV files\n",
    "\n",
    "All spread sheet software I know of has the option to save the data as CSV, (comma seperated value) format. This format frees you from the particulars of Excel or Google Sheets, or whatever you use. Python will read CSV format files, provided you import `csv`, a module for reading these files. It's simple, and demonstrated below."
   ]
  },
  {
   "cell_type": "code",
   "execution_count": 2,
   "metadata": {
    "collapsed": true
   },
   "outputs": [],
   "source": [
    "import csv #all arguments are a string and must be changed to integer if needed\n",
    "filename = \"CDC STD.csv\"\n",
    "with open(filename) as csvfile:  # This is a nice construct that helps with exceptions.\n",
    "    reader = csv.reader(csvfile) # Create csv reader\n",
    "    for row in reader:\n",
    "        pass\n"
   ]
  },
  {
   "cell_type": "markdown",
   "metadata": {},
   "source": [
    "## Assignment\n",
    "\n",
    "You are to do the following.\n",
    "* Acquire the file, `CDC STD.xls` from the Moodle. Resave it as a `.csv`\n",
    "* Write a program that will read that file and:\n",
    "    * Accept the name of the file as a command line arguement\n",
    "    * Accept the columns to be plotted as command line arguements\n",
    "    * Plot a time series of the data, using a unique color for each data\n",
    "    * Display a legend of the data\n",
    "A demonstration of the program follows"
   ]
  },
  {
   "cell_type": "code",
   "execution_count": 3,
   "metadata": {},
   "outputs": [
    {
     "name": "stderr",
     "output_type": "stream",
     "text": [
      "ERROR:root:File `'plotSTD.py'` not found.\n"
     ]
    }
   ],
   "source": [
    "run plotSTD.py CDC\\ STD\\ -\\ Sheet1.csv 2 14"
   ]
  },
  {
   "cell_type": "code",
   "execution_count": 10,
   "metadata": {},
   "outputs": [
    {
     "name": "stderr",
     "output_type": "stream",
     "text": [
      "usage: ipykernel_launcher.py [-h] filename x_axis cols [cols ...]\n",
      "ipykernel_launcher.py: error: the following arguments are required: x_axis, cols\n"
     ]
    },
    {
     "ename": "SystemExit",
     "evalue": "2",
     "output_type": "error",
     "traceback": [
      "An exception has occurred, use %tb to see the full traceback.\n",
      "\u001b[1;31mSystemExit\u001b[0m\u001b[1;31m:\u001b[0m 2\n"
     ]
    },
    {
     "name": "stderr",
     "output_type": "stream",
     "text": [
      "C:\\Users\\Davey\\Anaconda3\\lib\\site-packages\\IPython\\core\\interactiveshell.py:2889: UserWarning: To exit: use 'exit', 'quit', or Ctrl-D.\n",
      "  warn(\"To exit: use 'exit', 'quit', or Ctrl-D.\", stacklevel=1)\n"
     ]
    }
   ],
   "source": [
    "#writing the parser for our script #remeber, the x-axis will nto have a header\n",
    "#bring this stuff up top when you are reday to start putting the whole script together, b/c it doesn't quite go whiel\n",
    "#in Jupyter\n",
    "import sys,argparse\n",
    "\n",
    "#creating the description for our parser\n",
    "parser=argparse.ArgumentParser(description=\"Plot some csv files\") #the filename cannot have spaces in it\n",
    "#makign an argument for the filename\n",
    "parser.add_argument(\"filename\",help=\"Give the name of the csv file to plot\")\n",
    "#adding arg for x-axis column\n",
    "parser.add_argument(\"x_axis\",help=\"the x-axis of the plot\",type=int)\n",
    "#cols to be plotted agnst x-axis, allowing for multiple columsn to be plotted\n",
    "parser.add_argument(\"cols\",help=\"the cols to be plotted against the x-axis\",type=int,nargs=\"+\")\n",
    "\n",
    "#we must process the arguments\n",
    "args=parser.parse_args()\n",
    "\n",
    "print(\"The file to be plotted is\",args.filename)\n",
    "print(\"The x-axis is\",str(args.x_axis))\n",
    "print(\"The cols to be plotted against the x-axis are\",str(args.cols))"
   ]
  },
  {
   "cell_type": "code",
   "execution_count": 2,
   "metadata": {
    "collapsed": true
   },
   "outputs": [],
   "source": [
    "#Preparing the script to be transfered over to Spyder and saved as a .py\n",
    "\n",
    "#we will write this script so it behaves simialrly to the desired input and output, \n",
    "#except column x-axis must be specified\n",
    "\n",
    "#importing the ground work fo stuff we will need\n",
    "#I'm importing argparse b/c I feel it'd be more usefukl to use\n",
    "import csv,re,argparse\n",
    "from pylab import plot, subplot, ylabel, xlabel, title, show, figure, scatter, cm, linspace, legend\n",
    "#from random import shuffle $onyl ne cessary if we want the colors to really be random\n",
    "\n",
    "#all the arguments that we will be accepting\n",
    "\n",
    "#writing all the functions that I will need to complete this task\n",
    "\n",
    "#makign a function to extract data from a csv file and returns a list of lists containing each column in the file\n",
    "def extract_data(nam_fil): #the name of the file must be input as a string with the file extension\n",
    "    TheFile=nam_fil\n",
    "    OurData=[] #an empty list to hold things\n",
    "    with open(TheFile) as csvfile:  # This is a nice construct that helps with exceptions.\n",
    "        reader = csv.reader(csvfile) # Create csv reader\n",
    "        for row in reader: #every row in the reader is a list containing strings\n",
    "            OurData.append(row) #we append that list into the Our Data list so we can then convert rows to columns\n",
    "    #remove this loop if you can make a better loop to find the headers within the header_label function\n",
    "    #for i in range(len(OurData)): #loop to propagate our headers\n",
    "        #counter_a=\"\"\n",
    "        #for j in range(len(OurData[i])): #goign through a row\n",
    "            #if OurData[i][j]!=\"\":\n",
    "                #counter_a=j\n",
    "            #elif OurData[i][j]==\"\" and counter_a!=\"\":\n",
    "                #OurData[i][j]=OurData[i][counter_a]\n",
    "    OurData=list(zip(*OurData)) #this transposes our rows into columns but creates a list of tuples\n",
    "    #first attempt doing list comprehension, we are applying list function to every item in OurData, requires brackets\n",
    "    OurData=[list(i) for i in OurData]\n",
    "    return OurData\n",
    "\n",
    "#create a function to convert the strings with numbers into floats\n",
    "def str_to_flt(lst_of_lsts): #takes a list of lists that is full fo strings\n",
    "    decimal_fun=re.compile(r'\\d*\\.?\\d*') #we make a regex variable for any numbers, maybe period, any numbers\n",
    "    for i in range(len(lst_of_lsts)): #we go through positions of lists within the list\n",
    "        for j in range(len(lst_of_lsts[i])): #for each item in the raneg of the first list\n",
    "            lst_of_lsts[i][j]=lst_of_lsts[i][j].replace(\",\",\"\") #we need to eliminate commas if they exist\n",
    "            fun=decimal_fun.match(lst_of_lsts[i][j]) #we then check for a mtch to the regex variable\n",
    "            if fun.group()!=\"\": #if we found a match to the regex variable\n",
    "                lst_of_lsts[i][j]=float(fun.group()) #we turn into a floatign point number\n",
    "    return lst_of_lsts #returns a list fo lists with all str nums as floating point numbers\n",
    "\n",
    "#a function that finds the labels for data and teh header\n",
    "def header_labels(ListOfLists,column): #takes a list fo lists and finds the header and labels\n",
    "    header=\"\"\n",
    "    label_pos=[column,0] #position of label is column in the csv and position in the column\n",
    "    #finding the label for the data\n",
    "    for i in range(len(ListOfLists[column])):\n",
    "        if (type(ListOfLists[column][i]) is float)==True:\n",
    "            label=ListOfLists[column][i-1] #teh thign right above a float is probably its label\n",
    "            label_pos=[column,i-1]\n",
    "            break #we found what we needed, so we break it    \n",
    "        else: #we now run a majority check to see if most of the things in this row are floats\n",
    "            count=0 #tracking the number of floats we find\n",
    "            traveled=0 #tracking how many columns we have visited\n",
    "            for j in range(len(ListOfLists)): #we check to see if most of the things in other \n",
    "                #columns at this row are floats\n",
    "                if (type(ListOfLists[j][i]) is float)==True:\n",
    "                    count+=1\n",
    "                    traveled+=1\n",
    "                else:\n",
    "                    traveled+=1\n",
    "            if (count/traveled)>=0.5:\n",
    "                label=ListOfLists[column][i-1] #if the things on either side of a str are floats, \n",
    "                #the thing above is probably that label\n",
    "                label_pos=[column,i-1]\n",
    "                break #if we found the label, we break it\n",
    "    #systematically fginding the header\n",
    "    while True:\n",
    "        for i in range(len(ListOfLists[:label_pos[0]+1])): #we start by sreaching the column the label was in\n",
    "            for j in range(len(ListOfLists[label_pos[0]-i])):\n",
    "                tester=ListOfLists[label_pos[0]-i][label_pos[1]-j] #the item we are testing to be a header\n",
    "                #the tester cannot match the label, cannot be empty str, must be a str, and nto same row as label\n",
    "                if tester!=label and tester!=\"\" and (type(tester) is str)==True and (label_pos[1]-j)!=(label_pos[1]):\n",
    "                    header=tester\n",
    "                    break\n",
    "            if header!=\"\" and header!=label:\n",
    "                break\n",
    "        if header!=\"\" and header!=label:\n",
    "            break\n",
    "    if header==\"\": #we need a readout\n",
    "        header=\"Ergawd!!\"\n",
    "    return (header,label)\n",
    "\n",
    "#make a function to normalize the data in the csv, be able to say this thing is str and should be a number,\n",
    "#fill in some number\n",
    "def normal_data(lst_o_lst):\n",
    "    for i in range(len(lst_o_lst)):\n",
    "        for j in range(len(lst_o_lst[i])): #we're going to check every item in a list\n",
    "            count=0\n",
    "            travel=0\n",
    "            current=lst_o_lst[i][j]\n",
    "            for h in range(len(lst_o_lst)): #check against the average of tests\n",
    "                test=lst_o_lst[h][j]\n",
    "                if (type(lst_o_lst[h][j]) is float)==True:\n",
    "                    count+=1\n",
    "                    travel+=1\n",
    "                else:\n",
    "                    travel+=1\n",
    "            average=count/travel #we average how many were floats\n",
    "            #if teh thing in this row isn't a float and most other things are, then we should fill it in\n",
    "            if average>=0.5 and (type(current) is float)==False:\n",
    "                lst_o_lst[i][j]=float(0)\n",
    "    return lst_o_lst\n",
    "\n",
    "#make a function to simplify the list so it is all just floats\n",
    "def simple_list(ug_list): #takes the list of columns\n",
    "    ug_list=list(zip(*ug_list)) #puttign this back as list fo rows\n",
    "    ug_list=[list(i) for i in ug_list] #convertign everythign back into lists\n",
    "    while True:\n",
    "        count=0\n",
    "        for i in range(len(ug_list)): #deletign any rows that contain strings\n",
    "            if all(isinstance(thing,float) for thing in ug_list[i])!=True:\n",
    "                #all checks that every thing is true for such conditions\n",
    "                #isinstance checks that this thing matches the type of object specified\n",
    "                #.... for thign in myCat is list comprehenison and checks every thign in myCat\n",
    "                count+=1 #thsi is to prevent us from exiting while loop\n",
    "                del ug_list[i] #we delete any row that is not only floats\n",
    "                break #then, we restart, the for loop so we don;t get an index error\n",
    "        if count==0:\n",
    "            break\n",
    "    pretty_list=list(zip(*ug_list)) #puttign back as a list of columns\n",
    "    pretty_list=[list(i) for i in pretty_list] #convertign everythign back into lists\n",
    "    return pretty_list\n",
    "\n",
    "#takes a list of lists and a list fo columns and returns a dictionary with header, labels, and values of each column\n",
    "#we're handlign the x_axis in thsi as well just to unify things\n",
    "def organizing_info(lol,x_ax,col):\n",
    "    lol_dict={} #our empty dictionary to shove stuff into\n",
    "    #extract teh headers and labels\n",
    "    for val in col:\n",
    "        lol_dict[val]={} #create a dictionary to hold these thinsg for the value of the column\n",
    "        header,label=header_labels(lol,val) #unpack teh tuple from the header,labels function\n",
    "        lol_dict[val][\"Header\"]=header #assign a key-valeu pair for the header\n",
    "        lol_dict[val][\"Label\"]=label #assign a key-valeu paoir for the label\n",
    "    #handinlign the x-axis\n",
    "    lol_dict[x_ax]={}\n",
    "    xheader,xlabel=header_labels(lol,x_ax)\n",
    "    lol_dict[x_ax][\"Header\"]=xheader\n",
    "    lol_dict[x_ax][\"Label\"]=xlabel\n",
    "    #simplify the list\n",
    "    lol=simple_list(lol)\n",
    "    #shove evrythign into a dictionary\n",
    "    for val in lol_dict.keys():\n",
    "        lol_dict[val][\"points\"]=lol[val]\n",
    "    return lol_dict"
   ]
  },
  {
   "cell_type": "code",
   "execution_count": null,
   "metadata": {
    "collapsed": true
   },
   "outputs": [],
   "source": [
    "#first, we must pass teh arguments from argparse to the functiosn we have written\n",
    "NewData=extract_data(args.filename) #extracting data from the file\n",
    "NewData=str_to_flt(NewData) #we convert all str's with nums into floats\n",
    "NewData=normal_data(NewData)  #we convert the str's that shoudl be floats into filler data fo zeroes\n",
    "\n",
    "ND_HL=header_labels(NewData,args.x_axis) #extracting the headers and labesl from the file\n",
    "\n",
    "x_axis=int(args.x_axis) #takign the x-axis columsn argument\n",
    "\n",
    "cols=args.cols #thsi should be a string of integers, needs to be checked\n",
    "\n",
    "#tetsign the arguments got passed correctly\n",
    "print(\"Testing the data was processed correctly\")\n",
    "print()\n",
    "print(\"This is teh x-axis column data\")\n",
    "print()\n",
    "print(NewData[args.x_axis])\n",
    "print()\n",
    "print(\"this is the x-axis header and label\")\n",
    "print(ND_HL)\n",
    "print()\n",
    "print(\"here are the columsn to be plotted against x-axis\")\n",
    "for thing in args.cols:\n",
    "    print(NewData[thing])\n",
    "print()\n",
    "\n",
    "\n",
    "#figure out how to extract all of the column numbers as their own variables to plot, probably a dictionary\n",
    "\n",
    "#make a function to plot the data, assuming nothing; it's bad practice to assume that column 0 is x-axis\n"
   ]
  },
  {
   "cell_type": "code",
   "execution_count": 17,
   "metadata": {},
   "outputs": [
    {
     "name": "stdout",
     "output_type": "stream",
     "text": [
      "{'Header': 'Year*', 'Label': '', 'points': [1941.0, 1942.0, 1943.0, 1944.0, 1945.0, 1946.0, 1947.0, 1948.0, 1949.0, 1950.0, 1951.0, 1952.0, 1953.0, 1954.0, 1955.0, 1956.0, 1957.0, 1958.0, 1959.0, 1960.0, 1961.0, 1962.0, 1963.0, 1964.0, 1965.0, 1966.0, 1967.0, 1968.0, 1969.0, 1970.0, 1971.0, 1972.0, 1973.0, 1974.0, 1975.0, 1976.0, 1977.0, 1978.0, 1979.0, 1980.0, 1981.0, 1982.0, 1983.0, 1984.0, 1985.0, 1986.0, 1987.0, 1988.0, 1989.0, 1990.0, 1991.0, 1992.0, 1993.0, 1994.0, 1995.0, 1996.0, 1997.0, 1998.0, 1999.0, 2000.0, 2001.0, 2002.0, 2003.0, 2004.0, 2005.0, 2006.0, 2007.0, 2008.0, 2009.0, 2010.0, 2011.0, 2012.0, 2013.0, 2014.0, 2015.0, 2016.0]}\n"
     ]
    }
   ],
   "source": [
    "#you can comment out each one and print more to check hwo each function works\n",
    "#though, the functions are designed to wokr in a specific sequence\n",
    "\n",
    "TheData=extract_data(\"CDC STD.csv\") #testign to check we can extract the data\n",
    "\n",
    "TheData=str_to_flt(TheData) #testign that all values become floats\n",
    "    \n",
    "TheData=normal_data(TheData) #checkign that any str's that shoudl be floats become zeroes\n",
    "\n",
    "#testing we can bring it all together\n",
    "PracCol=[2,10,14]\n",
    "TheTry=organizing_info(TheData,0,PracCol)\n",
    "print(TheTry[0])\n",
    "\n",
    "TheData=simple_list(TheData) #removing any rows from the list that are nto all floats"
   ]
  },
  {
   "cell_type": "code",
   "execution_count": 24,
   "metadata": {},
   "outputs": [
    {
     "data": {
      "image/png": "[encoded data removed]",
      "text/plain": [
       "<matplotlib.figure.Figure at 0x1dfd8fbf4e0>"
      ]
     },
     "metadata": {},
     "output_type": "display_data"
    }
   ],
   "source": [
    "#TODO\n",
    "#connect teh dots\n",
    "#transfer and integrate fully into script in SPyder!!! \n",
    "\n",
    "#info must be organized befroe you can plot\n",
    "\n",
    "#practicing plotting the data\n",
    "x=TheTry[0]['points'] #we take all fo the points from the value given for x\n",
    "figure(figsize=(12,12))\n",
    "clrs = cm.rainbow(linspace(0, 1, len(PracCol)))\n",
    "\n",
    "#find a way to randomly choose a row from the clrs list\n",
    "clr_c=0 #our color counter, so each data set is a differenmt color\n",
    "clct_labels=[] #our empty list to collect all of the headers for objects which is tehir \"label\"\n",
    "\n",
    "lab_check=[] #thsi checks teh \"labels\" which are really the units are the same for the y-axis\n",
    "for thing in PracCol:\n",
    "    lab_check.append(TheTry[thing][\"Label\"])\n",
    "\n",
    "if all(lab_check[0]==thing for thing in lab_check)==True: #checks all labels are teh same, if so, we do below\n",
    "    #our for loop to ge through everythibng to add to the plot\n",
    "    for thing in PracCol:\n",
    "        choce=clrs[clr_c]\n",
    "        y=TheTry[thing]['points'] #we take the value for points from the column value in the list of columns\n",
    "        point=scatter(x,y,c=choce,alpha=0.5, label=TheTry[thing][\"Header\"])\n",
    "        #find a way to connect the dots for each group\n",
    "        clct_labels.append(point)\n",
    "        clr_c+=1\n",
    "    #we can do teh following, because the units for teh data are the same\n",
    "    ylabel(TheTry[PracCol[0]][\"Label\"])\n",
    "    \n",
    "else:\n",
    "    for thing in PracCol:\n",
    "        choce=clrs[clr_c]\n",
    "        y=TheTry[thing]['points']\n",
    "        #we comdine the units (label) with the type of data (header) so we don't mix units on the ylabel\n",
    "        con_cat=TheTry[thing][\"Header\"]+\",\"+TheTry[thing][\"Label\"]\n",
    "        point=scatter(x,y,c=choce,alpha=0.5, label=con_cat,norm=True)\n",
    "        #find a way to connect the dots for each group\n",
    "        clct_labels.append(point)\n",
    "        clr_c+=1\n",
    "    #we can do teh following, because the units for teh data are the same\n",
    "    ylabel(\"Check the legend, units not same\")\n",
    "\n",
    "xlabel(TheTry[0][\"Header\"]) #the x-ax value is zero, must be changed to args.x_ax when moved to Spyder\n",
    "\n",
    "legend(handles=clct_labels)\n",
    "\n",
    "show()"
   ]
  },
  {
   "cell_type": "code",
   "execution_count": 3,
   "metadata": {
    "collapsed": true
   },
   "outputs": [],
   "source": [
    "#stuff from Physics lab for possibel reuse\n",
    "\n",
    "#%matplotlib inline\n",
    "#import numpy as np\n",
    "#import matplotlib.pyplot as plt\n",
    "#from __future__ import division\n",
    "#import os\n",
    "\n",
    "#try:\n",
    "    #mydatafile = open(\"CDC_STD_td.txt\")\n",
    "#except:\n",
    "    #print(\"Something went wrong. Is Your file in the same directory as this notebook?\")\n",
    "#Retrieving Data from Tab Delimited Text File\n",
    "#a,b,c,d,e=np.genfromtxt(mydatafile, skip_header=1, delimiter=\"\\t\", usecols=(0,1,2,3,4),unpack=True)\n",
    "#print(a)"
   ]
  },
  {
   "cell_type": "code",
   "execution_count": 35,
   "metadata": {},
   "outputs": [
    {
     "name": "stdout",
     "output_type": "stream",
     "text": [
      "575593.0\n"
     ]
    }
   ],
   "source": [
    "#finding the max y-value; requires the list fo lists to get simplified first; why did I write this?\n",
    "def y_find(lols,cls): #takes a list of lists and the columns to check\n",
    "    basket=[max(lols[thing]) for thing in cls]\n",
    "    #creates a list containg the maximum value from \n",
    "    MaxY=max(basket)\n",
    "    return MaxY\n",
    "print(y_find(TheData,PracCol))"
   ]
  },
  {
   "cell_type": "code",
   "execution_count": 4,
   "metadata": {},
   "outputs": [
    {
     "name": "stdout",
     "output_type": "stream",
     "text": [
      "Meow!\n"
     ]
    }
   ],
   "source": [
    "#MyCat goe sthrough a lot... lost of testign new ideas\n",
    "myCat=[1,2,3,4,5,6]\n",
    "if all(isinstance(thing,int) for thing in myCat)==True:\n",
    "    #all checks that every thing is true for such conditions\n",
    "    #isinstance checks that this thing matches the type of object specified\n",
    "    #.... for thign in myCat is list comprehenison and checks every thign in myCat\n",
    "    print(\"Meow!\")"
   ]
  }
 ],
 "metadata": {
  "kernelspec": {
   "display_name": "Python 3",
   "language": "python",
   "name": "python3"
  },
  "language_info": {
   "codemirror_mode": {
    "name": "ipython",
    "version": 3
   },
   "file_extension": ".py",
   "mimetype": "text/x-python",
   "name": "python",
   "nbconvert_exporter": "python",
   "pygments_lexer": "ipython3",
   "version": "3.6.1"
  }
 },
 "nbformat": 4,
 "nbformat_minor": 2
}

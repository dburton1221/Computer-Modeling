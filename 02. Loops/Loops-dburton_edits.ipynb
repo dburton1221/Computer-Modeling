{
 "cells": [
  {
   "cell_type": "markdown",
   "metadata": {},
   "source": [
    "## Looping\n",
    "In this notebook we'll be learning some of the fundamentals of Python loops as they apply to programming in the sciences. In particular simulation, or how by running some code thousands of times, we can determine the expected behavior of a system. In the simplest cases this will be coin flips or dice rolls.\n",
    "\n",
    "New syntactical features of Python will be the $\\texttt{for}$ and the $\\texttt{while}$ loops. Because these are fundamentally structured to *iterate* over data sets, we will have to make up data. To do this, I'll introduce:\n",
    "* A $\\texttt{numpy}$ array\n",
    "* Generating random integers with $\\texttt{randint}$\n",
    "\n",
    "These are just simple ways to 'create' data for us to loop over. What we are doing with loops is looking at each thing in some collection of things, and making a decision. \n",
    "\n",
    "The examples and problems here are a step above introductory. For a very simple introduction, review the lesson on [learnpython.org](https://www.learnpython.org/en/Loops).\n",
    "\n",
    "### For loops and the range statement\n",
    "Below is an example of how to write a $\\texttt{for}$ loop. Let's solve the problem related to *gymnastics judging*. A gymnast's score is determined by a panel of 6 judges who each decide a score between 0.0 and 10.0. The final score is determined by discarding the high and low scores, and averaging the remaining 4. Write a function $\\texttt{gymnastics_score}$ that takes a list of 6 values and prints their average, after throwing out the high and low scores. To do this example, we have to introduce some new ideas in Python:\n",
    "* The for loop. In this case the for loop is iterating over each item. \n",
    "* Generating random integers with $\\texttt{randint}$\n"
   ]
  },
  {
   "cell_type": "code",
   "execution_count": 15,
   "metadata": {},
   "outputs": [
    {
     "name": "stdout",
     "output_type": "stream",
     "text": [
      "[ 0.4  0.5  2.9  1.9  1.8  3.7]\n",
      "1.775\n",
      "1.775\n"
     ]
    }
   ],
   "source": [
    "# This is a function for creating random integers - the gymnastic scores\n",
    "from numpy.random import randint \n",
    "\n",
    "# Lets write a function to determine the score\n",
    "def gymnastics_score(scores):\n",
    "    # first go through the data and find the \n",
    "    # high and low scores to throw out\n",
    "    high = 0\n",
    "    low  = 5\n",
    "    total = 0\n",
    "    for s in scores:\n",
    "        if s > high:\n",
    "            high = s  # Assigns a new, higher value to high\n",
    "        if s < low:\n",
    "            low = s   # Assigns a new, lower value to low\n",
    "        total += s\n",
    "    \n",
    "    # correct the total by removing high and low\n",
    "    total = total - high - low       \n",
    "    \n",
    "    #return the average of 4 numbers.\n",
    "    return total / 4.\n",
    "\n",
    "# Testing\n",
    "# This will be an array of 6 integers, from 0 to 40. Division by 10 makes a set of scores.\n",
    "scores_1 = randint(0,41,6)/10. \n",
    "print(scores_1)\n",
    "print(gymnastics_score(scores_1))\n",
    "\n",
    "# Just for fun, check out this magic!\n",
    "scores_1.sort() # Sorting the scores makes the first item the low and the last the high\n",
    "# average the scores, excluding the first and last ones.\n",
    "print(scores_1[1:-1].mean())\n"
   ]
  },
  {
   "cell_type": "markdown",
   "metadata": {},
   "source": [
    "## $\\texttt{while}$ Loops\n",
    "\n",
    "To see an interesting application of the $\\texttt{while}$ loop consider this problem.\n",
    "\n",
    "Alice tosses a fair coin until she sees two consecutive heads. Bob tosses another fair coin until he sees a head followed by a tail. Write a program to estimate the probability that Alice will make fewer tosses than Bob? "
   ]
  },
  {
   "cell_type": "code",
   "execution_count": 16,
   "metadata": {},
   "outputs": [
    {
     "name": "stdout",
     "output_type": "stream",
     "text": [
      "Probability Alice less than Bob: 0.321900. Theory is: 0.322314\n"
     ]
    }
   ],
   "source": [
    "# These are counters\n",
    "# A = Number of coin tosses Alice makes until she gets heads-heads\n",
    "# B = Number of coin tosses Bob makes until he gets heads-tail\n",
    "# P = Number of times Alice makes few tosses than Bob\n",
    "P = 0\n",
    "\n",
    "# This is the number of times Alice and Bob will have a contest to see who makes less \n",
    "# flips. The larger N, better the average.\n",
    "N =100000\n",
    "\n",
    "# The for loop is how many times they have the contest.\n",
    "for r in range(N):\n",
    "    \n",
    "    # First, see how many flips it takes Alice:\n",
    "    toss_o,toss = False,False   # False = heads; toss_o is the previous toss; toss is current\n",
    "    count = 0\n",
    "    while not (toss_o and toss): # Flip until desired outcome (False-False)\n",
    "        toss_o = toss\n",
    "        toss   = randint(0,2)>0  # A random integer, but greater than 0, makes True/False\n",
    "        count += 1\n",
    "    A = count\n",
    "    \n",
    "    # Now, the same thing for Bob, he needs a heads then a tail\n",
    "    count = 0\n",
    "    while not(toss and (not toss_o)):\n",
    "        toss_o = toss\n",
    "        toss   = randint(0,2)>0\n",
    "        count += 1   \n",
    "    B = count\n",
    "    if A<B:\n",
    "        P+=1.\n",
    "\n",
    "print(\"Probability Alice less than Bob: %f. Theory is: %f\"%(P/N,39/121.))"
   ]
  },
  {
   "cell_type": "markdown",
   "metadata": {},
   "source": [
    "## $\\texttt{while}$ problem\n",
    "\n",
    "In 1693, Samuel Pepys asked Isaac Newton which was more likely: getting at least one 1 when rolling a fair die 6 times or getting at least two 1's when rolling a fair die 12 times. Use a simulation structured like the one above to determine the correct answer. Make $\\mathtt{N}$ at least 10,000.\n"
   ]
  },
  {
   "cell_type": "code",
   "execution_count": 17,
   "metadata": {},
   "outputs": [
    {
     "name": "stdout",
     "output_type": "stream",
     "text": [
      "Probability of one 1 in six rolls: 0.287700.\n",
      "Probability of two 1's in twelve rolls: 0.242000.\n"
     ]
    }
   ],
   "source": [
    "# Hint: use this function to see how many ones are in an array\n",
    "def count_ones(array): #thsi function counts teh number of ones in an array\n",
    "    count=0 #we start the ocunt at zero\n",
    "    for i in range(len(array)): #we make a for loop that is as logn as the length of the array\n",
    "        if array[i]==1: #we check each item in the array at index of i to see if it equals one\n",
    "            count+=1 #if so, we make count increase by one\n",
    "        else: #if not, we don't\n",
    "            count+=0\n",
    "    return count #function returns the count\n",
    "\n",
    "P_6=0 #our probablity starts at zero\n",
    "P_12=0\n",
    "# assign N, then create a for loop for N times\n",
    "N=10000\n",
    "for r in range(N):\n",
    "# use randint to get the values for six and twelve die rolls\n",
    "    die_six=randint(1,7,6) #randint arguments are rolls from 1 to 8 for 6 rolls, dies have 6 sides\n",
    "    die_twelve=randint(1,7,12) #randint arguments are rolls from 1 to 8 for 12 rolls, dies have 6 sides\n",
    "# see if the required number of ones has occured\n",
    "    count_six=0\n",
    "    while count_ones(die_six)<1: #we keep trying until we get one 1 from rolling an 8 sided die\n",
    "        die_six=randint(1,7,6) #thsi is our reroll\n",
    "        count_six+=1 #every time we don't get our wanted outcome, we raise the coutn by one\n",
    "    \n",
    "    count_twelve=0\n",
    "    while count_ones(die_twelve)<2: #we keep trying until we get at least two ones in the array\n",
    "        die_twelve=randint(1,7,12) #this is our reroll of the die\n",
    "        count_twelve+=1 #we raise teh coutn each time we don't get what we want\n",
    "        \n",
    "    if count_six<count_twelve: #if six happens sooner, then up its count by one\n",
    "        P_6+=1\n",
    "    elif count_six>count_twelve: #if twelve happens sooner, up its count by one\n",
    "        P_12+=1\n",
    "    else: #if same chance of each, neither coutn increases\n",
    "        P_6+=0\n",
    "        P_12+=0\n",
    "# Keep some statistics on the desired number of ones being rolled\n",
    "prob6=P_6/N #calculatign probablility of getting one 1 in six rolls first\n",
    "prob12=P_12/N #probability pf getting two ones in twelve rolls first\n",
    "# outside of loop, report the chances of one 1 in six rolls and two 1 in twelve\n",
    "print(\"Probability of one 1 in six rolls: %f.\"%prob6)\n",
    "print(\"Probability of two 1's in twelve rolls: %f.\"%prob12)"
   ]
  },
  {
   "cell_type": "markdown",
   "metadata": {},
   "source": [
    "## Nested $\\texttt{for}$ loops\n",
    "\n",
    "Finally, consider the problem of visiting each square of a checker board. We need to look at each row, and then each column in the row. This is a nested loop. Good problems for learning about them are found in producing a specific pattern with $\\texttt{print}$ statements. Inspect the example below. Note that it uses the $\\texttt{range}$ funtions, which produces a list of integers with the characteristics $\\texttt{range(start,stop+1,step)}$. These are then iterated over."
   ]
  },
  {
   "cell_type": "code",
   "execution_count": 18,
   "metadata": {},
   "outputs": [
    {
     "name": "stdout",
     "output_type": "stream",
     "text": [
      "+---------+\n",
      "-+-------+-\n",
      "--+-----+--\n",
      "---+---+---\n",
      "----+-+----\n",
      "-----+-----\n",
      "----+-+----\n",
      "---+---+---\n",
      "--+-----+--\n",
      "-+-------+-\n",
      "+---------+\n"
     ]
    }
   ],
   "source": [
    "from __future__ import print_function\n",
    "N = 11 # NxN grid\n",
    "for row in range(N): # iterate over rows N (11) times\n",
    "    for col in range(N): # iteratre over columns N (11) times\n",
    "        if row == col or row == (N-col-1): #if row value equals column value or as written, we print + \n",
    "            print(\"+\",end='') # print a \"+\" but no return\n",
    "        else: #any nonmatches we print -\n",
    "            print(\"-\",end='')\n",
    "    print() # prints a newline"
   ]
  },
  {
   "cell_type": "code",
   "execution_count": 19,
   "metadata": {},
   "outputs": [
    {
     "name": "stdout",
     "output_type": "stream",
     "text": [
      "+---------+\n",
      "++-------++\n",
      "+++-----+++\n",
      "++++---++++\n",
      "+++++-+++++\n",
      "+++++++++++\n",
      "+++++++++++\n",
      "+++++++++++\n",
      "+++++++++++\n",
      "+++++++++++\n",
      "+++++++++++\n"
     ]
    }
   ],
   "source": [
    "N = 11 # NxN grid\n",
    "for row in range(N): # iterate over rows N (11) times\n",
    "    for col in range(N): # iteratre over columns N (11) times\n",
    "        if row >= col or row >= (N-col-1): #if row val grtr thn eql colum val or as wrtn, we print + \n",
    "            print(\"+\",end='') # print a \"+\" but no return\n",
    "        else: #any nonmatches we print -\n",
    "            print(\"-\",end='')\n",
    "    print() # prints a newline"
   ]
  },
  {
   "cell_type": "code",
   "execution_count": 20,
   "metadata": {},
   "outputs": [
    {
     "name": "stdout",
     "output_type": "stream",
     "text": [
      "+++++++++++\n",
      "+++++++++++\n",
      "+++++++++++\n",
      "+++++++++++\n",
      "+++++++++++\n",
      "+++++++++++\n",
      "+++++-+++++\n",
      "++++---++++\n",
      "+++-----+++\n",
      "++-------++\n",
      "+---------+\n"
     ]
    }
   ],
   "source": [
    "N = 11 # NxN grid\n",
    "for row in range(N): # iterate over rows N (11) times\n",
    "    for col in range(N): # iteratre over columns N (11) times\n",
    "        if row <= col or row <= (N-col-1): #if row val less thn eql colum val or as wrtn, we print + \n",
    "            print(\"+\",end='') # print a \"+\" but no return\n",
    "        else: #any nonmatches we print -\n",
    "            print(\"-\",end='')\n",
    "    print() # prints a newline"
   ]
  },
  {
   "cell_type": "code",
   "execution_count": 21,
   "metadata": {},
   "outputs": [
    {
     "name": "stdout",
     "output_type": "stream",
     "text": [
      "+---------+\n",
      "++-------++\n",
      "+++-----+++\n",
      "++++---++++\n",
      "+++++-+++++\n",
      "+++++++++++\n",
      "+++++-+++++\n",
      "++++---++++\n",
      "+++-----+++\n",
      "++-------++\n",
      "+---------+\n"
     ]
    }
   ],
   "source": [
    "N = 11 # NxN grid\n",
    "for row in range(N): # iterate over rows of N\n",
    "    for col in range(N): # iteratre over columns in that row \n",
    "        if row<6: #if less than row six, we do the following\n",
    "            if row >= col or row >= (N-col-1): #row val grtr than eql to col val or as wrtn, print +\n",
    "                print(\"+\",end='') # print a \"+\" but no return (newline)\n",
    "            else: #otherwwise print -\n",
    "                print(\"-\",end='')\n",
    "        else: #if greater than row six, we woudl end up doign this\n",
    "            if row <= col or row <= (N-col-1): #row val less than eql to col val or as wrtn, print +\n",
    "                print(\"+\",end='') # print a \"+\" but no return\n",
    "            else:\n",
    "                print(\"-\",end='')\n",
    "    print() # print a return, newline"
   ]
  }
 ],
 "metadata": {
  "kernelspec": {
   "display_name": "Python 3",
   "language": "python",
   "name": "python3"
  },
  "language_info": {
   "codemirror_mode": {
    "name": "ipython",
    "version": 3
   },
   "file_extension": ".py",
   "mimetype": "text/x-python",
   "name": "python",
   "nbconvert_exporter": "python",
   "pygments_lexer": "ipython3",
   "version": "3.6.1"
  }
 },
 "nbformat": 4,
 "nbformat_minor": 2
}

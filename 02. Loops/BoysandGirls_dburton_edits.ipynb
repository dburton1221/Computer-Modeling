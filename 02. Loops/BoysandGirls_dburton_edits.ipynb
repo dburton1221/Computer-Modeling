{
 "cells": [
  {
   "cell_type": "markdown",
   "metadata": {},
   "source": [
    "## Boys and Girls Problem\n",
    "A couple beginning a family decides to keep having children until they have at least one of either sex. Estimate the average number of children they will have via simulation using a while loop. Also estimate the most common outcome (record the frequency counts for 2, 3, and 4 children, and also for 5 and above). \n",
    "\n",
    "Make the probability $\\texttt{p}$ of having a girl something that can be adjusted by writing a function that accepts a probability $\\texttt{p}$ and a number of simulations to conduct $\\texttt{N}$ and returns the average number of children.\n",
    "\n",
    "### Note on random numers\n",
    "We are going to need a random number that is uniformly distributed between 0 and 1. This is done by importing the $\\texttt{rand}$ function from $\\texttt{numpy.random}$. For example, we can print 10 such randoms and use them to determine a baby's gender as follows."
   ]
  },
  {
   "cell_type": "code",
   "execution_count": 1,
   "metadata": {},
   "outputs": [
    {
     "name": "stdout",
     "output_type": "stream",
     "text": [
      "0.20938  ->  Girl\n",
      "0.78181  ->  Boy\n",
      "0.71753  ->  Boy\n",
      "0.47837  ->  Girl\n",
      "0.02517  ->  Girl\n",
      "0.18150  ->  Girl\n",
      "0.24932  ->  Girl\n",
      "0.89468  ->  Boy\n",
      "0.33571  ->  Girl\n",
      "0.03272  ->  Girl\n"
     ]
    }
   ],
   "source": [
    "from numpy.random import rand\n",
    "from __future__ import print_function\n",
    "i = 0  # Just a counter for the while loop\n",
    "p = .5 # Below this value will be a girl, above or equal - boy\n",
    "while (i<10):\n",
    "    r = rand()\n",
    "    print(\"%6.5f  ->  \"%r,end='')\n",
    "    if r < p:\n",
    "        print(\"Girl\")\n",
    "    else: \n",
    "        print(\"Boy\")\n",
    "    i+=1   # short hand for i = i + 1"
   ]
  },
  {
   "cell_type": "markdown",
   "metadata": {},
   "source": [
    "### Write the function\n",
    "In the cell below, write a function to return the average number of children. Call it $\\texttt{boys_and_girls}$. The function should accept parameters for the number of simulations, $\\texttt{N}$ and the probability of having a girl, $\\texttt{p}$. \n",
    "\n",
    "Note that there will be an outer loop on the number of simulations, $\\texttt{N}$, and an inner loop that keeps producing randomly sexed childrenuntil there is one boy and one girl. The function returns the total number of children divided by the number of simulations."
   ]
  },
  {
   "cell_type": "code",
   "execution_count": 2,
   "metadata": {
    "collapsed": true
   },
   "outputs": [],
   "source": [
    "def boys_and_girls(N,p): #N is number simulations, p is probability of havign girl\n",
    "    c_count=0 #the number of children total, starts at zero\n",
    "    for i in range(N):\n",
    "        b_count,g_count=0,0 #counting boys and girls, multiple assignments\n",
    "        while not (b_count>=1 and g_count>=1):#keeps making babies until we have 1 boy and 1 girl\n",
    "            baby_val=rand() #we get a random number between 0 and 1\n",
    "            if baby_val<p:\n",
    "                g_count+=1 #if the baby value is less than 0.5, we raise teh girl count\n",
    "                c_count+=1 #raise the child coutn everytiem a baby made\n",
    "            else: #otherwise, the baby is a boy\n",
    "                b_count+=1 #and so we raise the boy count\n",
    "                c_count+=1\n",
    "    P_C=c_count/N #this is the average number of chidlren needed\n",
    "    return P_C #this returns the probable numebr of kids needed to get one boy and one girl\n"
   ]
  },
  {
   "cell_type": "markdown",
   "metadata": {
    "collapsed": true
   },
   "source": [
    "### Test the function\n",
    "\n",
    "Now call the function with $\\texttt{p=}$  0.5 and $\\texttt{N=}$  1 million simulations (learn to write this in scientific notation, or $\\texttt{1e6}$). Report the answer. Also call the function with p=0.49, a more realistic probability for having a girl."
   ]
  },
  {
   "cell_type": "code",
   "execution_count": 3,
   "metadata": {},
   "outputs": [
    {
     "name": "stdout",
     "output_type": "stream",
     "text": [
      "The average number of kids needed is: 3.00011\n",
      "The average number of kids needed is: 3.00154\n"
     ]
    }
   ],
   "source": [
    "print(\"The average number of kids needed is: %6.5f\" %boys_and_girls(10**6,0.5))\n",
    "print(\"The average number of kids needed is: %6.5f\" %boys_and_girls(10**6,0.49))"
   ]
  },
  {
   "cell_type": "markdown",
   "metadata": {},
   "source": [
    "### Revision\n",
    "\n",
    "Alter your original function to accept a third parameter, $\\texttt{number_of_children}$. When the function completes, have it report the probability of a family that uses this strategy having specified number children. For example, if you pass $\\texttt{number_of_children}$ is 7 to the function, it should return the percentage of simulations that give 7 children before a child of each gender is born. Use your modified function to create a table reporting results for the probability of having between 2 an 9 children."
   ]
  },
  {
   "cell_type": "code",
   "execution_count": 4,
   "metadata": {
    "collapsed": true
   },
   "outputs": [],
   "source": [
    "def boys_and_girls_v2(N,p,ch): #ch is num kids, edit so it shows the proper/intended question\n",
    "    got_it=0 #number of times b_count+g_count==ch\n",
    "    for i in range(N):\n",
    "        b_count,g_count=0,0 #counting boys and girls\n",
    "        while not (b_count>=1 and g_count>=1):#keeps making babies until we have 1 boy and 1 girl\n",
    "            baby_val=rand() #we get a random number between 0 and 1\n",
    "            if baby_val<p:\n",
    "                g_count+=1 #if the baby value is less than 0.5, we raise teh girl count\n",
    "            else: #otherwise, the baby is a boy\n",
    "                b_count+=1 #and so we raise the boy count\n",
    "        if b_count+g_count==ch: #we check to see if numbe of boys and girls equals eql num kids\n",
    "            got_it+=1\n",
    "        else:\n",
    "            got_it+=0\n",
    "    P_G=got_it/N\n",
    "    return P_G #this returns the probability of having that many kids until one girl and one boy"
   ]
  },
  {
   "cell_type": "code",
   "execution_count": 5,
   "metadata": {},
   "outputs": [
    {
     "name": "stdout",
     "output_type": "stream",
     "text": [
      "Children       Probability\n",
      "2.0            0.499725\n",
      "3.0            0.249517\n",
      "4.0            0.124863\n",
      "5.0            0.062575\n",
      "6.0            0.031563\n",
      "7.0            0.015647\n",
      "8.0            0.007878\n",
      "9.0            0.003884\n"
     ]
    }
   ],
   "source": [
    "print(\"Children       Probability\")\n",
    "for i in range(2,10):\n",
    "    n_kids=boys_and_girls_v2(10**6,0.49,i)\n",
    "    print(\"%1.1f            %f\" %(i,n_kids))"
   ]
  },
  {
   "cell_type": "markdown",
   "metadata": {},
   "source": [
    "### Comments\n",
    "Did the value of p make much of a difference? Can you reach any conclusions about the wisdom of this strategy? How many children would you expect to have? How many children might you were"
   ]
  },
  {
   "cell_type": "code",
   "execution_count": 6,
   "metadata": {},
   "outputs": [
    {
     "data": {
      "image/png": "[encoded data removed]",
      "text/plain": [
       "<matplotlib.figure.Figure at 0x1ad15204fd0>"
      ]
     },
     "metadata": {},
     "output_type": "display_data"
    }
   ],
   "source": [
    "import matplotlib.pyplot as plt #used for plotting\n",
    "\n",
    "#our inputs and tracking lists\n",
    "p_range=[0.1,0.15,0.2,0.25,0.3,0.35,0.4,0.45,0.5,0.55,0.6,0.65,0.7,0.75,0.8,0.85,0.9,0.95]\n",
    "pr_x=[] #our empty list of x-values\n",
    "pr_y=[] #our empty list of y-values\n",
    "\n",
    "#our loop to get everythign done\n",
    "for i in range(len(p_range)):\n",
    "    pr_x+=[p_range[i]] #records the input from p_range in a list\n",
    "    out=boys_and_girls(10**6,p_range[i]) #calculates average number of children for given input\n",
    "    pr_y+=[out] #adds the generated output to a list\n",
    "\n",
    "#makign data understandable as a graph\n",
    "plt.plot(pr_x,pr_y,'ro') #specifies our data points\n",
    "plt.axis([0,1,0,20]) #xmin, xmax, ymin,ymax\n",
    "plt.title(\"Number Kids Needed by Girl Probability\") #graph title\n",
    "plt.xlabel(\"Probability of Having a Girl\") #x-axis label\n",
    "plt.ylabel(\"Kids Needed to Have at least One of Each Sex\") #y-axis label\n",
    "plt.show() #shows our plot"
   ]
  }
 ],
 "metadata": {
  "kernelspec": {
   "display_name": "Python 3",
   "language": "python",
   "name": "python3"
  },
  "language_info": {
   "codemirror_mode": {
    "name": "ipython",
    "version": 3
   },
   "file_extension": ".py",
   "mimetype": "text/x-python",
   "name": "python",
   "nbconvert_exporter": "python",
   "pygments_lexer": "ipython3",
   "version": "3.6.1"
  }
 },
 "nbformat": 4,
 "nbformat_minor": 1
}

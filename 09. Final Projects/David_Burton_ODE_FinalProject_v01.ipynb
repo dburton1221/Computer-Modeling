{
 "cells": [
  {
   "cell_type": "markdown",
   "metadata": {},
   "source": [
    "# David Burton's Zombie Invasion"
   ]
  },
  {
   "cell_type": "markdown",
   "metadata": {},
   "source": [
    "# Theory Overview"
   ]
  },
  {
   "cell_type": "markdown",
   "metadata": {},
   "source": [
    "Modeling a zombie invasion involves the use of population dynamics and disease dynamics. Every disease and population dynamic equation is a first order differential equation, so an equation is necessary to integrate the differential equations forward- **Euler-Richardson**, which uses the midpoint slope to estimate the next point:\n",
    "$$t_{n+1/2}=t_{n}+\\frac{\\Delta t}{2}$$\n",
    "$$x_{n+1/2}=x_{n}+f(t_{n},x_{n})\\frac{\\Delta t}{2}$$\n",
    "$$f_{midpoint}=f(t_{n+1/2},x_{n+1/2})$$\n",
    "$$x_{n+1}=f_{midpoint}\\Delta t+x_{n}$$\n",
    "<br>\n",
    "<br>\n",
    "The **disease dynamics** are modeled with three seperate differential equations: Susceptible, Infected, and Recovered.\n",
    "For the below equations,\n",
    "$S$ is the susceptible population,\n",
    "$I$ is the infected population, \n",
    "$N$ is the total population,\n",
    "$\\beta$ is the rate of infection, and\n",
    "$\\gamma$ is the rate of recovery.\n",
    "<br>\n",
    "<br>\n",
    "The rate of people becoming **susceptible** to an infection is calculated with the following:\n",
    "$$\\frac{dS}{dt}= -\\frac{\\beta IS}{N}$$\n",
    "<br>\n",
    "<br>\n",
    "The rate of people becoming **infected** is calculated with the following:\n",
    "$$\\frac{dI}{dt}= \\frac{\\beta IS}{N} -\\gamma I$$\n",
    "<br>\n",
    "<br>\n",
    "The rate of people **recovering** to an infection is calculated with the following:\n",
    "$$\\frac{dR}{dt}= \\gamma I$$\n",
    "<br>\n",
    "<br>\n",
    "The **population dynamics** are modeled with three different equations:\n",
    "<br>\n",
    "<br>\n",
    "The rate at which **one species changes over time without a carrying capacity** is calculated with the following:\n",
    "$$\\frac{dx}{dt}= rx$$\n",
    "<br>\n",
    "In the above equation, $r$ is the birth rate minus the death rate, and $x$ is the population.\n",
    "<br>\n",
    "<br>\n",
    "The rate at which **one species changes over time with a carrying capacity** is calculated with the following:\n",
    "$$\\frac{dx}{dt}= rx(1-\\frac{x}{K})$$\n",
    "<br>\n",
    "In the above equation, $r$ is the birth rate minus the death rate, $x$ is the population, and $K$ is the carrying capacity.\n",
    "<br>\n",
    "<br>\n",
    "The rate at which **two species interact over time** is calculated with the following equations:\n",
    "$$\\frac{dx}{dt}= \\alpha x-\\beta xy$$ $$\\frac{dy}{dt}= \\delta xy-\\gamma y $$\n",
    "<br>\n",
    "In the above equation, $x$ is the prey population, $y$ is the predator population, $\\alpha$ is teh birth rat eminus the death rate of prey species, $\\beta$ is the rate at which predator catches prey, $\\delta$ is the conversion of prey to predator, and $\\gamma$ is the death rate of the predator species.\n",
    "<br>"
   ]
  },
  {
   "cell_type": "markdown",
   "metadata": {},
   "source": [
    "# Program Implementation"
   ]
  },
  {
   "cell_type": "markdown",
   "metadata": {},
   "source": [
    "These are the functions that I am importing to use in solvign the problems."
   ]
  },
  {
   "cell_type": "code",
   "execution_count": 1,
   "metadata": {
    "collapsed": true
   },
   "outputs": [],
   "source": [
    "from pylab import array,sqrt, scatter, show, title, xlabel, ylabel\n",
    "from random import randint\n",
    "%matplotlib inline"
   ]
  },
  {
   "cell_type": "markdown",
   "metadata": {},
   "source": [
    "**These are my functions for modeling the population dynamics of a zombie invasion.**"
   ]
  },
  {
   "cell_type": "markdown",
   "metadata": {},
   "source": [
    "**eurich** is my Euler-Richardson function that is used to integrate a function (f) that contains a variable (x) and a current time (t) forward in time by a specific change in time (dt). Eurich returns an output of the new variable x at a time that is some change in time (dt) forward from the current time (t)."
   ]
  },
  {
   "cell_type": "code",
   "execution_count": 2,
   "metadata": {
    "collapsed": true
   },
   "outputs": [],
   "source": [
    "#euler richardson function\n",
    "def eurich(f,x,pack,t,dt):\n",
    "    #pack is our fudge factor so that all functions have the same input format when passed to eurich\n",
    "    tm=t+(dt/2) #calculatign the midpoint time\n",
    "    xm=x+f(x,pack,t)*(dt/2) #calculatign the midpoint position\n",
    "    fm=f(xm,pack,tm) #calculatign the midpoint slopes\n",
    "    return x+fm*dt #calculatign the final xposition as estimated by the slope at the midpoint"
   ]
  },
  {
   "cell_type": "markdown",
   "metadata": {},
   "source": [
    "**A Note on Formatting of Functions**\n",
    "<br>\n",
    "Since all the functions will return a derivative of something, the input format will be something, tuple of modifiers and other stuff, and the current time, and the output will always be the derivative of that something."
   ]
  },
  {
   "cell_type": "markdown",
   "metadata": {},
   "source": [
    "**rate-susp** is my rate of suspetibility function, which is based off of the following population dynamic equation:$$\\frac{dS}{dt}= -\\frac{\\beta IS}{N}$$ It takes in beta (the rate of infection), I (the infected population), S (the susceptible population), and N (the total population) as inputs, and it returns as an output the rate of change in the susceptible population."
   ]
  },
  {
   "cell_type": "code",
   "execution_count": 3,
   "metadata": {
    "collapsed": true
   },
   "outputs": [],
   "source": [
    "def rate_susp(S,pak,t):\n",
    "    beta,I,N=pak\n",
    "    return -(beta*I*S)/N"
   ]
  },
  {
   "cell_type": "markdown",
   "metadata": {},
   "source": [
    "For example, if the rate of infection (beta) is 0.03, the infected population (I) is 100, the susceptible population is 25, and the total population is 150, then the rate of change in the susceptible population will be:"
   ]
  },
  {
   "cell_type": "code",
   "execution_count": 4,
   "metadata": {},
   "outputs": [
    {
     "name": "stdout",
     "output_type": "stream",
     "text": [
      "-0.5\n"
     ]
    }
   ],
   "source": [
    "#Our Inputs\n",
    "I_rate=0.03 #the infection rate\n",
    "I_pop=100 #the infected population\n",
    "S_pop=25 #the susceptible population\n",
    "N_pop=150 #the total population\n",
    "\n",
    "package=(I_rate,I_pop,N_pop) #packaging the nonstandard inputs into a tuple\n",
    "\n",
    "time=0 #starting time is zero\n",
    "\n",
    "print(rate_susp(S_pop,package,time)) #printing the output"
   ]
  },
  {
   "cell_type": "markdown",
   "metadata": {},
   "source": [
    "**rate_infected** is my rate of infection function, which is based off of the following population dynamic equation: $$\\frac{dI}{dt}= \\frac{\\beta IS}{N} -\\gamma I$$ It takes in beta (the rate of infection), I (the infected population), S (the susceptible population), N (the total population), gamma (the rate at which people recover) as inputs, and it returns as an output the rate at which people become infected."
   ]
  },
  {
   "cell_type": "code",
   "execution_count": 5,
   "metadata": {
    "collapsed": true
   },
   "outputs": [],
   "source": [
    "def rate_infected(I,pak,t):\n",
    "    beta,S,N,gamma=pak\n",
    "    return ((beta*I*S)/N)-(gamma*I)"
   ]
  },
  {
   "cell_type": "markdown",
   "metadata": {},
   "source": [
    "For example, if the rate of infection (beta) is 0.03, the infected population (I) is 100, the susceptible population is 25, the total population is 150, and the recovery rate (gamma) is 0.001, then the rate of change in the infected population will be:"
   ]
  },
  {
   "cell_type": "code",
   "execution_count": 6,
   "metadata": {},
   "outputs": [
    {
     "name": "stdout",
     "output_type": "stream",
     "text": [
      "0.4\n"
     ]
    }
   ],
   "source": [
    "#Our Inputs\n",
    "I_rate=0.03 #the infection rate\n",
    "I_pop=100 #the infected population\n",
    "S_pop=25 #the susceptible population\n",
    "N_pop=150 #the total population\n",
    "Rec_rate=0.001 #teh recovery rate\n",
    "\n",
    "package=(I_rate,S_pop,N_pop,Rec_rate) #packaging the nonstandard inputs into a tuple\n",
    "\n",
    "time=0 #starting time is zero\n",
    "print(rate_infected(I_pop,package,time)) #printing the output"
   ]
  },
  {
   "cell_type": "markdown",
   "metadata": {},
   "source": [
    "**rate_recovery** is my rate of recovery function, which is based off of the following population dynamic equation:\n",
    " $$\\frac{dR}{dt}= \\gamma I$$ It takes in I (the infected population) and gamma (the rate at which people recover) as inputs, and it returns as an output the rate at which people recover."
   ]
  },
  {
   "cell_type": "code",
   "execution_count": 7,
   "metadata": {
    "collapsed": true
   },
   "outputs": [],
   "source": [
    "def rate_recovery(R,pak,t):\n",
    "    I,gamma=pak\n",
    "    return gamma*I"
   ]
  },
  {
   "cell_type": "markdown",
   "metadata": {},
   "source": [
    "For example, if infected population (I) is 100 and the recovery rate (gamma) is 0.001, then the rate at which people recover will be:"
   ]
  },
  {
   "cell_type": "code",
   "execution_count": 8,
   "metadata": {},
   "outputs": [
    {
     "name": "stdout",
     "output_type": "stream",
     "text": [
      "0.1\n"
     ]
    }
   ],
   "source": [
    "#Our Inputs\n",
    "R_pop=0 #the reovered population\n",
    "I_pop=100 #the infected population\n",
    "Rec_rate=0.001 #the recovery rate\n",
    "\n",
    "package=(I_pop,Rec_rate) #packagign nonstandard variables\n",
    "\n",
    "time=0\n",
    "\n",
    "print(rate_recovery(R_pop,package,time)) #printing the output"
   ]
  },
  {
   "cell_type": "markdown",
   "metadata": {},
   "source": [
    "**pop_change_1sp** is my rate of population change for one species function without a carrying capacity, which is based off of the following population dynamic equation: $$\\frac{dx}{dt}= rx$$ It takes in r (the birth rate minus the death rate) and x (the population), then it returns as an output the rate at which the population changes."
   ]
  },
  {
   "cell_type": "code",
   "execution_count": 9,
   "metadata": {
    "collapsed": true
   },
   "outputs": [],
   "source": [
    "def pop_change_1sp(x,pak,t):\n",
    "    r=pak\n",
    "    return r*x"
   ]
  },
  {
   "cell_type": "markdown",
   "metadata": {},
   "source": [
    "For example, if the birth rate is 0.5, the death rate is 0.15 and the population (pop) is 125, then the population change will be:"
   ]
  },
  {
   "cell_type": "code",
   "execution_count": 10,
   "metadata": {},
   "outputs": [
    {
     "name": "stdout",
     "output_type": "stream",
     "text": [
      "43.75\n"
     ]
    }
   ],
   "source": [
    "#Our Inputs\n",
    "BD=0.5-0.15 #the birth rate minus teh death rate\n",
    "pop=125 #the population\n",
    "\n",
    "package=(BD) #packagign nonstandard variables\n",
    "\n",
    "time=0\n",
    "\n",
    "print(pop_change_1sp(pop,package,time)) #printing the output"
   ]
  },
  {
   "cell_type": "markdown",
   "metadata": {},
   "source": [
    "**pop_change_1spK** is my rate of population change for one species function with a carrying capacity, which is based off of the following population dynamic equation: $$\\frac{dx}{dt}= rx(1-\\frac{x}{K})$$ It takes in r (the birth rate minus the death rate), x (the population), and K (the carrying capacity), and it returns as an output the rate at which the population changes."
   ]
  },
  {
   "cell_type": "code",
   "execution_count": 11,
   "metadata": {
    "collapsed": true
   },
   "outputs": [],
   "source": [
    "def pop_change_1spK(x,pak,t):\n",
    "    r,K=pak\n",
    "    return r*x*(1-(x/K))"
   ]
  },
  {
   "cell_type": "markdown",
   "metadata": {},
   "source": [
    "For example, if the birth rate is 0.5, the death rate is 0.15, the population (pop) is 125, and the carrying capacity is 150, then the population change will be:"
   ]
  },
  {
   "cell_type": "code",
   "execution_count": 12,
   "metadata": {},
   "outputs": [
    {
     "name": "stdout",
     "output_type": "stream",
     "text": [
      "7.291666666666665\n"
     ]
    }
   ],
   "source": [
    "#Our Inputs\n",
    "BD=0.5-0.15 #the birth rate minus teh death rate\n",
    "pop=125 #the population\n",
    "C_cap=150 #teh carrying capacity\n",
    "\n",
    "package=(BD,C_cap) #packagign the nonstandard inputs\n",
    "time=0\n",
    "print(pop_change_1spK(pop,package,time)) #printing the output"
   ]
  },
  {
   "cell_type": "markdown",
   "metadata": {},
   "source": [
    "**pop_change_2sp_xout** and **pop_change_2sp_yout** are my predator-prey population interactions functions, which are based off of the population dynamic equations: $$\\frac{dx}{dt}= \\alpha x-\\beta xy$$ $$\\frac{dy}{dt}= \\delta xy-\\gamma y $$It takes alpha (the birth rate minus the death rate for the prey species-x), beta (the success rate of how often the predator species-y gets its prey species-x), delta (the rate that predator can convetr prey into more predator), gamma (the death rate of teh predator species-y), x (the population of the prey species), and y (the population of the predator species)as inputs. They returns as an output the rate at which population x and population y change respectively."
   ]
  },
  {
   "cell_type": "code",
   "execution_count": 13,
   "metadata": {
    "collapsed": true
   },
   "outputs": [],
   "source": [
    "def pop_change_2sp_xout(x,pak,t):\n",
    "    alpha,beta,delta,gamma,y=pak\n",
    "    change_x=(alpha*x)-(beta*x*y)\n",
    "    return change_x\n",
    "\n",
    "def pop_change_2sp_yout(y,pak,t):\n",
    "    alpha,beta,delta,gamma,x=pak\n",
    "    change_y=(delta*x*y)-(gamma*y)\n",
    "    return change_y"
   ]
  },
  {
   "cell_type": "markdown",
   "metadata": {},
   "source": [
    "For example, if birth minus the death rate of the prey species (BD) is 0.5, the success rate of predator species catchign prey species (catch) is 0.01, the rate of predator species converting prey into more predators (conv) is 0.001, the death rate of the predator species (pred_dth) is 0.1, the population of prey species (prey) is 125, and the population of the predator species (pred) is 25, then the rate of change of each population will be:"
   ]
  },
  {
   "cell_type": "code",
   "execution_count": 14,
   "metadata": {},
   "outputs": [
    {
     "name": "stdout",
     "output_type": "stream",
     "text": [
      "31.25\n",
      "0.625\n"
     ]
    }
   ],
   "source": [
    "#Our Inputs\n",
    "BD=0.5 #birth rate minus death rate of prey species\n",
    "catch=0.01 #rate that predators catches prey\n",
    "conv=0.001 #rate of converting prey into predator\n",
    "pred_dth=0.1 #death rate of predators\n",
    "prey=125 #prey population\n",
    "pred=25 #predator population\n",
    "\n",
    "package_x=(BD,catch,conv,pred_dth,pred) #packaging nonstandard inputs with regards to species x (the prey)\n",
    "package_y=(BD,catch,conv,pred_dth,prey) #packaging nonstandard inputs with regards to species y (the predator)\n",
    "\n",
    "print(pop_change_2sp_xout(prey,package_x,time)) #printing the output for rate of species x change\n",
    "print(pop_change_2sp_yout(pred,package_y,time)) #printing the output for rate of species y change"
   ]
  },
  {
   "cell_type": "markdown",
   "metadata": {
    "collapsed": true
   },
   "source": [
    "**zombie_attack** is the zombie attack function which models moves everything forward in time to model the zombie invasion. As inputs, it takes the human population (x), fed zombie population (y), hungry zombie population (z), the startign time (t), the amount of time to move forward (ft), the increment to move forward with Euler-Richardson (dt), and the collection of packages for all functions used in zombie_attack (mega). zombie_attack works by settign the current_time to the start time (t), unpacking mega to get all the packages for each function, and then going through a while loop that moves the current_time forward by an increment of dt until the current_time is no longer less than or equal to the start time (t) plus the forward time (ft). Inside the while loop, the fed zombies first attack humans with eurich and pop_change_2sp, then the packages are updated, then fed zombies become hungry, hungry zombies then attack humans, their packages are updated, and then the current_time is moved forward by dt."
   ]
  },
  {
   "cell_type": "code",
   "execution_count": 15,
   "metadata": {
    "collapsed": true
   },
   "outputs": [],
   "source": [
    "def zombie_attack(x,y,z,t,ft,dt,mega):\n",
    "    current_time=t\n",
    "    \n",
    "    #unpackign the medga package\n",
    "    package_x1,package_x2,package_y,package_z1,package_z2=mega\n",
    "    \n",
    "    #intergrating forward in time until we have moved forward teh specified amount\n",
    "    while current_time<=t+ft: \n",
    "        #we integrate forward as long at the current time is less than the start t+ft\n",
    "        x=eurich(pop_change_2sp_xout,x,package_x1,current_time,dt)\n",
    "        y=eurich(pop_change_2sp_yout,y,package_y,current_time,dt)\n",
    "        \n",
    "        #editing each package\n",
    "        package_x1=list(package_x1)\n",
    "        package_x1[-1]=y\n",
    "        package_x1=tuple(package_x1)\n",
    "        \n",
    "        package_y=list(package_y)\n",
    "        package_y[-1]=x\n",
    "        package_y=tuple(package_y)\n",
    "        \n",
    "        #fed zombies convertign to hungry zombies\n",
    "        z=eurich(pop_change_1sp,z,package_z1,current_time,dt)\n",
    "        #fed zombies decrease at opposite the rate of hungry zombies increasing\n",
    "        y=eurich(pop_change_1sp,y,-package_z1,current_time,dt)\n",
    "        \n",
    "        #package_z1 never needs to be edited, because that rate is constant\n",
    "        \n",
    "        #hungry zombies attackign humans\n",
    "        x=eurich(pop_change_2sp_xout,x,package_x2,current_time,dt)\n",
    "        z=eurich(pop_change_2sp_yout,z,package_z2,current_time,dt)\n",
    "        \n",
    "        #editing each package\n",
    "        package_x2=list(package_x2)\n",
    "        package_x2[-1]=z\n",
    "        package_x2=tuple(package_x2)\n",
    "        \n",
    "        package_z2=list(package_z2)\n",
    "        package_z2[-1]=x\n",
    "        package_z2=tuple(package_z2)\n",
    "        \n",
    "        #moving forward in time\n",
    "        current_time+=dt\n",
    "    \n",
    "    return (x,y,z)"
   ]
  },
  {
   "cell_type": "markdown",
   "metadata": {},
   "source": [
    "For example,zombie_attack can find how many humans, fed zombies, and hungry zombies would exist after 50 units of time (start_time) with a time increment of 0.9 (increment_time). The human population (hpop) is 100, the fed zombie population (fed) is 1, and the hungry zombie population (hungry) is 0. The human population has no natural changes in population (h_BD), fed zombies catch humans (fed_catch) at a rate of 0.008, and every human caught is assumed to get converted to zombie (fed_conv). Fed zombies do not die (fed_dth). Hungry zombies catch humans (hungry_catch) at a rate of 0.003, humans do not get converted to hungry zombies (hungry_conv_h), and fed zombies convert to hungry zombies (hungry_conv_f) at a rate of 0.15. Hungry zombies die (hungry_dth) at a rate of 0.3. The individual packages for each equation and the mega package are made according to how packages were made in the above examples."
   ]
  },
  {
   "cell_type": "code",
   "execution_count": 16,
   "metadata": {},
   "outputs": [
    {
     "name": "stdout",
     "output_type": "stream",
     "text": [
      "(85.52807815850537, 0.04869723327810045, 0.0)\n"
     ]
    }
   ],
   "source": [
    "#the time\n",
    "start_time=0\n",
    "forward_time=50\n",
    "increment_time=0.9\n",
    "\n",
    "\n",
    "#the populations\n",
    "hpop=100\n",
    "fed=1\n",
    "hungry=0\n",
    "\n",
    "#the rates\n",
    "h_BD=0 #rate of change of human population\n",
    "fed_catch=0.008 #rate at which fed zombies catch humans\n",
    "fed_conv=1.0 #fed zombies always convert a human when they catch a human\n",
    "fed_dth=0 #fed zombies don't die\n",
    "hungry_catch=0.003 #rate at which hungry zombies catch humans\n",
    "hungry_conv_h=0 #hunrgy eat humans, no humans get converted\n",
    "hungry_conv_f=0.15 #fed zombies become hungry zombies\n",
    "hungry_dth=0.3 #hungry zombies die\n",
    "\n",
    "\n",
    "#packaging nonstandard inputs\n",
    "pack_x1=(h_BD,fed_catch,fed_conv,fed_dth,fed)\n",
    "pack_x2=(h_BD,hungry_catch,hungry_conv_h,hungry_dth,hungry)\n",
    "pack_y=(h_BD,catch,conv,fed_dth,hpop)\n",
    "pack_z1=(hungry_conv_f)\n",
    "pack_z2=(h_BD,catch,conv,hungry_dth,hpop)\n",
    "\n",
    "#packing up all the packages into a medga package taht i can pass into the function\n",
    "mega_pack=(pack_x1,pack_x2,pack_y,pack_z1,pack_z2)\n",
    "\n",
    "#running the code\n",
    "print(zombie_attack(hpop,fed,hungry,start_time,forward_time,increment_time,mega_pack))"
   ]
  },
  {
   "cell_type": "markdown",
   "metadata": {
    "collapsed": true
   },
   "source": [
    "# Answering The Questions"
   ]
  },
  {
   "cell_type": "markdown",
   "metadata": {
    "collapsed": true
   },
   "source": [
    "In a **normal zombie attack**, the following are the starting conditions:"
   ]
  },
  {
   "cell_type": "code",
   "execution_count": 17,
   "metadata": {
    "collapsed": true
   },
   "outputs": [],
   "source": [
    "#the time\n",
    "start_time=0\n",
    "forward_time=50\n",
    "increment_time=0.9\n",
    "\n",
    "\n",
    "#the populations\n",
    "hpop=100\n",
    "fed=1\n",
    "hungry=0\n",
    "\n",
    "#the rates\n",
    "h_BD=0 #rate of change of human population\n",
    "fed_catch=0.008 #rate at which fed zombies catch humans\n",
    "fed_conv=1.0 #fed zombies always convert a human when they catch a human\n",
    "fed_dth=0 #fed zombies don't die\n",
    "hungry_catch=0.003 #rate at which hungry zombies catch humans\n",
    "hungry_conv_h=0 #hunrgy eat humans, no humans get converted\n",
    "hungry_conv_f=0.15 #fed zombies become hungry zombies\n",
    "hungry_dth=0.3 #hungry zombies die\n",
    "\n",
    "\n",
    "#packaging nonstandard inputs\n",
    "pack_x1=(h_BD,fed_catch,fed_conv,fed_dth,fed)\n",
    "pack_x2=(h_BD,hungry_catch,hungry_conv_h,hungry_dth,hungry)\n",
    "pack_y=(h_BD,catch,conv,fed_dth,hpop)\n",
    "pack_z1=(hungry_conv_f)\n",
    "pack_z2=(h_BD,catch,conv,hungry_dth,hpop)\n",
    "\n",
    "#packing up all the packages into a medga package taht i can pass into the function\n",
    "mega_pack=(pack_x1,pack_x2,pack_y,pack_z1,pack_z2)"
   ]
  },
  {
   "cell_type": "markdown",
   "metadata": {},
   "source": [
    "I will then setup a for loop to collect data to plot the progression of a zombie attack."
   ]
  },
  {
   "cell_type": "code",
   "execution_count": 18,
   "metadata": {
    "collapsed": true
   },
   "outputs": [],
   "source": [
    "#the time lengths we will be collecting data from\n",
    "test_lengths=list(range(0,51,2))\n",
    "\n",
    "#empty lists to store the data results in\n",
    "x_points=[]\n",
    "y_points=[]\n",
    "z_points=[]\n",
    "\n",
    "for i in test_lengths:\n",
    "    forward_time=i\n",
    "    results=zombie_attack(hpop,fed,hungry,start_time,forward_time,increment_time,mega_pack)\n",
    "    #unpacking the results\n",
    "    x_result,y_result,z_result=results\n",
    "    #appending the results of each length of time\n",
    "    x_points.append(x_result)\n",
    "    y_points.append(y_result)\n",
    "    z_points.append(z_result)"
   ]
  },
  {
   "cell_type": "markdown",
   "metadata": {},
   "source": [
    "These are three scatter plots of a normal zombie invasion that show what each population looks like over the course of time."
   ]
  },
  {
   "cell_type": "code",
   "execution_count": 19,
   "metadata": {},
   "outputs": [
    {
     "data": {
      "image/png": "[encoded data removed]",
      "text/plain": [
       "<matplotlib.figure.Figure at 0x189cb434710>"
      ]
     },
     "metadata": {},
     "output_type": "display_data"
    },
    {
     "data": {
      "image/png": "[encoded data removed]",
      "text/plain": [
       "<matplotlib.figure.Figure at 0x189cb45ca90>"
      ]
     },
     "metadata": {},
     "output_type": "display_data"
    },
    {
     "data": {
      "image/png": "[encoded data removed]",
      "text/plain": [
       "<matplotlib.figure.Figure at 0x189cb4149e8>"
      ]
     },
     "metadata": {},
     "output_type": "display_data"
    }
   ],
   "source": [
    "#plotting human population\n",
    "scatter(test_lengths,x_points)\n",
    "title(\"Human Population During a Normal Zombie Invasion\")\n",
    "xlabel(\"Units of Time\")\n",
    "ylabel(\"Human Population\")\n",
    "show()\n",
    "\n",
    "#plotting fed zombie population\n",
    "scatter(test_lengths,y_points)\n",
    "title(\"Fed Zombie Population During a Normal Zombie Invasion\")\n",
    "xlabel(\"Units of Time\")\n",
    "ylabel(\"Fed Zombie Population\")\n",
    "show()\n",
    "\n",
    "#plotting hungry zombie population\n",
    "scatter(test_lengths,z_points)\n",
    "title(\"Hungry Zombie Population During a Normal Zombie Invasion\")\n",
    "xlabel(\"Units of Time\")\n",
    "ylabel(\"Hungry Population\")\n",
    "show()"
   ]
  },
  {
   "cell_type": "markdown",
   "metadata": {},
   "source": [
    "#Discuss teh results here"
   ]
  },
  {
   "cell_type": "markdown",
   "metadata": {},
   "source": [
    "In a **nonstandard zombie invasion**, where humans are aware that watchign TV lowers teh nutrition content of the brain. The death rate of hunrgy zombies should go up, so, the hungry_dth variable should be changed from 0.3 to 0.6 to demonstrate the lower nutritional content of the human brains. Everything else is normal."
   ]
  },
  {
   "cell_type": "code",
   "execution_count": 20,
   "metadata": {
    "collapsed": true
   },
   "outputs": [],
   "source": [
    "#the time\n",
    "start_time=0\n",
    "forward_time=50\n",
    "increment_time=0.9\n",
    "\n",
    "\n",
    "#the populations\n",
    "hpop=100\n",
    "fed=1\n",
    "hungry=0\n",
    "\n",
    "#the rates\n",
    "h_BD=0 #rate of change of human population\n",
    "fed_catch=0.008 #rate at which fed zombies catch humans\n",
    "fed_conv=1.0 #fed zombies always convert a human when they catch a human\n",
    "fed_dth=0 #fed zombies don't die\n",
    "hungry_catch=0.003 #rate at which hungry zombies catch humans\n",
    "hungry_conv_h=0 #hunrgy eat humans, no humans get converted\n",
    "hungry_conv_f=0.15 #fed zombies become hungry zombies\n",
    "hungry_dth=0.6 #hungry zombies die\n",
    "\n",
    "\n",
    "#packaging nonstandard inputs\n",
    "pack_x1=(h_BD,fed_catch,fed_conv,fed_dth,fed)\n",
    "pack_x2=(h_BD,hungry_catch,hungry_conv_h,hungry_dth,hungry)\n",
    "pack_y=(h_BD,catch,conv,fed_dth,hpop)\n",
    "pack_z1=(hungry_conv_f)\n",
    "pack_z2=(h_BD,catch,conv,hungry_dth,hpop)\n",
    "\n",
    "#packing up all the packages into a medga package taht i can pass into the function\n",
    "mega_pack=(pack_x1,pack_x2,pack_y,pack_z1,pack_z2)"
   ]
  },
  {
   "cell_type": "markdown",
   "metadata": {},
   "source": [
    "And then, I collect the results of what happens to the populations."
   ]
  },
  {
   "cell_type": "code",
   "execution_count": 21,
   "metadata": {
    "collapsed": true
   },
   "outputs": [],
   "source": [
    "#the time lengths we will be collecting data from\n",
    "test_lengths=list(range(0,51,2))\n",
    "\n",
    "#empty lists to store the data results in\n",
    "x_points=[]\n",
    "y_points=[]\n",
    "z_points=[]\n",
    "\n",
    "for i in test_lengths:\n",
    "    forward_time=i\n",
    "    results=zombie_attack(hpop,fed,hungry,start_time,forward_time,increment_time,mega_pack)\n",
    "    #unpacking the results\n",
    "    x_result,y_result,z_result=results\n",
    "    #appending the results of each length of time\n",
    "    x_points.append(x_result)\n",
    "    y_points.append(y_result)\n",
    "    z_points.append(z_result)"
   ]
  },
  {
   "cell_type": "markdown",
   "metadata": {},
   "source": [
    "Then, here are three scatter plots to describe what happens to the three populations in a nonstandard zombie invasion."
   ]
  },
  {
   "cell_type": "code",
   "execution_count": 22,
   "metadata": {},
   "outputs": [
    {
     "data": {
      "image/png": "[encoded data removed]",
      "text/plain": [
       "<matplotlib.figure.Figure at 0x189cb816ba8>"
      ]
     },
     "metadata": {},
     "output_type": "display_data"
    },
    {
     "data": {
      "image/png": "[encoded data removed]",
      "text/plain": [
       "<matplotlib.figure.Figure at 0x189cb9a3eb8>"
      ]
     },
     "metadata": {},
     "output_type": "display_data"
    },
    {
     "data": {
      "image/png": "[encoded data removed]",
      "text/plain": [
       "<matplotlib.figure.Figure at 0x189cba3e978>"
      ]
     },
     "metadata": {},
     "output_type": "display_data"
    }
   ],
   "source": [
    "#plotting human population\n",
    "scatter(test_lengths,x_points)\n",
    "title(\"Human Population During a Normal Zombie Invasion\")\n",
    "xlabel(\"Units of Time\")\n",
    "ylabel(\"Human Population\")\n",
    "show()\n",
    "\n",
    "#plotting fed zombie population\n",
    "scatter(test_lengths,y_points)\n",
    "title(\"Fed Zombie Population During a Normal Zombie Invasion\")\n",
    "xlabel(\"Units of Time\")\n",
    "ylabel(\"Fed Zombie Population\")\n",
    "show()\n",
    "\n",
    "#plotting hungry zombie population\n",
    "scatter(test_lengths,z_points)\n",
    "title(\"Hungry Zombie Population During a Normal Zombie Invasion\")\n",
    "xlabel(\"Units of Time\")\n",
    "ylabel(\"Hungry Population\")\n",
    "show()"
   ]
  },
  {
   "cell_type": "markdown",
   "metadata": {},
   "source": [
    "#Discuss teh results here"
   ]
  }
 ],
 "metadata": {
  "kernelspec": {
   "display_name": "Python 3",
   "language": "python",
   "name": "python3"
  },
  "language_info": {
   "codemirror_mode": {
    "name": "ipython",
    "version": 3
   },
   "file_extension": ".py",
   "mimetype": "text/x-python",
   "name": "python",
   "nbconvert_exporter": "python",
   "pygments_lexer": "ipython3",
   "version": "3.6.1"
  }
 },
 "nbformat": 4,
 "nbformat_minor": 2
}

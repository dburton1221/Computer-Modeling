{
 "cells": [
  {
   "cell_type": "markdown",
   "metadata": {},
   "source": [
    "# David Burton's Zombie Invasion"
   ]
  },
  {
   "cell_type": "markdown",
   "metadata": {},
   "source": [
    "# Theory Overview"
   ]
  },
  {
   "cell_type": "markdown",
   "metadata": {},
   "source": [
    "This is where I describe the math and how it will all work"
   ]
  },
  {
   "cell_type": "markdown",
   "metadata": {},
   "source": [
    "# Program Implementation"
   ]
  },
  {
   "cell_type": "markdown",
   "metadata": {},
   "source": [
    "These are the functions that I am importing to use in solvign the problems."
   ]
  },
  {
   "cell_type": "code",
   "execution_count": 7,
   "metadata": {
    "collapsed": true
   },
   "outputs": [],
   "source": [
    "from pylab import array,sqrt\n",
    "from random import randint"
   ]
  },
  {
   "cell_type": "markdown",
   "metadata": {},
   "source": [
    "**These are my functions for modeling the population dynamics of a zombie invasion.**"
   ]
  },
  {
   "cell_type": "markdown",
   "metadata": {},
   "source": [
    "**eurich** is my Euler-Richardson function that is used to integrate a function (f) that contains a variable (x) and a current time (t) forward in time by a specific change in time (dt). Eurich returns an output of the new variable x at a time that is some change in time (dt) forward from the current time (t)."
   ]
  },
  {
   "cell_type": "code",
   "execution_count": 84,
   "metadata": {
    "collapsed": true
   },
   "outputs": [],
   "source": [
    "#euler richardson function\n",
    "def eurich(f,x,t,dt):\n",
    "    #x[\"x\"] is teh value of that thing, all else in the dictionary are modifiers and stuff\n",
    "    tm=t+(dt/2) #calculatign the midpoint time\n",
    "    #fudge factor for two species interactions\n",
    "    if len(f(x,t))>1:\n",
    "        #somehow, make two species interactions happen\n",
    "        #perhaps store an array for each population as (pop, popchange)\n",
    "        xm_y=x[\"Y\"]+f(x,t)[1]*(dt/2)\n",
    "        xm_x=x[\"Y\"]+f(x,t)[0]*(dt/2) #calculatign the midpoint position\n",
    "        x[\"Y\"]=x[\"Y\"]+fm[1]*dt #by convention, the predator is always Y\n",
    "        x[\"X\"]=x[\"X\"]+fm[0]*dt #by convention, the prey is always X\n",
    "    else: #we always act on the predator species by default\n",
    "        xm=x[\"Y\"]+f(x,t)*(dt/2) #calculatign the midpoint position\n",
    "        fm=f(xm,tm) #calculatign the midpoint slopes\n",
    "        x[\"Y\"]=x[\"Y\"]+fm*dt #calculatign the final xposition as estimated by the slope at the midpoint\n",
    "\n",
    "#to make it so that I don't need another version of eurich for every function below, we're going\n",
    "#to make x a dictionary that can get unpacked for every function"
   ]
  },
  {
   "cell_type": "markdown",
   "metadata": {},
   "source": [
    "**rate-susp** is my rate of suspetibility function, which is based off of the following population dynamic equation:$$\\frac{dS}{dt}= -\\frac{\\beta IS}{N}$$ It takes in beta (the rate of infection), I (the infected population), S (the susceptible population), and N (the total population) as inputs, and it returns as an output the rate of change in the susceptible population."
   ]
  },
  {
   "cell_type": "code",
   "execution_count": 66,
   "metadata": {},
   "outputs": [],
   "source": [
    "def rate_susp(x,t):\n",
    "    beta,I,S,N=x[\"beta\"],x[\"I\"],x[\"S\"],x[\"N\"]\n",
    "    return -(beta*I*S)/N"
   ]
  },
  {
   "cell_type": "markdown",
   "metadata": {},
   "source": [
    "For example, if the rate of infection (beta) is 0.03, the infected population (I) is 100, the susceptible population is 25, and the total population is 150, then the rate of change in the susceptible population will be:"
   ]
  },
  {
   "cell_type": "code",
   "execution_count": 67,
   "metadata": {},
   "outputs": [
    {
     "name": "stdout",
     "output_type": "stream",
     "text": [
      "-0.5\n"
     ]
    }
   ],
   "source": [
    "#Our Inputs\n",
    "x={\"beta\":0.03,\"I\":100,\"S\":25,\"N\":150}\n",
    "time=0 #starting time is zero\n",
    "print(rate_susp(x,time)) #printing the output"
   ]
  },
  {
   "cell_type": "markdown",
   "metadata": {},
   "source": [
    "**rate_infected** is my rate of infection function, which is based off of the following population dynamic equation: $$\\frac{dI}{dt}= \\frac{\\beta IS}{N} -\\gamma I$$ It takes in beta (the rate of infection), I (the infected population), S (the susceptible population), N (the total population), gamma (the rate at which people recover) as inputs, and it returns as an output the rate at which people become infected."
   ]
  },
  {
   "cell_type": "code",
   "execution_count": 68,
   "metadata": {
    "collapsed": true
   },
   "outputs": [],
   "source": [
    "def rate_infected(x,t):\n",
    "    beta,I,S,N,gamma=x[\"beta\"],x[\"I\"],x[\"S\"],x[\"N\"],x[\"gamma\"]\n",
    "    return ((beta*I*S)/N)-(gamma*I)"
   ]
  },
  {
   "cell_type": "markdown",
   "metadata": {},
   "source": [
    "For example, if the rate of infection (beta) is 0.03, the infected population (I) is 100, the susceptible population is 25, the total population is 150, and the recovery rate (gamma) is 0.001, then the rate of change in the infected population will be:"
   ]
  },
  {
   "cell_type": "code",
   "execution_count": 69,
   "metadata": {},
   "outputs": [
    {
     "name": "stdout",
     "output_type": "stream",
     "text": [
      "0.4\n"
     ]
    }
   ],
   "source": [
    "#Our Inputs\n",
    "x={\"beta\":0.03,\"I\":100,\"S\":25,\"N\":150,\"gamma\":0.001}\n",
    "time=0\n",
    "print(rate_infected(x,time)) #printing the output"
   ]
  },
  {
   "cell_type": "markdown",
   "metadata": {},
   "source": [
    "**rate_recovery** is my rate of recovery function, which is based off of the following population dynamic equation:\n",
    " $$\\frac{dR}{dt}= \\gamma I$$ It takes in I (the infected population) and gamma (the rate at which people recover) as inputs, and it returns as an output the rate at which people recover."
   ]
  },
  {
   "cell_type": "code",
   "execution_count": 70,
   "metadata": {
    "collapsed": true
   },
   "outputs": [],
   "source": [
    "def rate_recovery(x,t):\n",
    "    I,gamma=x[\"I\"],x[\"gamma\"]\n",
    "    return gamma*I"
   ]
  },
  {
   "cell_type": "markdown",
   "metadata": {},
   "source": [
    "For example, if infected population (I) is 100 and the recovery rate (gamma) is 0.001, then the rate at which people recover will be:"
   ]
  },
  {
   "cell_type": "code",
   "execution_count": 71,
   "metadata": {},
   "outputs": [
    {
     "name": "stdout",
     "output_type": "stream",
     "text": [
      "0.1\n"
     ]
    }
   ],
   "source": [
    "#Our Inputs\n",
    "x={\"beta\":0.03,\"I\":100,\"S\":25,\"N\":150,\"gamma\":0.001}\n",
    "time=0\n",
    "print(rate_recovery(x,time)) #printing the output"
   ]
  },
  {
   "cell_type": "markdown",
   "metadata": {},
   "source": [
    "**pop_change_1sp** is my rate of population change for one species function without a carrying capacity, which is based off of the following population dynamic equation: $$\\frac{dx}{dt}= rx$$ It takes in r (the birth rate minus the death rate) and x (the population), then it returns as an output the rate at which the population changes."
   ]
  },
  {
   "cell_type": "code",
   "execution_count": 72,
   "metadata": {
    "collapsed": true
   },
   "outputs": [],
   "source": [
    "def pop_change_1sp(x,t):\n",
    "    r,X=x[\"r\"],x[\"X\"]\n",
    "    return r*X"
   ]
  },
  {
   "cell_type": "markdown",
   "metadata": {},
   "source": [
    "For example, if the birth rate is 0.5, the death rate is 0.15 and the population (pop) is 125, then the population change will be:"
   ]
  },
  {
   "cell_type": "code",
   "execution_count": 73,
   "metadata": {},
   "outputs": [
    {
     "name": "stdout",
     "output_type": "stream",
     "text": [
      "43.75\n"
     ]
    }
   ],
   "source": [
    "#Our Inputs\n",
    "x={\"beta\":0.03,\"I\":100,\"S\":25,\"N\":150,\"gamma\":0.001,\"r\":0.35,\"X\":125}\n",
    "time=0\n",
    "print(pop_change_1sp(x,time)) #printing the output"
   ]
  },
  {
   "cell_type": "markdown",
   "metadata": {},
   "source": [
    "**pop_change_1spK** is my rate of population change for one species function with a carrying capacity, which is based off of the following population dynamic equation: $$\\frac{dx}{dt}= rx(1-\\frac{x}{K})$$ It takes in r (the birth rate minus the death rate), x (the population), and K (the carrying capacity), and it returns as an output the rate at which the population changes."
   ]
  },
  {
   "cell_type": "code",
   "execution_count": 74,
   "metadata": {
    "collapsed": true
   },
   "outputs": [],
   "source": [
    "def pop_change_1spK(x,t):\n",
    "    r,X,K=x[\"r\"],x[\"X\"],x[\"K\"]\n",
    "    return r*X*(1-(X/K))"
   ]
  },
  {
   "cell_type": "markdown",
   "metadata": {},
   "source": [
    "For example, if the birth rate is 0.5, the death rate is 0.15, the population (pop) is 125, and the carrying capacity is 150, then the population change will be:"
   ]
  },
  {
   "cell_type": "code",
   "execution_count": 76,
   "metadata": {},
   "outputs": [
    {
     "name": "stdout",
     "output_type": "stream",
     "text": [
      "7.291666666666665\n"
     ]
    }
   ],
   "source": [
    "#Our Inputs\n",
    "x={\"beta\":0.03,\"I\":100,\"S\":25,\"N\":150,\"gamma\":0.001,\"r\":0.35,\"X\":125,\"K\":150}\n",
    "time=0\n",
    "print(pop_change_1spK(x,time)) #printing the output"
   ]
  },
  {
   "cell_type": "markdown",
   "metadata": {},
   "source": [
    "**pop_change_2sp** is my predator-prey population interactions function, which is based off of the population dynamic equations: $$\\frac{dx}{dt}= \\alpha x-\\beta xy$$ $$\\frac{dy}{dt}= \\delta xy-\\gamma y $$It takes alpha (the birth rate minus the death rate for the prey species-x), beta (the success rate of how often the predator species-y gets its prey species-x), delta (the rate that predator can convetr prey into more predator), gamma (the death rate of teh predator species-y), x (the population of the prey species), and y (the population of the predator species)as inputs. It returns as an output the rate at which population x and population y change."
   ]
  },
  {
   "cell_type": "code",
   "execution_count": 77,
   "metadata": {
    "collapsed": true
   },
   "outputs": [],
   "source": [
    "def pop_change_2sp(x,t):\n",
    "    alpha1,beta1,delta1,gamma1,X,Y=x[\"alpha1\"],x[\"beta1\"],x[\"delta1\"],x[\"gamma1\"],x[\"X\"],x[\"Y\"]\n",
    "    change_x=(alpha1*X)-(beta1*X*Y)\n",
    "    change_y=(delta1*X*Y)-(gamma1*Y)\n",
    "    return [change_x,change_y]"
   ]
  },
  {
   "cell_type": "markdown",
   "metadata": {},
   "source": [
    "For example, if birth minus the death rate of the prey species (alpha1) is 0.5, the success rate of predator species catchign prey species (beta1) is 0.01, the rate of predator species converting prey into more predators (delta1) is 0.001, the death rate of the predator species (gamma1) is 0.1, the population of prey species (X) is 125, and the population of the predator species (Y) is 25, then the rate of change of each population will be:"
   ]
  },
  {
   "cell_type": "code",
   "execution_count": 83,
   "metadata": {},
   "outputs": [
    {
     "name": "stdout",
     "output_type": "stream",
     "text": [
      "[31.25, 0.625]\n"
     ]
    }
   ],
   "source": [
    "#Our Inputs\n",
    "x={\"beta\":0.03,\"I\":100,\"S\":25,\"N\":150,\"gamma\":0.001,\"r\":0.35,\"X\":125,\"K\":150,\"alpha1\":0.5,\"beta1\":0.01,\"delta1\":0.001,\"gamma1\":0.1,\"Y\":25}\n",
    "time=0\n",
    "print(pop_change_2sp(x,time)) #printing the output"
   ]
  },
  {
   "cell_type": "markdown",
   "metadata": {
    "collapsed": true
   },
   "source": [
    "**zombie_attack** is the zombie attack function which models what occurs after a change in time (deltaT) from the starting time (time). We use the following assumptions in using our function: <br>\n",
    "-all humans are susceptible <br>"
   ]
  },
  {
   "cell_type": "code",
   "execution_count": 36,
   "metadata": {},
   "outputs": [],
   "source": [
    "#Our inputs\n",
    "#increment of tiem change (dt)\n",
    "#amoutn fo tiem to progerss forward (ft)\n",
    "#current time (t)\n",
    "#human population (x)\n",
    "#fed zombie population (y)\n",
    "#hungry zombie population (z)\n",
    "#death rate of hungry zombies]\n",
    "#conversion of fed zombies to hungry zombies\n",
    "\n",
    "def zombie_attack(x,y,z,t,ft,dt):\n",
    "    #unpacking the populations\n",
    "    X=x #human population\n",
    "    Y=y[\"Y\"] #fed zombie population\n",
    "    Z=z[\"Y\"] #hungry zombie population\n",
    "    \n",
    "    #setting human population to equal in both groups\n",
    "    y[\"X\"],z[\"X\"]=X,X\n",
    "    \n",
    "    #moving forward\n",
    "    while current_time<=t+ft: \n",
    "        #we integrate forward as long at the current time is less than the start t+ft\n",
    "        #fed zombies scratch humans\n",
    "        #we assume that the conversion rate of prey to pedator is one to one\n",
    "        #we assume teh death rate of scratched zombies is their conversion to hungry zombeis\n",
    "        #this is a two species interaction\n",
    "        eurich()\n",
    "    \n",
    "        #set the human population to match in the other data set\n",
    "    \n",
    "        #hungry zombies attackign humans\n",
    "        #we assume that the conversion \n",
    "    \n",
    "        #fed zombies convertign to hungry zombies\n",
    "        \n",
    "        #moving forward in time\n",
    "        \n",
    "    return [X,Y,Z]\n",
    "    "
   ]
  },
  {
   "cell_type": "markdown",
   "metadata": {
    "collapsed": true
   },
   "source": [
    "# Answering The Questions"
   ]
  },
  {
   "cell_type": "code",
   "execution_count": null,
   "metadata": {},
   "outputs": [],
   "source": []
  },
  {
   "cell_type": "code",
   "execution_count": null,
   "metadata": {
    "collapsed": true
   },
   "outputs": [],
   "source": []
  }
 ],
 "metadata": {
  "kernelspec": {
   "display_name": "Python 3",
   "language": "python",
   "name": "python3"
  },
  "language_info": {
   "codemirror_mode": {
    "name": "ipython",
    "version": 3
   },
   "file_extension": ".py",
   "mimetype": "text/x-python",
   "name": "python",
   "nbconvert_exporter": "python",
   "pygments_lexer": "ipython3",
   "version": "3.6.1"
  }
 },
 "nbformat": 4,
 "nbformat_minor": 2
}

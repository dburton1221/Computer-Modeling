{
 "cells": [
  {
   "cell_type": "markdown",
   "metadata": {},
   "source": [
    "# David Burton's Zombie Invasion"
   ]
  },
  {
   "cell_type": "markdown",
   "metadata": {},
   "source": [
    "# Theory Overview"
   ]
  },
  {
   "cell_type": "markdown",
   "metadata": {},
   "source": [
    "Modeling a zombie invasion involves the use of population dynamics and disease dynamics. Every disease and population dynamic equation is a first order differential equation, so an equation is necessary to integrate the differential equations forward- **Euler-Richardson**, which uses the midpoint slope to estimate the next point:\n",
    "$$t_{n+1/2}=t_{n}+\\frac{\\Delta t}{2}$$\n",
    "$$x_{n+1/2}=x_{n}+f(t_{n},x_{n})\\frac{\\Delta t}{2}$$\n",
    "$$f_{midpoint}=f(t_{n+1/2},x_{n+1/2})$$\n",
    "$$x_{n+1}=f_{midpoint}\\Delta t+x_{n}$$\n",
    "*Description:*\n",
    "<br>\n",
    "<br>\n",
    "$t_{n+1/2}$ is the calculation of the midpoint time, and you find the midpoint time by adding half of the change in time ($\\frac{\\Delta t}{2}$) to the current time ($t$). $x_{n+1/2}$ is the calculation of the midpoint position, and you find it by adding half of output of the given function (that has been gievn the current time and position as inputs) ($f(t_{n},x_{n})\\frac{\\Delta t}{2}$) to the current position ($x$). $f_{midpoint}$ is the calculation of the slope at the midpoint, and it is found by plugging in the midpoint time ($t_{n+1/2}$) and midpoint position ($x_{n+1/2}$) into the given function ($f$). $x_{n+1}$ is the next position, and it is calculated by multiplying the slope at the midppoint ($f_{midpoint}$) by the change in time ($\\Delta t$) and adding this to the current position ($x_{n}$).\n",
    "<br>\n",
    "<br>\n",
    "The **disease dynamics** are modeled with three seperate differential equations: Susceptible, Infected, and Recovered.\n",
    "For the below equations,\n",
    "$S$ is the susceptible population,\n",
    "$I$ is the infected population, \n",
    "$N$ is the total population,\n",
    "$\\beta$ is the rate of infection, and\n",
    "$\\gamma$ is the rate of recovery.\n",
    "<br>\n",
    "<br>\n",
    "The rate of people becoming **susceptible** to an infection is calculated with the following:\n",
    "$$\\frac{dS}{dt}= -\\frac{\\beta IS}{N}$$\n",
    "*Description:*\n",
    "<br>\n",
    "<br>\n",
    "$\\frac{dS}{dt}$ is the rate at which the susceptible population changes, and it is found by multiplying the Infected population ($I$) by the Susceptible population ($S$) and the infection rate ($\\beta$), and then dividing by the total population ($N$). The multiplication of the infected and susceptible populations quantifies the interaction of the two populations, and dividing by the total population normalizes the value. The susceptible population rate of change is negative, because as people become infected, they are now part of the infected population.\n",
    "<br>\n",
    "<br>\n",
    "<br>\n",
    "The rate of people becoming **infected** is calculated with the following:\n",
    "$$\\frac{dI}{dt}= \\frac{\\beta IS}{N} -\\gamma I$$\n",
    "*Description:*\n",
    "<br>\n",
    "<br>\n",
    "$\\frac{dI}{dt}$ is the rate at which the infected population changes, and it is found by multiplying the Infected population ($I$) by the Susceptible population ($S$) and the infection rate ($\\beta$), and then dividing by the total population ($N$) to get the gross rate of change in the infected population($\\frac{\\beta IS}{N}$). The rate of recovery ($\\gamma$) is multiplied by the Infected population ($I$) to get the rate at which infected people recover ($\\gamma I$), and this is subtracted from the gross rate of change in the infected population ($\\frac{\\beta IS}{N}$) to get the net rate of change in the infected population ($\\frac{dI}{dt}= \\frac{\\beta IS}{N} -\\gamma I$).\n",
    "<br>\n",
    "<br>\n",
    "<br>\n",
    "The rate of people **recovering** to an infection is calculated with the following:\n",
    "$$\\frac{dR}{dt}= \\gamma I$$\n",
    "*Description:*\n",
    "<br>\n",
    "<br>\n",
    "$\\frac{dR}{dt}$ is the rate at which the recovering population changes, and it is found by multiplying the Infected population ($I$) by the rate of recovery ($\\gamma$). \n",
    "<br>\n",
    "<br>\n",
    "<br>\n",
    "The **population dynamics** are modeled with three different equations:\n",
    "<br>\n",
    "<br>\n",
    "The rate at which **one species changes over time without a carrying capacity** is calculated with the following:\n",
    "$$\\frac{dx}{dt}= rx$$\n",
    "*Description:*\n",
    "<br>\n",
    "<br>\n",
    "$\\frac{dx}{dt}$ is the rate at which one species changes, and it is found by multiplying the birth rate minus the death rate ($r$) by the species population ($x$). \n",
    "<br>\n",
    "<br>\n",
    "<br>\n",
    "The rate at which **one species changes over time with a carrying capacity** is calculated with the following:\n",
    "$$\\frac{dx}{dt}= rx(1-\\frac{x}{K})$$\n",
    "*Description:*\n",
    "<br>\n",
    "<br>\n",
    "$\\frac{dx}{dt}$ is the rate at which one species changes with a carrying capacity, and it is found by multiplying the birth rate minus the death rate ($r$) by the species population ($x$). To account for the carrying capacity, $rx$ is multiplied by $(1-\\frac{x}{K})$. As the population ($x$) approaches the carrying capacity ($K$), the value of $(1-\\frac{x}{K})$ approaches zero.\n",
    "<br>\n",
    "<br>\n",
    "The rate at which **two species interact over time** is calculated with the following equations:\n",
    "$$\\frac{dx}{dt}= \\alpha x-\\beta xy$$ $$\\frac{dy}{dt}= \\delta xy-\\gamma y $$\n",
    "*Description:*\n",
    "<br>\n",
    "<br>\n",
    "$\\frac{dx}{dt}$ is the overall rate of change in the prey species population, and it is found by multiplying the birth rate minus the death rate ($\\alpha$) by the prey species population ($x$) to get the rate of change without predators ($rx$). The rate at which predators catch prey ($\\beta$) is multiplied by the prey species ($x$) and predator species ($y$) populations to get the rate of change in prey species due to predator interactiions ($\\beta xy$). The rate of change in prey species without predators ($rx$) has the rate of change in prey species population due to predator interactions ($\\beta xy$) subtracted from it to get the overall rate of change in the prey species population ($\\frac{dx}{dt}= \\alpha x-\\beta xy$).\n",
    "<br>\n",
    "<br>\n",
    "$\\frac{dy}{dt}$ is the overall rate of change in the predator species population, and it is found by multiplying the rate of prey conversion into predators ($\\delta$) by the predator species ($y$) and prey ($x$) species populations to get the rate change in the predator species population due to catching preyh($\\delta xy$). The death rate of the predator species ($\\gamma$) is multiplied by the predator species population ($y$) to get the rate of change in predator species population due to death ($\\gamma y$). The rate of change in the predator species due to death ($\\gamma y$) is subtracted from the rate of change in predator species population due to catching prey ($\\delta xy$) to get the overall rate of change in the predator species population ($\\frac{dy}{dt}= \\delta xy-\\gamma y $).\n",
    "<br>"
   ]
  },
  {
   "cell_type": "markdown",
   "metadata": {},
   "source": [
    "# Unified Zombie Theory"
   ]
  },
  {
   "cell_type": "markdown",
   "metadata": {},
   "source": [
    "A zombie invasion consists of three populations: **human** population, **fed zombie** population, and **hungry zombie** population. The way that each population changes over time is a combination of different population and disease dynamic equations.\n",
    "<br>\n",
    "<br>\n",
    "The **human** population is going to be affected by two factors: the rate at which fed zombies scratch humans and the rate at which hungry zombies catch humans. This combines the Susceptible population equation with part of the two species interaction prey equation:\n",
    "$$\\frac{dH}{dt}=-\\frac{\\beta_{1} Z_{F}H}{N}-\\gamma HZ_{H}$$\n",
    "*Description:*\n",
    "<br>\n",
    "<br>\n",
    "$\\frac{dH}{dt}$ is the rate of change in the human population, and it is found by summing the rate of change in the human population due to infections from fed zombies ($-\\frac{\\beta_{1} Z_{F}H}{N}$) and the rate of change to the human population due to hungry zombies attacks ($-\\gamma HZ_{H}$). The rate of change in the human population due to fed zombie infections ($-\\frac{\\beta_{1} Z_{F}H}{N}$) is found by multiplying the rate of fed zombies successfully scratching humans ($\\beta_{1}$) by the fed zombie population ($Z_{F}$) by the human population ($H$) and dividing by the total population ($N$). The rate of change in the human population due to hungry zombie attacks ($-\\gamma HZ_{H}$) is found by multiplying the rate of hungry zombies successfully attacking humans ($\\gamma$) by the human population ($H$) by the hungry zombie population ($Z_{H}$).\n",
    "<br>\n",
    "<br>\n",
    "The **fed zombie** population is going to be affected by three factors: the rate at which fed zombies scratch humans, the rate of fed zombies converting to hungry zombies, and the rate at which hungry zombies catch humans. This combines part of the SIR model, two species interaction, and one species population change equations:\n",
    "$$\\frac{dZ_{F}}{dt}=\\frac{\\beta_{1} HZ_{F}}{N}-cZ_{F}+\\gamma HZ_{H}$$\n",
    "*Description:*\n",
    "<br>\n",
    "<br>\n",
    "$\\frac{dZ_{F}}{dt}$ is the rate of change in the fed zombie population, and it is calculated by summing the rate of change due to fed zombies successfully atatcking humans ($\\frac{\\beta_{1} Z_{F}H}{N}$), fed zombies converting to hungry zombies ($-cZ_{F}$), and the rate of change due to hungry zombies catching humans ($\\gamma HZ_{H}$). The rate of change in the fed zombie population due to fed zombies scratching humans ($\\frac{\\beta_{1} Z_{F}H}{N}$) is found by multiplying the rate of fed zombies successfully scratching humans ($\\beta_{1}$) by the fed zombie population ($Z_{F}$) by the human population ($H$) and dividing by the total population ($N$). The rate of change in the fed zombie population due to fed zombies converting to hungry zombies ($-cZ_{F}$) is found by multiplying the rate of fed zombies becoming hungry ($c$) by the fed zombie population ($Z_{F}$). The rate of change in the fed zombie population due to hungry zombies eating humans ($\\gamma HZ_{H}$) is found by multiplying the rate of hungry zombies catching humans ($\\gamma$) by the human population ($H$) and the hungry zombie population ($Z_{H}$). \n",
    "<br>\n",
    "<br>\n",
    "The **hungry zombie** population is affected by three factors: the rate of conversion of fed zombies into hungry zombies, the rate of hungry zombies catching humans and becoming fed, and the rate of death of hungry zombies. Thsi combines parts of the two species population interaction equations and one species population change equations:\n",
    "$$\\frac{dZ_{H}}{dt}=+cZ_{F}-\\gamma HZ_{H}-dZ_{H}$$\n",
    "*Description:*\n",
    "<br>\n",
    "<br>\n",
    "$\\frac{dZ_{H}}{dt}$ is the rate of change in the hungry zombie population, which is found by summing the rate of change due to the conversion of fed zombies to hungry zombies ($+cZ_{F}$), the rate of change due to the hungry zombies catchign humans ($-\\gamma HZ_{H}$), and the rate of change due to the hungry zombies dying ($-dZ_{H}$). The rate of change in the hungry zombie population due to fed zombies becoming hungry is found by multiplying the rate of fed zombies becoming hungry ($c$) by the fed zombie population ($Z_{F}$). The rate of change due to fed zombie population due to hungry zombies eating humans ($-\\gamma HZ_{H}$) is found by multiplying the rate of hungry zombies catching humans ($\\gamma$) by the human population ($H$) and the hungry zombie population ($Z_{H}$). The rate of change due to the hungry zombies dying is foudn by multiplying the death rate ($d$) by the hungry zombie population ($Z_{H}$)."
   ]
  },
  {
   "cell_type": "markdown",
   "metadata": {},
   "source": [
    "# Program Implementation"
   ]
  },
  {
   "cell_type": "markdown",
   "metadata": {},
   "source": [
    "These are the functions that I am importing to use in solvign the problems."
   ]
  },
  {
   "cell_type": "code",
   "execution_count": 2,
   "metadata": {
    "collapsed": true
   },
   "outputs": [],
   "source": [
    "from pylab import array,sqrt, scatter, show, title, xlabel, ylabel, plot, legend\n",
    "%matplotlib inline"
   ]
  },
  {
   "cell_type": "markdown",
   "metadata": {},
   "source": [
    "**These are my functions for modeling the population dynamics of a zombie invasion.**"
   ]
  },
  {
   "cell_type": "markdown",
   "metadata": {},
   "source": [
    "**eurich** is my Euler-Richardson function that is used to integrate a function (f) that contains a variable (x) and a current time (t) forward in time by a specific change in time (dt). Eurich returns an output of the new variable x at a time that is some change in time (dt) forward from the current time (t)."
   ]
  },
  {
   "cell_type": "code",
   "execution_count": 3,
   "metadata": {
    "collapsed": true
   },
   "outputs": [],
   "source": [
    "#euler richardson function\n",
    "def eurich(f,x,t,dt):\n",
    "    tm=t+(dt/2) #calculatign the midpoint time\n",
    "    xm=x+f(x,t)*(dt/2) #calculatign the midpoint position\n",
    "    fm=f(xm,tm) #calculatign the midpoint slopes\n",
    "    return x+fm*dt #calculatign the final xposition as estimated by the slope at the midpoint"
   ]
  },
  {
   "cell_type": "markdown",
   "metadata": {},
   "source": [
    "**pebble** is a first order derivative function that resturns the velocity and acceleration of a rock falling when it is given the position and velocity."
   ]
  },
  {
   "cell_type": "code",
   "execution_count": 4,
   "metadata": {
    "collapsed": true
   },
   "outputs": [],
   "source": [
    "#the accessible constants\n",
    "gravity=9.81\n",
    "t_vel=55.56\n",
    "\n",
    "def pebble(xm,t):\n",
    "    return array([xm[1],-gravity*(1-(xm[1]/t_vel)**2)])"
   ]
  },
  {
   "cell_type": "markdown",
   "metadata": {},
   "source": [
    "For example, if a rock is dropped from 100 feet and teh starting velocity is 0, I can integrate pebble forward with eurich to find the next position that the pebble will be in."
   ]
  },
  {
   "cell_type": "code",
   "execution_count": 9,
   "metadata": {},
   "outputs": [
    {
     "name": "stdout",
     "output_type": "stream",
     "text": [
      "[ 96.02695     -8.77326217]\n"
     ]
    }
   ],
   "source": [
    "x_ar=array([100,0])\n",
    "print(eurich(pebble,x_ar,0,0.9))"
   ]
  },
  {
   "cell_type": "markdown",
   "metadata": {},
   "source": [
    "**A Note on Formatting of Functions**\n",
    "<br>\n",
    "Since all the functions will return a derivative of something, the input format will be something and the current time, and the output will always be the derivative of that something."
   ]
  },
  {
   "cell_type": "markdown",
   "metadata": {},
   "source": [
    "The coefficients only work on zombie invasion if N is removed from the functions."
   ]
  },
  {
   "cell_type": "markdown",
   "metadata": {},
   "source": [
    "**rate_susp** is my rate of suspetibility function, which is based off of the following population dynamic equation:$$\\frac{dS}{dt}= -\\frac{\\beta IS}{N}$$ It takes in beta (the rate of infection), I (the infected population), S (the susceptible population), and N (the total population) as inputs, and it returns as an output the rate of change in the susceptible population."
   ]
  },
  {
   "cell_type": "code",
   "execution_count": 53,
   "metadata": {
    "collapsed": true
   },
   "outputs": [],
   "source": [
    "def rate_susp(S,t):\n",
    "    return -beta*I*S/N"
   ]
  },
  {
   "cell_type": "markdown",
   "metadata": {},
   "source": [
    "For example, if the rate of infection (beta) is 0.008, the infected population (I) is 1, the susceptible population is 100, and the total population is 101, then the rate of change in the susceptible population will be:"
   ]
  },
  {
   "cell_type": "code",
   "execution_count": 54,
   "metadata": {},
   "outputs": [
    {
     "name": "stdout",
     "output_type": "stream",
     "text": [
      "-0.007920792079207921\n"
     ]
    }
   ],
   "source": [
    "#Our Inputs\n",
    "I_rate=0.008 #the infection rate\n",
    "I_pop=1 #the infected population\n",
    "S_pop=100 #the susceptible population\n",
    "N_pop=101 #the total population\n",
    "\n",
    "beta,I,N=I_rate,I_pop,N_pop\n",
    "\n",
    "time=0 #starting time is zero\n",
    "\n",
    "print(rate_susp(S_pop,time)) #printing the output"
   ]
  },
  {
   "cell_type": "markdown",
   "metadata": {},
   "source": [
    "**rate_infected** is my rate of infection function, which is based off of the following population dynamic equation: $$\\frac{dI}{dt}= \\frac{\\beta IS}{N} -\\gamma I$$ It takes in beta (the rate of infection), I (the infected population), S (the susceptible population), N (the total population), gamma (the rate at which people recover) as inputs, and it returns as an output the rate at which people become infected."
   ]
  },
  {
   "cell_type": "code",
   "execution_count": 55,
   "metadata": {
    "collapsed": true
   },
   "outputs": [],
   "source": [
    "def rate_infected(I,t):\n",
    "    return (beta*I*S/N)-(gamma*I)"
   ]
  },
  {
   "cell_type": "markdown",
   "metadata": {},
   "source": [
    "For example, if the rate of infection (beta) is 0.008, the infected population (I) is 1, the susceptible population is 100, the total population is 101, and the recovery rate (gamma) is 0.15, then the rate of change in the infected population will be:"
   ]
  },
  {
   "cell_type": "code",
   "execution_count": 56,
   "metadata": {},
   "outputs": [
    {
     "name": "stdout",
     "output_type": "stream",
     "text": [
      "-0.14207920792079207\n"
     ]
    }
   ],
   "source": [
    "#Our Inputs\n",
    "I_rate=0.008 #the infection rate\n",
    "I_pop=1 #the infected population\n",
    "S_pop=100 #the susceptible population\n",
    "N_pop=I_pop+S_pop #the total population\n",
    "Rec_rate=0.15 #teh recovery rate\n",
    "\n",
    "beta,gamma,S,N=I_rate,Rec_rate,S_pop,N_pop\n",
    "\n",
    "time=0 #starting time is zero\n",
    "print(rate_infected(I_pop,time)) #printing the output"
   ]
  },
  {
   "cell_type": "markdown",
   "metadata": {},
   "source": [
    "**rate_recovery** is my rate of recovery function, which is based off of the following population dynamic equation:\n",
    " $$\\frac{dR}{dt}= \\gamma I$$ It takes in I (the infected population) and gamma (the rate at which people recover) as inputs, and it returns as an output the rate at which people recover."
   ]
  },
  {
   "cell_type": "code",
   "execution_count": 57,
   "metadata": {
    "collapsed": true
   },
   "outputs": [],
   "source": [
    "def rate_recovery(R,t):\n",
    "    return gamma*I"
   ]
  },
  {
   "cell_type": "markdown",
   "metadata": {},
   "source": [
    "For example, if infected population (I) is 1 and the recovery rate (gamma) is 0.001, then the rate at which people recover will be:"
   ]
  },
  {
   "cell_type": "code",
   "execution_count": 58,
   "metadata": {},
   "outputs": [
    {
     "name": "stdout",
     "output_type": "stream",
     "text": [
      "0.15\n"
     ]
    }
   ],
   "source": [
    "#Our Inputs\n",
    "R_pop=0 #the reovered population\n",
    "I_pop=1 #the infected population\n",
    "Rec_rate=0.15 #the recovery rate\n",
    "\n",
    "gamma,I=Rec_rate,I_pop\n",
    "\n",
    "time=0\n",
    "\n",
    "print(rate_recovery(R_pop,time)) #printing the output"
   ]
  },
  {
   "cell_type": "markdown",
   "metadata": {},
   "source": [
    "**pop_change_1sp** is my rate of population change for one species function without a carrying capacity, which is based off of the following population dynamic equation: $$\\frac{dx}{dt}= rx$$ It takes in r (the birth rate minus the death rate) and x (the population), then it returns as an output the rate at which the population changes."
   ]
  },
  {
   "cell_type": "code",
   "execution_count": 59,
   "metadata": {
    "collapsed": true
   },
   "outputs": [],
   "source": [
    "def pop_change_1sp(x,t):\n",
    "    return r*x"
   ]
  },
  {
   "cell_type": "markdown",
   "metadata": {},
   "source": [
    "For example, if the birth rate is 0.5, the death rate is 0.15 and the population (pop) is 125, then the population change will be:"
   ]
  },
  {
   "cell_type": "code",
   "execution_count": 60,
   "metadata": {},
   "outputs": [
    {
     "name": "stdout",
     "output_type": "stream",
     "text": [
      "43.75\n"
     ]
    }
   ],
   "source": [
    "#Our Inputs\n",
    "BD=0.5-0.15 #the birth rate minus teh death rate\n",
    "pop=125 #the population\n",
    "\n",
    "r=BD\n",
    "\n",
    "time=0\n",
    "\n",
    "print(pop_change_1sp(pop,time)) #printing the output"
   ]
  },
  {
   "cell_type": "markdown",
   "metadata": {},
   "source": [
    "**pop_change_1spK** is my rate of population change for one species function with a carrying capacity, which is based off of the following population dynamic equation: $$\\frac{dx}{dt}= rx(1-\\frac{x}{K})$$ It takes in r (the birth rate minus the death rate), x (the population), and K (the carrying capacity), and it returns as an output the rate at which the population changes."
   ]
  },
  {
   "cell_type": "code",
   "execution_count": 61,
   "metadata": {
    "collapsed": true
   },
   "outputs": [],
   "source": [
    "def pop_change_1spK(x,t):\n",
    "    return r*x*(1-x/K)"
   ]
  },
  {
   "cell_type": "markdown",
   "metadata": {},
   "source": [
    "For example, if the birth rate is 0.5, the death rate is 0.15, the population (pop) is 125, and the carrying capacity is 150, then the population change will be:"
   ]
  },
  {
   "cell_type": "code",
   "execution_count": 62,
   "metadata": {},
   "outputs": [
    {
     "name": "stdout",
     "output_type": "stream",
     "text": [
      "7.291666666666665\n"
     ]
    }
   ],
   "source": [
    "#Our Inputs\n",
    "BD=0.5-0.15 #the birth rate minus teh death rate\n",
    "pop=125 #the population\n",
    "C_cap=150 #teh carrying capacity\n",
    "\n",
    "r,K=BD,C_cap\n",
    "\n",
    "time=0\n",
    "\n",
    "print(pop_change_1spK(pop,time)) #printing the output"
   ]
  },
  {
   "cell_type": "markdown",
   "metadata": {},
   "source": [
    "**pop_change_2sp_xout** and **pop_change_2sp_yout** are my predator-prey population interactions functions, which are based off of the population dynamic equations: $$\\frac{dx}{dt}= \\alpha x-\\beta xy$$ $$\\frac{dy}{dt}= \\delta xy-\\gamma y $$It takes alpha (the birth rate minus the death rate for the prey species-x), beta (the success rate of how often the predator species-y gets its prey species-x), delta (the rate that predator can convetr prey into more predator), gamma (the death rate of teh predator species-y), x (the population of the prey species), and y (the population of the predator species)as inputs. They returns as an output the rate at which population x and population y change respectively."
   ]
  },
  {
   "cell_type": "code",
   "execution_count": 63,
   "metadata": {
    "collapsed": true
   },
   "outputs": [],
   "source": [
    "def pop_change_2sp_xout(x1,t):\n",
    "    change_x=(alpha1*x1)-(beta1*x1*y1)\n",
    "    return change_x\n",
    "\n",
    "def pop_change_2sp_yout(y1,t):\n",
    "    change_y=(delta1*x1*y1)-(gamma1*y1)\n",
    "    return change_y"
   ]
  },
  {
   "cell_type": "markdown",
   "metadata": {},
   "source": [
    "For example, if birth minus the death rate of the prey species (BD) is 0, the success rate of predator species catching prey species (catch) is 0.003, the rate of predator species converting prey into more predators (conv) is 0, the death rate of the predator species (pred_dth) is 0.30, the population of prey species (prey) is 100, and the population of the predator species (pred) is 1, then the rate of change of each population will be:"
   ]
  },
  {
   "cell_type": "code",
   "execution_count": 64,
   "metadata": {},
   "outputs": [
    {
     "name": "stdout",
     "output_type": "stream",
     "text": [
      "-0.3\n",
      "-0.1\n"
     ]
    }
   ],
   "source": [
    "#Our Inputs\n",
    "BD=0 #birth rate minus death rate of prey species\n",
    "catch=0.003 #rate that predators catches prey\n",
    "conv=0 #rate of converting prey into predator\n",
    "pred_dth=0.1 #death rate of predators\n",
    "prey=100 #prey population\n",
    "pred=1 #predator population\n",
    "\n",
    "#assigning the variables\n",
    "alpha1,beta1,delta1,gamma1,x1,y1=BD,catch,conv,pred_dth,prey,pred\n",
    "\n",
    "print(pop_change_2sp_xout(prey,time)) #printing the output for rate of species x change\n",
    "print(pop_change_2sp_yout(pred,time)) #printing the output for rate of species y change"
   ]
  },
  {
   "cell_type": "markdown",
   "metadata": {},
   "source": [
    "The following are the **Unified Zombie Theory** functions, and they work exactly as written:"
   ]
  },
  {
   "cell_type": "code",
   "execution_count": 72,
   "metadata": {
    "collapsed": true
   },
   "outputs": [],
   "source": [
    "#defining our constants\n",
    "fed_catch=0.008 #this is beta one from the human and fed zombie population equations\n",
    "fed_conv=0.15 #this is the c from the fed zombie and hungry zombie population equations\n",
    "hungry_catch=0.003 #this is the  gamma from the all three unified zombei theory population equations\n",
    "hungry_dth=0.3 #this is the d from the hungry zombie population equation\n",
    "\n",
    "#defining accessible variables\n",
    "hpop=100 #this is the H for human population\n",
    "fed=1 #this is the ZF for the fed zombie population\n",
    "hungry=0 #this is the ZH for the hungry zombie population\n",
    "total=hpop+fed+hungry #this is the N total population\n",
    "\n",
    "#human population rate of change\n",
    "def humans(x,t): #humans takes in the human population and time and returns the rate of change in the human population\n",
    "    return -(fed_catch*fed*x/total)-(hungry_catch*hungry*x)\n",
    "#return -(fed_catch*fed*x)-(hungry_catch*hungry*x) #trying wihtout total\n",
    "  \n",
    "#fed zombie population rate of change\n",
    "def fed_zombies(x,t): #fed_zombies takes in fed zombeis pop and the time and returns its rate of change\n",
    "    return (fed_catch*hpop*x/total)-(fed_conv*x)+(hungry_catch*hungry*hpop)\n",
    "#return (fed_catch*hpop*x)-(fed_conv*x)+(hungry_catch*hungry*hpop) #trying without total\n",
    "  \n",
    "#hungry zombie population rate of change\n",
    "def hungry_zombies(x,t): #hungry_zombies takes in hungry zombies pop and the time and returns its rate of change\n",
    "    return (fed_conv*fed)-(hungry_catch*x*hpop)-(hungry_dth*x)\n",
    "\n",
    "#all accessible variables must be updated after each run"
   ]
  },
  {
   "cell_type": "markdown",
   "metadata": {},
   "source": [
    "For example, the unfified zombie theory equations can be used to find the rate of change human, fed zombie, and hunrgy zombie populations when the human population is 100, the the fed zombie population is 1, and the hungry zombie population is 0. The constants for the unified zombie theory equations example is when fed zombies catch people at a rate of 0.008, fed zombies become hungry at 0.15, hungry zombies catch humans at a rate of 0.003, and hungry zombies die at a rate of 0.3."
   ]
  },
  {
   "cell_type": "code",
   "execution_count": 73,
   "metadata": {},
   "outputs": [
    {
     "name": "stdout",
     "output_type": "stream",
     "text": [
      "Human population changes at a rate of  -0.007920792079207921 .\n",
      "Fed zombie population changes at a rate of  -0.14207920792079207 .\n",
      "Hungry zombie population changes at a rate of  0.15 .\n"
     ]
    }
   ],
   "source": [
    "#defining our constants\n",
    "fed_catch=0.008 #this is beta one from the human and fed zombie population equations\n",
    "fed_conv=0.15 #this is the c from the fed zombie and hungry zombie population equations\n",
    "hungry_catch=0.003 #this is the  gamma from the all three unified zombei theory population equations\n",
    "hungry_dth=0.3 #this is the d from the hungry zombie population equation\n",
    "\n",
    "#defining actively used variables in equations\n",
    "hpop=100 #this is the H for human population\n",
    "fed=1 #this is the ZF for the fed zombie population\n",
    "hungry=0 #this is the ZH for the hungry zombie population\n",
    "total=hpop+fed+hungry\n",
    "\n",
    "#starting time\n",
    "time=0\n",
    "\n",
    "print(\"Human population changes at a rate of \",humans(hpop,time),\".\")\n",
    "print(\"Fed zombie population changes at a rate of \",fed_zombies(fed,time),\".\")\n",
    "print(\"Hungry zombie population changes at a rate of \",hungry_zombies(hungry,time),\".\")"
   ]
  },
  {
   "cell_type": "markdown",
   "metadata": {
    "collapsed": true
   },
   "source": [
    "**zombie_attack** is the zombie attack function which models moves everything forward in time to model the zombie invasion. It takes in the human population ($x$), the fed zombie population ($y$), the hungry zombie population ($z$), the starting time ($t$), the amount of time to move forward ($ft$), and the time step to take in eurich ($dt$). zombie_attack uses a while loop to go forward in time until the current time is no longer less than or equal to the starting time ($t$). Inside of the while loop, the new human, fed zombie, and hungry zombie populations are found by passing the appropriate functions and populations into eurich. The variables accessed inside of each function get reassigned, and then, the current time gets adavnced by the timestep. As an output, the zombie_attack function returns the humans, fed zombies, and hungry zombies populations after the forward time has passed."
   ]
  },
  {
   "cell_type": "code",
   "execution_count": 74,
   "metadata": {
    "collapsed": true
   },
   "outputs": [],
   "source": [
    "#the function needs some work, because the fed zombie population doesn't increase as much as it should be\n",
    "\n",
    "def zombie_attack(x,y,z,t,ft,dt):\n",
    "    current_time=t\n",
    "    \n",
    "    #intergrating forward in time until we have moved forward teh specified amount\n",
    "    while current_time<=t+ft:\n",
    "        \n",
    "        #moving the populations forward in time\n",
    "        x=eurich(humans,x,t,dt)\n",
    "        y=eurich(fed_zombies,y,t,dt)\n",
    "        z=eurich(hungry_zombies,z,t,dt)\n",
    "        \n",
    "        #updating the variables seen in other equations\n",
    "        hpop=x\n",
    "        fed=y\n",
    "        hungry=z\n",
    "        total=x+y+z\n",
    "        \n",
    "        #moving forward in time\n",
    "        current_time+=dt\n",
    "    \n",
    "    return (x,y,z)"
   ]
  },
  {
   "cell_type": "markdown",
   "metadata": {},
   "source": [
    "For example, **zombie_attack** can be used to find the human, fed zombie, and hunrgy zombie populations when their starting values are 100, 1, and 0 repsectively. The starting time is 0, forward time is 50, and the increment is 0.9. The rates are unchanged from the previous example."
   ]
  },
  {
   "cell_type": "code",
   "execution_count": 75,
   "metadata": {},
   "outputs": [
    {
     "name": "stdout",
     "output_type": "stream",
     "text": [
      "(99.60158785507963, 0.0007932984531996461, 0.24999999999983843)\n"
     ]
    }
   ],
   "source": [
    "#the time\n",
    "start_time=0\n",
    "forward_time=50\n",
    "increment_time=0.9\n",
    "\n",
    "#defining our constants\n",
    "fed_catch=0.008 #this is beta one from the human and fed zombie population equations\n",
    "fed_conv=0.15 #this is the c from the fed zombie and hungry zombie population equations\n",
    "hungry_catch=0.003 #this is the  gamma from the all three unified zombei theory population equations\n",
    "hungry_dth=0.3 #this is the d from the hungry zombie population equation\n",
    "\n",
    "#defining actively used variables in equations\n",
    "hpop=100 #this is the H for human population\n",
    "fed=1 #this is the ZF for the fed zombie population\n",
    "hungry=0 #this is the ZH for the hungry zombie population\n",
    "\n",
    "#running the code\n",
    "print(zombie_attack(hpop,fed,hungry,start_time,forward_time,increment_time))"
   ]
  },
  {
   "cell_type": "markdown",
   "metadata": {
    "collapsed": true
   },
   "source": [
    "# Answering The Questions"
   ]
  },
  {
   "cell_type": "markdown",
   "metadata": {
    "collapsed": true
   },
   "source": [
    "In a **standard zombie attack**, the following are the starting conditions:"
   ]
  },
  {
   "cell_type": "code",
   "execution_count": 76,
   "metadata": {
    "collapsed": true
   },
   "outputs": [],
   "source": [
    "#the time\n",
    "start_time=0\n",
    "forward_time=50\n",
    "increment_time=0.9\n",
    "\n",
    "#defining our constants\n",
    "fed_catch=0.008 #this is beta one from the human and fed zombie population equations\n",
    "fed_conv=0.15 #this is the c from the fed zombie and hungry zombie population equations\n",
    "hungry_catch=0.003 #this is the  gamma from the all three unified zombei theory population equations\n",
    "hungry_dth=0.3 #this is the d from the hungry zombie population equation\n",
    "\n",
    "#defining actively used variables in equations\n",
    "hpop=100 #this is the H for human population\n",
    "fed=1 #this is the ZF for the fed zombie population\n",
    "hungry=0 #this is the ZH for the hungry zombie population"
   ]
  },
  {
   "cell_type": "markdown",
   "metadata": {},
   "source": [
    "I will then setup a for loop to collect data to plot the progression of a zombie attack."
   ]
  },
  {
   "cell_type": "code",
   "execution_count": 77,
   "metadata": {
    "collapsed": true
   },
   "outputs": [],
   "source": [
    "#the time lengths we will be collecting data from\n",
    "test_lengths=list(range(0,51,2))\n",
    "\n",
    "#empty lists to store the data results in\n",
    "x_points=[]\n",
    "y_points=[]\n",
    "z_points=[]\n",
    "\n",
    "for i in test_lengths:\n",
    "    forward_time=i\n",
    "    results=zombie_attack(hpop,fed,hungry,start_time,forward_time,increment_time)\n",
    "    #unpacking the results\n",
    "    x_result,y_result,z_result=results\n",
    "    #appending the results of each length of time\n",
    "    x_points.append(x_result)\n",
    "    y_points.append(y_result)\n",
    "    z_points.append(z_result)"
   ]
  },
  {
   "cell_type": "markdown",
   "metadata": {},
   "source": [
    "These are the line plots of a normal zombie invasion that show what each population looks like over the course of time. Since I still am having issues with the populations, I am also goign to plot each population by itself."
   ]
  },
  {
   "cell_type": "code",
   "execution_count": 78,
   "metadata": {},
   "outputs": [
    {
     "data": {
      "image/png": "[encoded data removed]",
      "text/plain": [
       "<matplotlib.figure.Figure at 0x2d0924fe0f0>"
      ]
     },
     "metadata": {},
     "output_type": "display_data"
    },
    {
     "data": {
      "image/png": "[encoded data removed]",
      "text/plain": [
       "<matplotlib.figure.Figure at 0x2d092783080>"
      ]
     },
     "metadata": {},
     "output_type": "display_data"
    },
    {
     "data": {
      "image/png": "[encoded data removed]",
      "text/plain": [
       "<matplotlib.figure.Figure at 0x2d0927830f0>"
      ]
     },
     "metadata": {},
     "output_type": "display_data"
    },
    {
     "data": {
      "image/png": "[encoded data removed]",
      "text/plain": [
       "<matplotlib.figure.Figure at 0x2d0925e0fd0>"
      ]
     },
     "metadata": {},
     "output_type": "display_data"
    }
   ],
   "source": [
    "#makign the all together plot\n",
    "plot(test_lengths,x_points,'g',test_lengths,y_points,'r',test_lengths,z_points,'b')\n",
    "title(\"Populations During a Normal Zombie Invasion\")\n",
    "xlabel(\"Units of Time\")\n",
    "ylabel(\"Populationa (Members)\")\n",
    "legend([\"Human Population\",\"Fed Zombies\",\"Hungry Zombies\"])\n",
    "show()\n",
    "\n",
    "#humans only\n",
    "plot(test_lengths,x_points,'g')\n",
    "title(\"Human Population During a Normal Zombie Invasion\")\n",
    "xlabel(\"Units of Time\")\n",
    "ylabel(\"Human Population (Members)\")\n",
    "show()\n",
    "\n",
    "#fed zombies only\n",
    "plot(test_lengths,y_points,'r')\n",
    "title(\"Fed Zombie Population During a Normal Zombie Invasion\")\n",
    "xlabel(\"Units of Time\")\n",
    "ylabel(\"Fed Zombie Population (Members)\")\n",
    "show()\n",
    "\n",
    "#hunrgy zombies only\n",
    "plot(test_lengths,z_points,'b')\n",
    "title(\"Hungry Zombie Population During a Normal Zombie Invasion\")\n",
    "xlabel(\"Units of Time\")\n",
    "ylabel(\"Hungry Zombie Population (Members)\")\n",
    "show()"
   ]
  },
  {
   "cell_type": "markdown",
   "metadata": {},
   "source": [
    "The human population barely changed, but it did decrease at a linear rate. The fed zombie population decreased at a logarithmic rate and levelled off.. The hungry zombie population increased at an exponential rate and leveled off. Overall, a zombie invasion would fail, because they cannot catch humans very well."
   ]
  },
  {
   "cell_type": "markdown",
   "metadata": {
    "collapsed": true
   },
   "source": [
    "In a **nonstandard zombie invasion**, the human population is aware that decreased nutritional content of the brain by watching TV will result in the zombies not surviving as long. To describe this, fed zombies go hungry sooner and hungry zombies die faster."
   ]
  },
  {
   "cell_type": "code",
   "execution_count": 79,
   "metadata": {
    "collapsed": true
   },
   "outputs": [],
   "source": [
    "#the time\n",
    "start_time=0\n",
    "forward_time=50\n",
    "increment_time=0.9\n",
    "\n",
    "#defining our constants\n",
    "fed_catch=0.008 #this is beta one from the human and fed zombie population equations\n",
    "fed_conv=0.30 #this is the c from the fed zombie and hungry zombie population equations, doubled\n",
    "hungry_catch=0.003 #this is the  gamma from the all three unified zombei theory population equations\n",
    "hungry_dth=0.6 #this is the d from the hungry zombie population equation, doubled\n",
    "\n",
    "#defining actively used variables in equations\n",
    "hpop=100 #this is the H for human population\n",
    "fed=1 #this is the ZF for the fed zombie population\n",
    "hungry=0 #this is the ZH for the hungry zombie population"
   ]
  },
  {
   "cell_type": "markdown",
   "metadata": {},
   "source": [
    "I will then setup a for loop to collect data to plot the progression of a zombie attack."
   ]
  },
  {
   "cell_type": "code",
   "execution_count": 80,
   "metadata": {
    "collapsed": true
   },
   "outputs": [],
   "source": [
    "#the time lengths we will be collecting data from\n",
    "test_lengths=list(range(0,51,2))\n",
    "\n",
    "#empty lists to store the data results in\n",
    "x_points=[]\n",
    "y_points=[]\n",
    "z_points=[]\n",
    "\n",
    "for i in test_lengths:\n",
    "    forward_time=i\n",
    "    results=zombie_attack(hpop,fed,hungry,start_time,forward_time,increment_time)\n",
    "    #unpacking the results\n",
    "    x_result,y_result,z_result=results\n",
    "    #appending the results of each length of time\n",
    "    x_points.append(x_result)\n",
    "    y_points.append(y_result)\n",
    "    z_points.append(z_result)"
   ]
  },
  {
   "cell_type": "markdown",
   "metadata": {},
   "source": [
    "These are the line plots of a nonstandard zombie invasion that show what each population looks like over the course of time."
   ]
  },
  {
   "cell_type": "code",
   "execution_count": 81,
   "metadata": {},
   "outputs": [
    {
     "data": {
      "image/png": "[encoded data removed]",
      "text/plain": [
       "<matplotlib.figure.Figure at 0x2d09285a198>"
      ]
     },
     "metadata": {},
     "output_type": "display_data"
    },
    {
     "data": {
      "image/png": "[encoded data removed]",
      "text/plain": [
       "<matplotlib.figure.Figure at 0x2d0925ff940>"
      ]
     },
     "metadata": {},
     "output_type": "display_data"
    },
    {
     "data": {
      "image/png": "[encoded data removed]",
      "text/plain": [
       "<matplotlib.figure.Figure at 0x2d091cd6390>"
      ]
     },
     "metadata": {},
     "output_type": "display_data"
    },
    {
     "data": {
      "image/png": "[encoded data removed]",
      "text/plain": [
       "<matplotlib.figure.Figure at 0x2d091d076a0>"
      ]
     },
     "metadata": {},
     "output_type": "display_data"
    }
   ],
   "source": [
    "#makign the all together plot\n",
    "plot(test_lengths,x_points,'g',test_lengths,y_points,'r',test_lengths,z_points,'b')\n",
    "title(\"Populations During a Normal Zombie Invasion\")\n",
    "xlabel(\"Units of Time\")\n",
    "ylabel(\"Populationa (Members)\")\n",
    "legend([\"Human Population\",\"Fed Zombies\",\"Hungry Zombies\"])\n",
    "show()\n",
    "\n",
    "#humans only\n",
    "plot(test_lengths,x_points,'g')\n",
    "title(\"Human Population During a Normal Zombie Invasion\")\n",
    "xlabel(\"Units of Time\")\n",
    "ylabel(\"Human Population (Members)\")\n",
    "show()\n",
    "\n",
    "#fed zombies only\n",
    "plot(test_lengths,y_points,'r')\n",
    "title(\"Fed Zombie Population During a Normal Zombie Invasion\")\n",
    "xlabel(\"Units of Time\")\n",
    "ylabel(\"Fed Zombie Population (Members)\")\n",
    "show()\n",
    "\n",
    "#hunrgy zombies only\n",
    "plot(test_lengths,z_points,'b')\n",
    "title(\"Hungry Zombie Population During a Normal Zombie Invasion\")\n",
    "xlabel(\"Units of Time\")\n",
    "ylabel(\"Hungry Zombie Population (Members)\")\n",
    "show()"
   ]
  },
  {
   "cell_type": "markdown",
   "metadata": {},
   "source": [
    "The human population barely changed at roughly the same rate as before, and it still decreased at a linear rate. The fed zombie population decreased at a faster logarithmic rate than in a stnadard invasion and levelled off.. The hungry zombie population increased at a higher exponential rate than durign the standard invasion and leveled off. This demonstrates that humans watching TV will indeed confer protective benefits during a zombie invasion. Overall, a zombie invasion would fail, because they cannot catch people well."
   ]
  }
 ],
 "metadata": {
  "kernelspec": {
   "display_name": "Python 3",
   "language": "python",
   "name": "python3"
  },
  "language_info": {
   "codemirror_mode": {
    "name": "ipython",
    "version": 3
   },
   "file_extension": ".py",
   "mimetype": "text/x-python",
   "name": "python",
   "nbconvert_exporter": "python",
   "pygments_lexer": "ipython3",
   "version": "3.6.1"
  }
 },
 "nbformat": 4,
 "nbformat_minor": 2
}

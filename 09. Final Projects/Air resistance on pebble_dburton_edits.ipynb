{
 "cells": [
  {
   "cell_type": "markdown",
   "metadata": {},
   "source": [
    "### Air resitance on a pebble\n",
    "\n",
    "Verify the claim that the effects of air resistance on a falling pebble can be appreciable. Compute the speed at which a pebble reaches the ground if i is dropped from rest at a height of 100 m. Compare this speed to that of a freely falling object under the same conditions. Assume the drag force is proportional to $v^2$ and the terminal velocity of the pebble is 30 m/s.\n",
    "\n",
    "Recall from physics that the sum of forces includes both gravity and quadratic drag, and is\n",
    "\n",
    "$$F_d = -mg + C_2 v^2,$$\n",
    "\n",
    "where down is in the negative direction. Observing that at terminal velocity the sum of forces is zero, this can be re-written in terms of a terminal velocity, $v_t$ as\n",
    "\n",
    "$$F_d = -mg\\left(1 - \\frac{v^2}{v_t^2}\\right).$$\n",
    "\n",
    "From Newton, we know force is mass times acceleration, which is the first derivative of velocity. We also know that velocity is the derivative of position. Using this, we arrive at a second order (second derivative), ordinary differential equation\n",
    "\n",
    "$$F_d = m\\frac{dv}{dt} = m\\frac{d^2x}{dt^2} = -mg\\left(1 - \\frac{v^2}{v_t^2}\\right).$$\n",
    "\n",
    "This is solved by creating *a pair* of frist order ODEs. Canceling the mass on both sides gives:\n",
    "\n",
    "$$ \\frac{dv}{dt} = -mg\\left(1 - \\frac{v^2}{v_t^2}\\right),$$\n",
    "\n",
    "$$ \\frac{dx}{dt} = v$$.\n",
    "\n",
    "This pair of equations is to be solved using an Euler method of your own devising.\n",
    "\n",
    "To check your results, use the analytic solution to determine the time a pebble takes to fall to Earth in the absence of air resistance. The position is found from\n",
    "\n",
    "$$x(t) = -\\frac{1}{2}gt^2 + x_o.$$\n",
    "\n",
    "and the time can be solved for by solving for $t$ when $x(t)$=0,\n",
    "\n",
    "$$t = \\sqrt{\\frac{2x_o}{g}}$$.\n",
    "\n",
    "### The Euler method\n",
    "\n",
    "Recall from in-class lecture notes, the Euler method is\n",
    "\n",
    "$$x(t+dt) = x(t) + f(x,t) dt$$\n",
    "\n",
    "Where \n",
    "\n",
    "$$f(x,t) = \\frac{dx}{dt}$$\n",
    "\n",
    "Note that in most interesting cases, x is not a single value, but a set of values. For example in our current problem $x$ will be the position and the velocity, or\n",
    "\n",
    "$$\\mathbf{x} = \\left(x,\\frac{dx}{dt}\\right)$$\n"
   ]
  },
  {
   "cell_type": "code",
   "execution_count": 1,
   "metadata": {
    "collapsed": true
   },
   "outputs": [],
   "source": [
    "from numpy import array,sqrt\n",
    "\n",
    "# Assign values to physical constants like gravity and terminal velocity here.\n",
    "gravity=9.81 #m/s**2\n",
    "t_vel=55.56 #terminal velocity in m/s\n",
    "\n",
    "# They will then be visible within the functions that follow.\n",
    "\n",
    "#the values in x are [position, velocity]\n",
    "\n",
    "def euler(f,x,t,dt):\n",
    "    \"\"\"\n",
    "    This function will integrate forward in time using the Euler method.\n",
    "    This function takes the state of some system at time t described by x(t), \n",
    "    and returns the state x(t+dt)\n",
    "\n",
    "    INPUTS:\n",
    "    f = a user written function that takes x,t as inputs and return dx/dt for each input. \n",
    "        Note that both x and dx/dt are numpy arrays.\n",
    "    x = a numpy array of values describing the state of the system at time t.\n",
    "    t = the time corresponding to the values x\n",
    "    dt = the time step to be taken\n",
    "\n",
    "    OUTPUTS:\n",
    "    a numpy array for x(t+dt)\n",
    "\n",
    "    \"\"\"\n",
    "    \n",
    "    #all we do is find teh next thing to occur according to the function\n",
    "    #this is done by multiplying the derivatives (the values teh inputted function returns)\n",
    "    #by the tiem step and adding that to the original values\n",
    "    #tiemstep multiplied by derivatives equals change in thing\n",
    "    return x+(f(x,t))*dt\n",
    "\n",
    "def pebble(xm,t):\n",
    "    return array([xm[1],-gravity*(1-(xm[1]/t_vel)**2)])\n",
    "\n",
    "\n",
    "#teh analytical method of finding the time to hit the ground\n",
    "def analytic_t(x_i):\n",
    "    return sqrt((2*x_i[0])/gravity)\n",
    "\n",
    "#euler richardson function\n",
    "def eurich(f,x,t,dt):\n",
    "    tm=t+(dt/2) #calculatign the midpoint time\n",
    "    xm=x+f(x,t)*(dt/2) #calculatign the midpoint position\n",
    "    fm=f(xm,tm) #calculatign the midpoint slopes\n",
    "    xf=x+fm*dt #calculatign the final xposition as estimated by the slope at the midpoint\n",
    "    return xf"
   ]
  },
  {
   "cell_type": "code",
   "execution_count": 13,
   "metadata": {},
   "outputs": [
    {
     "name": "stdout",
     "output_type": "stream",
     "text": [
      "4.51523640986\n"
     ]
    }
   ],
   "source": [
    "# The initial conditions for the problem\n",
    "x0 = array([100,0])  \n",
    "t_s = 0    # Starting time\n",
    "dt= 0.00000001 # Make this lower until the results match the analytic values.\n",
    "\n",
    "# Compare the results of doing the problem with the Euler method to doing the analytic approach\n",
    "tnew=analytic_t(x0)\n",
    "print(tnew)"
   ]
  },
  {
   "cell_type": "code",
   "execution_count": 18,
   "metadata": {},
   "outputs": [
    {
     "name": "stdout",
     "output_type": "stream",
     "text": [
      "[4.757751500311125, 5.5169654559732913e-06]\n"
     ]
    }
   ],
   "source": [
    "# The initial conditions for the problem\n",
    "x0 = array([100,0])  \n",
    "t_s = 0    # Starting time\n",
    "dt= 0.000001 # Make this lower until the results match the analytic values.\n",
    "\n",
    "# Write a while loop that will integrate the problem forward in time \n",
    "# UNTIL the pebble reaches the ground at x0==0\n",
    "#interpolation is necessary fo rmore accurate estimates\n",
    "int_set=[0,0]\n",
    "\n",
    "while x0[0]>0:\n",
    "    int_set[0]=[t_s,x0[0]] #capturing the before values\n",
    "    x0=euler(pebble,x0,t_s,dt)\n",
    "    t_s=t_s+dt\n",
    "    int_set[1]=[t_s,x0[0]] #capturing the after values\n",
    "\n",
    "#doign the interpolation\n",
    "int_t=(int_set[0][0]+int_set[1][0])/2 #averaging them\n",
    "int_x=(int_set[0][1]+int_set[1][1])/2\n",
    "intpol=[int_t,int_x]\n",
    "print(intpol)"
   ]
  },
  {
   "cell_type": "code",
   "execution_count": 10,
   "metadata": {},
   "outputs": [
    {
     "name": "stdout",
     "output_type": "stream",
     "text": [
      "[  1.00000000e-04   2.00000000e-04   3.00000000e-04 ...,   1.99800000e-01\n",
      "   1.99900000e-01   2.00000000e-01]\n"
     ]
    },
    {
     "data": {
      "image/png": "[encoded data removed]",
      "text/plain": [
       "<matplotlib.figure.Figure at 0x1b9ef351438>"
      ]
     },
     "metadata": {},
     "output_type": "display_data"
    }
   ],
   "source": [
    "#comparative look at how euler behaves\n",
    "from pylab import arange, scatter, show\n",
    "dt_set=arange(0.0001,0.2,0.0001)\n",
    "print(dt_set)\n",
    "x_set=dt_set\n",
    "y_set=[]\n",
    "\n",
    "# do it withour air resistance with euler\n",
    "for i in dt_set:\n",
    "    x0 = array([100,0]) \n",
    "    t_s=0\n",
    "    dta=i\n",
    "    while x0[0]>0:\n",
    "        x0=euler(pebble,x0,t_s,dta)\n",
    "        t_s=t_s+dta\n",
    "    y_set.append(t_s)\n",
    "    \n",
    "scatter(x_set,y_set)\n",
    "show()"
   ]
  },
  {
   "cell_type": "code",
   "execution_count": 21,
   "metadata": {},
   "outputs": [
    {
     "name": "stdout",
     "output_type": "stream",
     "text": [
      "4.75775999998905 -0.0001787751526\n"
     ]
    }
   ],
   "source": [
    "# The initial conditions for the problem\n",
    "x0 = array([100,0])  \n",
    "t_s = 0    # Starting time\n",
    "dt= 0.00001 # Make this lower until the results match the analytic values.\n",
    "\n",
    "# do it with air resistance.\n",
    "while x0[0]>0:\n",
    "    x0=euler(pebble,x0,t_s,dt)\n",
    "    if x0[1]>t_vel:\n",
    "        x0[1]=t_vel\n",
    "    t_s=t_s+dt\n",
    "    \n",
    "print(t_s,x0[0])"
   ]
  },
  {
   "cell_type": "code",
   "execution_count": 19,
   "metadata": {},
   "outputs": [
    {
     "name": "stdout",
     "output_type": "stream",
     "text": [
      "[4.5, 8.2312807128436951]\n"
     ]
    }
   ],
   "source": [
    "## The initial conditions for the problem\n",
    "#Euler-Richardson approach can actually get the rigth answer at one point!!!\n",
    "x0 = array([100,0])  \n",
    "t_s = 0    # Starting time\n",
    "dt=1\n",
    "\n",
    "#interpolation is necessary fo rmore accurate estimates\n",
    "int_set=[0,0]\n",
    "\n",
    "while x0[0]>0:\n",
    "    int_set[0]=[t_s,x0[0]] #capturing the before values\n",
    "    x0=eurich(pebble,x0,t_s,dt)\n",
    "    t_s=t_s+dt\n",
    "    int_set[1]=[t_s,x0[0]] #capturing the after values\n",
    "\n",
    "#doign the interpolation\n",
    "int_t=(int_set[0][0]+int_set[1][0])/2\n",
    "int_x=(int_set[0][1]+int_set[1][1])/2\n",
    "intpol=[int_t,int_x]\n",
    "print(intpol)"
   ]
  },
  {
   "cell_type": "code",
   "execution_count": 34,
   "metadata": {},
   "outputs": [
    {
     "name": "stdout",
     "output_type": "stream",
     "text": [
      "[  1.00000000e-04   2.00000000e-04   3.00000000e-04 ...,   9.99700000e-01\n",
      "   9.99800000e-01   9.99900000e-01]\n"
     ]
    },
    {
     "data": {
      "image/png": "[encoded data removed]",
      "text/plain": [
       "<matplotlib.figure.Figure at 0x1b9ef450a20>"
      ]
     },
     "metadata": {},
     "output_type": "display_data"
    }
   ],
   "source": [
    "#trying to debug\n",
    "from pylab import arange, scatter, show\n",
    "dt_set=arange(0.0001,1,0.0001)\n",
    "print(dt_set)\n",
    "x_set=dt_set\n",
    "y_set=[]\n",
    "\n",
    "# do it withour air resistance with euler richardson\n",
    "for i in dt_set:\n",
    "    x0 = array([100,0]) \n",
    "    t_s=0\n",
    "    dta=i\n",
    "    while x0[0]>0:\n",
    "        x0=eurich(pebble,x0,t_s,dta)\n",
    "        t_s=t_s+dta\n",
    "    y_set.append(t_s)\n",
    "    \n",
    "scatter(x_set,y_set)\n",
    "show()"
   ]
  },
  {
   "cell_type": "code",
   "execution_count": 32,
   "metadata": {},
   "outputs": [
    {
     "name": "stdout",
     "output_type": "stream",
     "text": [
      "4.74\n"
     ]
    }
   ],
   "source": [
    "## The initial conditions for the problem\n",
    "x0 = array([100,0])  \n",
    "t_s = 0    # Starting time\n",
    "dt=0.948\n",
    "\n",
    "# do it with air resistance with euler richardson\n",
    "while x0[0]>0:\n",
    "    x0=eurich(pebble,x0,t_s,dt)\n",
    "    if x0[1]>t_vel:\n",
    "        x0[1]=t_vel\n",
    "    t_s=t_s+dt\n",
    "    \n",
    "print(t_s)"
   ]
  }
 ],
 "metadata": {
  "kernelspec": {
   "display_name": "Python 3",
   "language": "python",
   "name": "python3"
  },
  "language_info": {
   "codemirror_mode": {
    "name": "ipython",
    "version": 3
   },
   "file_extension": ".py",
   "mimetype": "text/x-python",
   "name": "python",
   "nbconvert_exporter": "python",
   "pygments_lexer": "ipython3",
   "version": "3.6.1"
  }
 },
 "nbformat": 4,
 "nbformat_minor": 2
}

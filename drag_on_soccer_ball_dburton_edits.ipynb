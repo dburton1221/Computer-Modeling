{
 "cells": [
  {
   "cell_type": "markdown",
   "metadata": {},
   "source": [
    "# Soccer Ball Problem\n",
    "The drag force due to air resistance can be expressed as:\n",
    "\n",
    "$$F_{d}= \\frac{1}{2} C_{D} \\gamma AV^{2}$$\n",
    "\n",
    "where \\\\(\\gamma\\\\) is the density of air, \\\\(V\\\\) is the velocity of the object, \\\\(A\\\\) is the cross-sectional area (normal to the velocity direction), and \\\\(C_{D}\\\\) is the drag coefficient, which depends on the object's shape and surface roughness.\n",
    "\n",
    "The gravitational force on an object is \\\\(F_g = mg\\\\).\n",
    "\n",
    "Let's compare the drag and gravitational forces on a soccer ball. If they are close to the same, the motion of the soccer ball becomes quite unpredictable. The values of the variables are as follows:\n",
    "\n",
    "\\\\(g =\\\\) 9.81 \\\\(\\frac{m}{s^2}\\\\)\n",
    "\n",
    "\\\\(\\gamma=\\\\) 1.2 \\\\(\\frac{kg}{m^3}\\\\)\n",
    "\n",
    "\\\\(C_D =\\\\) 0.2\n",
    "\n",
    "The radius of a soccer ball is 11 cm, it's area is determined from the area of a circle, \\\\(\\pi r^2\\\\).\n",
    "\n",
    "The mass of a soccer ball is 0.43 kg.\n",
    "\n",
    "Create a program that uses variables to store all the constants. Include the units as comments, using the \"#\" symbol. \n",
    "\n",
    "Compute the gravitation force and store it in a variable.\n",
    "\n",
    "Compute the drag force for a hard kick (\\\\(V=\\\\) 100 km/hour), and for a soft kick (\\\\(V=\\\\)10 km/hour). Store these in variables as well.\n",
    "\n",
    "All forces should be expressed in Newtons, which has units \\\\(\\frac{kg m }{s^2}\\\\). Be careful with the given units for velocity and radius of the soccer ball. \n",
    "\n",
    "For both kicks, print the forces of gravity and air resistance. Also print the ratios of the forces, \\\\(\\frac{F_d}{F_g}\\\\). Include correct units after every printed value. Do this by creating a string for the correct units, and concatenating strings together (use the '+' symbol). Note that you can not concatenate a string with a number. You'll have to convert your numbers with strings. Do this with the 'str' function, where str(Fg) would turn the numerical values of Fg to a string.\n",
    "\n",
    "It might be useful to know:\n",
    "\n",
    "* You can get the value \\\\(\\pi\\\\) by importing math pi with the command \"from math import pi\"\n",
    "* To exponentiate use \"\\*\\*\", so for example the area of a circle is \"pi\\*r\\*\\*2\".\n",
    "* To create a string, use an assignment like my_string = \"hello strings, I like using you!\"\n",
    "\n"
   ]
  },
  {
   "cell_type": "markdown",
   "metadata": {},
   "source": [
    "### Take care of importing things that will be needed"
   ]
  },
  {
   "cell_type": "code",
   "execution_count": 1,
   "metadata": {
    "collapsed": true
   },
   "outputs": [],
   "source": [
    "# What did it say to import? How do you do that?\n",
    "import numpy as np"
   ]
  },
  {
   "cell_type": "markdown",
   "metadata": {},
   "source": [
    "### Declare all constant in the code. Make sure to label them and include units"
   ]
  },
  {
   "cell_type": "code",
   "execution_count": 2,
   "metadata": {
    "collapsed": true
   },
   "outputs": [],
   "source": [
    "g = 9.81          # m/s^2 gravitational acceleration\n",
    "Cd = 0.2              # Drag coefficient\n",
    "gamma = 1.2         # kg /m^3 Density of air\n",
    "# list the other constants that you will need. You may apply a formula to get\n",
    "r=11/100            #cm converted to meters\n",
    "A=np.pi*(r**2) #formula for area\n",
    "m=0.43 #kilograms for for the ball\n",
    "# the meters per second value of the velocities.\n",
    "hkv=(100)/(60**2)*1000 #hard kick in km/hr converted to m/s, hr=60min, min=6-sec, km=1000m\n",
    "skv=(10)/(60**2)*1000 #soft kick in km/hr converted to m/s, hr=60min, min=60sec, km=1000m"
   ]
  },
  {
   "cell_type": "markdown",
   "metadata": {},
   "source": [
    "### Make calculations according to the formula provided:"
   ]
  },
  {
   "cell_type": "code",
   "execution_count": 3,
   "metadata": {
    "collapsed": true
   },
   "outputs": [],
   "source": [
    "# Use formulas to calculate the following:\n",
    "def Fdrag(vel): #a function to calculate the drag force\n",
    "    forcedrag=0.5*Cd*gamma*A*(vel**2)\n",
    "    return forcedrag\n",
    "# Drag for hard kick\n",
    "Fdh=Fdrag(hkv)\n",
    "# Drag for soft kick\n",
    "Fds=Fdrag(skv)\n",
    "# Gravity on ball\n",
    "Fg=m*g\n",
    "#Hard kick ratio\n",
    "Hkr=Fdh/Fg\n",
    "#Soft kick ratio\n",
    "Skr=Fds/Fg"
   ]
  },
  {
   "cell_type": "markdown",
   "metadata": {},
   "source": [
    "### Output results in a clear printed format, using format specifiers."
   ]
  },
  {
   "cell_type": "code",
   "execution_count": 4,
   "metadata": {},
   "outputs": [
    {
     "name": "stdout",
     "output_type": "stream",
     "text": [
      "Hard kick drag:      3.52 Newtons\n",
      "Soft kick drag:      0.04 Newtons\n",
      "Gravitational Force: 4.22 Newtons\n",
      "Hard kick ratio:     0.83 \n",
      "Soft kick ratio:     0.01 \n"
     ]
    }
   ],
   "source": [
    "# The print function works as follows:\n",
    "# see http://www.python-course.eu/python3_formatted_output.php\n",
    "# for explanation\n",
    "unit = \"Newtons\"\n",
    "print (\"Hard kick drag:      %1.2f \" %Fdh + unit) #%1.2f, f=floating point, and 2 indicates 2 beyond the decimal point\n",
    "print (\"Soft kick drag:      %1.2f \" %Fds + unit)\n",
    "print (\"Gravitational Force: %1.2f \" %Fg + unit)\n",
    "print (\"Hard kick ratio:     %1.2f \" %Hkr)\n",
    "print (\"Soft kick ratio:     %1.2f \" %Skr)"
   ]
  },
  {
   "cell_type": "markdown",
   "metadata": {},
   "source": [
    "### Conclusion\n",
    "\n",
    "From the table of results we see that a hard kick to the soccer ball brings the ratio of drag to gravity\n",
    " forces nearly 1.0, the point at which the ball's behavior becomes unpredictable. A little searching reveals that [a professional player](http://www.livestrong.com/article/441962-how-much-force-does-an-average-soccer-player-kick-the-ball-with/#ixzz2cGaeKWJj) can kick the ball 30 \\\\(\\frac{\\textrm{m}}{\\textrm{s}}\\\\), which gives a force and ratio to gravity of:"
   ]
  },
  {
   "cell_type": "code",
   "execution_count": 5,
   "metadata": {},
   "outputs": [
    {
     "name": "stdout",
     "output_type": "stream",
     "text": [
      "Professional kick force:     4.11 Newtons\n",
      "Professional kick ratio:     0.97 \n"
     ]
    }
   ],
   "source": [
    "pkv=30 #m/s for a professional kick\n",
    "Fdp=Fdrag(pkv)\n",
    "Pkr=Fdp/Fg\n",
    "print (\"Professional kick force:     %1.2f \" %Fdp + unit)\n",
    "print (\"Professional kick ratio:     %1.2f \" %Pkr)"
   ]
  }
 ],
 "metadata": {
  "kernelspec": {
   "display_name": "Python 3",
   "language": "python",
   "name": "python3"
  },
  "language_info": {
   "codemirror_mode": {
    "name": "ipython",
    "version": 3
   },
   "file_extension": ".py",
   "mimetype": "text/x-python",
   "name": "python",
   "nbconvert_exporter": "python",
   "pygments_lexer": "ipython3",
   "version": "3.6.1"
  }
 },
 "nbformat": 4,
 "nbformat_minor": 1
}
